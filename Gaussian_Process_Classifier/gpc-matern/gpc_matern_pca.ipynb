{
 "cells": [
  {
   "cell_type": "code",
   "execution_count": 1,
   "id": "897d1d90-d079-4604-951a-0196a72c48a5",
   "metadata": {},
   "outputs": [
    {
     "name": "stderr",
     "output_type": "stream",
     "text": [
      "E:\\Programs\\ProgramFiles\\anaconda3\\envs\\edsPyR\\lib\\site-packages\\scipy\\__init__.py:146: UserWarning: A NumPy version >=1.16.5 and <1.23.0 is required for this version of SciPy (detected version 1.23.1\n",
      "  warnings.warn(f\"A NumPy version >={np_minversion} and <{np_maxversion}\"\n"
     ]
    }
   ],
   "source": [
    "import pandas as pd\n",
    "import numpy as np\n",
    "import scipy as sp\n",
    "from scipy.io import arff\n",
    "from scipy import stats\n",
    "import matplotlib.pyplot as plt\n",
    "from sklearn.model_selection import train_test_split\n",
    "from sklearn.preprocessing import MinMaxScaler"
   ]
  },
  {
   "cell_type": "code",
   "execution_count": 2,
   "id": "0db976c0-87f7-481f-a12b-87b84119ac76",
   "metadata": {},
   "outputs": [
    {
     "data": {
      "text/html": [
       "<div>\n",
       "<style scoped>\n",
       "    .dataframe tbody tr th:only-of-type {\n",
       "        vertical-align: middle;\n",
       "    }\n",
       "\n",
       "    .dataframe tbody tr th {\n",
       "        vertical-align: top;\n",
       "    }\n",
       "\n",
       "    .dataframe thead th {\n",
       "        text-align: right;\n",
       "    }\n",
       "</style>\n",
       "<table border=\"1\" class=\"dataframe\">\n",
       "  <thead>\n",
       "    <tr style=\"text-align: right;\">\n",
       "      <th></th>\n",
       "      <th>AF3</th>\n",
       "      <th>F7</th>\n",
       "      <th>F3</th>\n",
       "      <th>FC5</th>\n",
       "      <th>T7</th>\n",
       "      <th>P7</th>\n",
       "      <th>O1</th>\n",
       "      <th>O2</th>\n",
       "      <th>P8</th>\n",
       "      <th>T8</th>\n",
       "      <th>FC6</th>\n",
       "      <th>F4</th>\n",
       "      <th>F8</th>\n",
       "      <th>AF4</th>\n",
       "      <th>EYEST</th>\n",
       "    </tr>\n",
       "  </thead>\n",
       "  <tbody>\n",
       "    <tr>\n",
       "      <th>0</th>\n",
       "      <td>4329.23</td>\n",
       "      <td>4009.23</td>\n",
       "      <td>4289.23</td>\n",
       "      <td>4148.21</td>\n",
       "      <td>4350.26</td>\n",
       "      <td>4586.15</td>\n",
       "      <td>4096.92</td>\n",
       "      <td>4641.03</td>\n",
       "      <td>4222.05</td>\n",
       "      <td>4238.46</td>\n",
       "      <td>4211.28</td>\n",
       "      <td>4280.51</td>\n",
       "      <td>4635.90</td>\n",
       "      <td>4393.85</td>\n",
       "      <td>b'0'</td>\n",
       "    </tr>\n",
       "    <tr>\n",
       "      <th>1</th>\n",
       "      <td>4324.62</td>\n",
       "      <td>4004.62</td>\n",
       "      <td>4293.85</td>\n",
       "      <td>4148.72</td>\n",
       "      <td>4342.05</td>\n",
       "      <td>4586.67</td>\n",
       "      <td>4097.44</td>\n",
       "      <td>4638.97</td>\n",
       "      <td>4210.77</td>\n",
       "      <td>4226.67</td>\n",
       "      <td>4207.69</td>\n",
       "      <td>4279.49</td>\n",
       "      <td>4632.82</td>\n",
       "      <td>4384.10</td>\n",
       "      <td>b'0'</td>\n",
       "    </tr>\n",
       "    <tr>\n",
       "      <th>2</th>\n",
       "      <td>4327.69</td>\n",
       "      <td>4006.67</td>\n",
       "      <td>4295.38</td>\n",
       "      <td>4156.41</td>\n",
       "      <td>4336.92</td>\n",
       "      <td>4583.59</td>\n",
       "      <td>4096.92</td>\n",
       "      <td>4630.26</td>\n",
       "      <td>4207.69</td>\n",
       "      <td>4222.05</td>\n",
       "      <td>4206.67</td>\n",
       "      <td>4282.05</td>\n",
       "      <td>4628.72</td>\n",
       "      <td>4389.23</td>\n",
       "      <td>b'0'</td>\n",
       "    </tr>\n",
       "    <tr>\n",
       "      <th>3</th>\n",
       "      <td>4328.72</td>\n",
       "      <td>4011.79</td>\n",
       "      <td>4296.41</td>\n",
       "      <td>4155.90</td>\n",
       "      <td>4343.59</td>\n",
       "      <td>4582.56</td>\n",
       "      <td>4097.44</td>\n",
       "      <td>4630.77</td>\n",
       "      <td>4217.44</td>\n",
       "      <td>4235.38</td>\n",
       "      <td>4210.77</td>\n",
       "      <td>4287.69</td>\n",
       "      <td>4632.31</td>\n",
       "      <td>4396.41</td>\n",
       "      <td>b'0'</td>\n",
       "    </tr>\n",
       "    <tr>\n",
       "      <th>4</th>\n",
       "      <td>4326.15</td>\n",
       "      <td>4011.79</td>\n",
       "      <td>4292.31</td>\n",
       "      <td>4151.28</td>\n",
       "      <td>4347.69</td>\n",
       "      <td>4586.67</td>\n",
       "      <td>4095.90</td>\n",
       "      <td>4627.69</td>\n",
       "      <td>4210.77</td>\n",
       "      <td>4244.10</td>\n",
       "      <td>4212.82</td>\n",
       "      <td>4288.21</td>\n",
       "      <td>4632.82</td>\n",
       "      <td>4398.46</td>\n",
       "      <td>b'0'</td>\n",
       "    </tr>\n",
       "  </tbody>\n",
       "</table>\n",
       "</div>"
      ],
      "text/plain": [
       "       AF3       F7       F3      FC5       T7       P7       O1       O2  \\\n",
       "0  4329.23  4009.23  4289.23  4148.21  4350.26  4586.15  4096.92  4641.03   \n",
       "1  4324.62  4004.62  4293.85  4148.72  4342.05  4586.67  4097.44  4638.97   \n",
       "2  4327.69  4006.67  4295.38  4156.41  4336.92  4583.59  4096.92  4630.26   \n",
       "3  4328.72  4011.79  4296.41  4155.90  4343.59  4582.56  4097.44  4630.77   \n",
       "4  4326.15  4011.79  4292.31  4151.28  4347.69  4586.67  4095.90  4627.69   \n",
       "\n",
       "        P8       T8      FC6       F4       F8      AF4 EYEST  \n",
       "0  4222.05  4238.46  4211.28  4280.51  4635.90  4393.85  b'0'  \n",
       "1  4210.77  4226.67  4207.69  4279.49  4632.82  4384.10  b'0'  \n",
       "2  4207.69  4222.05  4206.67  4282.05  4628.72  4389.23  b'0'  \n",
       "3  4217.44  4235.38  4210.77  4287.69  4632.31  4396.41  b'0'  \n",
       "4  4210.77  4244.10  4212.82  4288.21  4632.82  4398.46  b'0'  "
      ]
     },
     "execution_count": 2,
     "metadata": {},
     "output_type": "execute_result"
    }
   ],
   "source": [
    "# load data from file\n",
    "eeg_data = arff.loadarff(\"/Users/sjw19206/7135CEM/eye-state-classification-dataset/EEG_Eye_State.arff\")\n",
    "# load data into dataframe\n",
    "eeg_df = pd.DataFrame(eeg_data[0])\n",
    "# rename column\n",
    "eeg_df = eeg_df.rename(columns={\"eyeDetection\":\"EYEST\"})\n",
    "# display first five rows\n",
    "eeg_df.head(5)"
   ]
  },
  {
   "cell_type": "code",
   "execution_count": 3,
   "id": "076299f7-6ce1-4793-b0db-88e2f213599a",
   "metadata": {},
   "outputs": [],
   "source": [
    "# converting type of 'EYEST' - byte to integer\n",
    "eeg_df_iv = eeg_df.drop('EYEST', axis = 1)\n",
    "eeg_df_tv = eeg_df['EYEST'].astype(int)\n",
    "eeg_df_upd = pd.concat([eeg_df_iv, eeg_df_tv], axis = 1)"
   ]
  },
  {
   "cell_type": "code",
   "execution_count": 4,
   "id": "878f8a06-da3a-4991-a2f6-c5a2ed5ef2b0",
   "metadata": {},
   "outputs": [],
   "source": [
    "# detect and remove outliers\n",
    "z_scores = stats.zscore(eeg_df_upd)\n",
    "abs_z_scores = np.abs(z_scores)\n",
    "filtered_entries = (abs_z_scores < 5).all(axis=1)\n",
    "eeg_df_ro = eeg_df_upd[filtered_entries]\n",
    "# reset index\n",
    "eeg_df_ro = eeg_df_ro.reset_index(drop=True)"
   ]
  },
  {
   "cell_type": "code",
   "execution_count": 5,
   "id": "c307e8a1-7da9-4fb4-9234-2c3de20a75f6",
   "metadata": {},
   "outputs": [],
   "source": [
    "# we choose 120 window size to reduce data fluctuations\n",
    "window_size = 120\n",
    "\n",
    "# applying moving average\n",
    "eeg_df_pma = eeg_df_ro.copy()\n",
    "eeg_df_ma = eeg_df_ro.copy()\n",
    "for f in eeg_df_ro.columns[:-1]:\n",
    "    eeg_df_ma[f] = eeg_df_pma[f].rolling(window=window_size, center=False).mean()"
   ]
  },
  {
   "cell_type": "code",
   "execution_count": 6,
   "id": "1ee89014-9bd0-4eae-bc7e-b68301f33bef",
   "metadata": {},
   "outputs": [
    {
     "data": {
      "text/plain": [
       "True"
      ]
     },
     "execution_count": 6,
     "metadata": {},
     "output_type": "execute_result"
    }
   ],
   "source": [
    "eeg_df_ma.isnull().values.any()"
   ]
  },
  {
   "cell_type": "code",
   "execution_count": 7,
   "id": "8facc855-e781-42c3-9ea4-2d4883660d1b",
   "metadata": {},
   "outputs": [
    {
     "name": "stdout",
     "output_type": "stream",
     "text": [
      "(14976, 15)\n",
      "(14857, 15)\n"
     ]
    }
   ],
   "source": [
    "# drop NaN\n",
    "eeg_df_ma = eeg_df_ma.dropna()\n",
    "eeg_df_ma = eeg_df_ma.reset_index(drop=True)\n",
    "print(eeg_df_ro.shape)\n",
    "print(eeg_df_ma.shape)"
   ]
  },
  {
   "cell_type": "code",
   "execution_count": 8,
   "id": "2830e712-1d4a-4cff-b198-c2ccc36a08d2",
   "metadata": {},
   "outputs": [
    {
     "data": {
      "text/html": [
       "<div>\n",
       "<style scoped>\n",
       "    .dataframe tbody tr th:only-of-type {\n",
       "        vertical-align: middle;\n",
       "    }\n",
       "\n",
       "    .dataframe tbody tr th {\n",
       "        vertical-align: top;\n",
       "    }\n",
       "\n",
       "    .dataframe thead th {\n",
       "        text-align: right;\n",
       "    }\n",
       "</style>\n",
       "<table border=\"1\" class=\"dataframe\">\n",
       "  <thead>\n",
       "    <tr style=\"text-align: right;\">\n",
       "      <th></th>\n",
       "      <th>AF3</th>\n",
       "      <th>F7</th>\n",
       "      <th>F3</th>\n",
       "      <th>FC5</th>\n",
       "      <th>T7</th>\n",
       "      <th>P7</th>\n",
       "      <th>O1</th>\n",
       "      <th>O2</th>\n",
       "      <th>P8</th>\n",
       "      <th>T8</th>\n",
       "      <th>FC6</th>\n",
       "      <th>F4</th>\n",
       "      <th>F8</th>\n",
       "      <th>AF4</th>\n",
       "      <th>EYEST</th>\n",
       "    </tr>\n",
       "  </thead>\n",
       "  <tbody>\n",
       "    <tr>\n",
       "      <th>0</th>\n",
       "      <td>0.490475</td>\n",
       "      <td>0.418271</td>\n",
       "      <td>0.318758</td>\n",
       "      <td>0.360048</td>\n",
       "      <td>0.183500</td>\n",
       "      <td>0.118699</td>\n",
       "      <td>0.445689</td>\n",
       "      <td>0.261206</td>\n",
       "      <td>0.270500</td>\n",
       "      <td>0.313864</td>\n",
       "      <td>0.417336</td>\n",
       "      <td>0.320584</td>\n",
       "      <td>0.532195</td>\n",
       "      <td>0.579140</td>\n",
       "      <td>0</td>\n",
       "    </tr>\n",
       "    <tr>\n",
       "      <th>1</th>\n",
       "      <td>0.489677</td>\n",
       "      <td>0.418033</td>\n",
       "      <td>0.317462</td>\n",
       "      <td>0.358350</td>\n",
       "      <td>0.183461</td>\n",
       "      <td>0.119844</td>\n",
       "      <td>0.445423</td>\n",
       "      <td>0.260338</td>\n",
       "      <td>0.269485</td>\n",
       "      <td>0.313744</td>\n",
       "      <td>0.417965</td>\n",
       "      <td>0.321201</td>\n",
       "      <td>0.531864</td>\n",
       "      <td>0.578103</td>\n",
       "      <td>0</td>\n",
       "    </tr>\n",
       "    <tr>\n",
       "      <th>2</th>\n",
       "      <td>0.489240</td>\n",
       "      <td>0.417944</td>\n",
       "      <td>0.316102</td>\n",
       "      <td>0.356582</td>\n",
       "      <td>0.183693</td>\n",
       "      <td>0.121245</td>\n",
       "      <td>0.445081</td>\n",
       "      <td>0.259659</td>\n",
       "      <td>0.269711</td>\n",
       "      <td>0.314646</td>\n",
       "      <td>0.418856</td>\n",
       "      <td>0.322187</td>\n",
       "      <td>0.531864</td>\n",
       "      <td>0.577616</td>\n",
       "      <td>0</td>\n",
       "    </tr>\n",
       "    <tr>\n",
       "      <th>3</th>\n",
       "      <td>0.488393</td>\n",
       "      <td>0.417855</td>\n",
       "      <td>0.314450</td>\n",
       "      <td>0.354177</td>\n",
       "      <td>0.184274</td>\n",
       "      <td>0.122561</td>\n",
       "      <td>0.444474</td>\n",
       "      <td>0.259546</td>\n",
       "      <td>0.270689</td>\n",
       "      <td>0.315999</td>\n",
       "      <td>0.419747</td>\n",
       "      <td>0.322773</td>\n",
       "      <td>0.532001</td>\n",
       "      <td>0.577045</td>\n",
       "      <td>0</td>\n",
       "    </tr>\n",
       "    <tr>\n",
       "      <th>4</th>\n",
       "      <td>0.487037</td>\n",
       "      <td>0.417292</td>\n",
       "      <td>0.312216</td>\n",
       "      <td>0.351560</td>\n",
       "      <td>0.184429</td>\n",
       "      <td>0.123591</td>\n",
       "      <td>0.443714</td>\n",
       "      <td>0.259093</td>\n",
       "      <td>0.270087</td>\n",
       "      <td>0.315788</td>\n",
       "      <td>0.420009</td>\n",
       "      <td>0.322496</td>\n",
       "      <td>0.531650</td>\n",
       "      <td>0.575860</td>\n",
       "      <td>0</td>\n",
       "    </tr>\n",
       "  </tbody>\n",
       "</table>\n",
       "</div>"
      ],
      "text/plain": [
       "        AF3        F7        F3       FC5        T7        P7        O1  \\\n",
       "0  0.490475  0.418271  0.318758  0.360048  0.183500  0.118699  0.445689   \n",
       "1  0.489677  0.418033  0.317462  0.358350  0.183461  0.119844  0.445423   \n",
       "2  0.489240  0.417944  0.316102  0.356582  0.183693  0.121245  0.445081   \n",
       "3  0.488393  0.417855  0.314450  0.354177  0.184274  0.122561  0.444474   \n",
       "4  0.487037  0.417292  0.312216  0.351560  0.184429  0.123591  0.443714   \n",
       "\n",
       "         O2        P8        T8       FC6        F4        F8       AF4  EYEST  \n",
       "0  0.261206  0.270500  0.313864  0.417336  0.320584  0.532195  0.579140      0  \n",
       "1  0.260338  0.269485  0.313744  0.417965  0.321201  0.531864  0.578103      0  \n",
       "2  0.259659  0.269711  0.314646  0.418856  0.322187  0.531864  0.577616      0  \n",
       "3  0.259546  0.270689  0.315999  0.419747  0.322773  0.532001  0.577045      0  \n",
       "4  0.259093  0.270087  0.315788  0.420009  0.322496  0.531650  0.575860      0  "
      ]
     },
     "execution_count": 8,
     "metadata": {},
     "output_type": "execute_result"
    }
   ],
   "source": [
    "min_max_scaler = MinMaxScaler()\n",
    "eeg_df_iv = eeg_df_ma.drop('EYEST', axis = 1)\n",
    "eeg_df_tv = eeg_df_ma['EYEST']\n",
    "eeg_df_scaled = min_max_scaler.fit_transform(eeg_df_iv.to_numpy())\n",
    "eeg_df_scaled = pd.DataFrame(eeg_df_scaled, columns=['AF3', 'F7', 'F3', 'FC5', 'T7', 'P7', 'O1', 'O2', 'P8', 'T8', 'FC6', 'F4', 'F8', 'AF4'])\n",
    "eeg_df_scaled = pd.concat([eeg_df_scaled, eeg_df_tv], axis = 1)\n",
    "eeg_df_scaled.head(5)"
   ]
  },
  {
   "cell_type": "code",
   "execution_count": 9,
   "id": "444af88e-a414-40b9-a11d-714ec14251ac",
   "metadata": {},
   "outputs": [],
   "source": [
    "# Split data 80% for training 20% for testing \n",
    "x_train, x_test, y_train, y_test = train_test_split(eeg_df_scaled[eeg_df_scaled.columns[:-1]], eeg_df_scaled['EYEST'],\n",
    "                                                        test_size=0.20, shuffle=False)"
   ]
  },
  {
   "cell_type": "code",
   "execution_count": 10,
   "id": "7dd71d73-c7a7-47b9-ad2f-1b67a3d9b926",
   "metadata": {},
   "outputs": [
    {
     "name": "stdout",
     "output_type": "stream",
     "text": [
      "x_train length: 11885\n",
      "y_train length: 11885\n",
      "\n",
      "x_test length: 2972\n",
      "y_test length: 2972\n"
     ]
    }
   ],
   "source": [
    "# Train data\n",
    "print('x_train length:', len(x_train))\n",
    "print('y_train length:', len(y_train))\n",
    "print()\n",
    "# Test/Validation data\n",
    "print('x_test length:', len(x_test))\n",
    "print('y_test length:', len(y_test))"
   ]
  },
  {
   "cell_type": "code",
   "execution_count": 11,
   "id": "70422e98-132f-4e8f-b006-43d08cbf663f",
   "metadata": {},
   "outputs": [],
   "source": [
    "np_x_train = x_train.values \n",
    "np_y_train = y_train.values\n",
    "np_x_test = x_test.values\n",
    "np_y_test = y_test.values"
   ]
  },
  {
   "cell_type": "code",
   "execution_count": 12,
   "id": "f239b0df-42f7-4cce-bc59-c5ae22e37287",
   "metadata": {},
   "outputs": [],
   "source": [
    "from sklearn.decomposition import PCA\n",
    "pca = PCA(n_components=6)\n",
    "np_x_test_pca = pca.fit_transform(np_x_test)\n",
    "np_x_train_pca = pca.fit_transform(np_x_train)"
   ]
  },
  {
   "cell_type": "code",
   "execution_count": 13,
   "id": "69c241fa-e2be-4720-99b7-5fb7d32eae13",
   "metadata": {},
   "outputs": [
    {
     "name": "stderr",
     "output_type": "stream",
     "text": [
      "E:\\Programs\\ProgramFiles\\anaconda3\\envs\\edsPyR\\lib\\site-packages\\sklearn\\gaussian_process\\kernels.py:430: ConvergenceWarning: The optimal value found for dimension 0 of parameter k1__constant_value is close to the specified upper bound 100000.0. Increasing the bound and calling fit again may find a better value.\n",
      "  warnings.warn(\n"
     ]
    }
   ],
   "source": [
    "from sklearn.gaussian_process.kernels import RBF, DotProduct, WhiteKernel, Matern\n",
    "from sklearn.gaussian_process import GaussianProcessClassifier\n",
    "\n",
    "# model\n",
    "kernel = 1.0 * Matern()\n",
    "gpc = GaussianProcessClassifier(kernel=kernel, random_state=0).fit(np_x_train_pca, np_y_train)"
   ]
  },
  {
   "cell_type": "code",
   "execution_count": 14,
   "id": "b3af75c5-ff17-43a7-8682-525dccb02851",
   "metadata": {},
   "outputs": [],
   "source": [
    "prediction = gpc.predict(np_x_test_pca)"
   ]
  },
  {
   "cell_type": "code",
   "execution_count": 15,
   "id": "96106cf1-ba9d-4657-a1ca-8c6498359248",
   "metadata": {},
   "outputs": [
    {
     "name": "stdout",
     "output_type": "stream",
     "text": [
      "Accuracy :  0.5864737550471063\n",
      "Precision :  0.10358890701468189\n",
      "Recall :  0.49416342412451364\n",
      "F1-score :  0.17127444369521239\n"
     ]
    }
   ],
   "source": [
    "from sklearn.metrics import accuracy_score, precision_score, recall_score, f1_score\n",
    "print('Accuracy : ', accuracy_score(np_y_test, prediction))\n",
    "print('Precision : ', precision_score(np_y_test, prediction))\n",
    "print('Recall : ', recall_score(np_y_test, prediction))\n",
    "print('F1-score : ', f1_score(np_y_test, prediction))"
   ]
  },
  {
   "cell_type": "code",
   "execution_count": 16,
   "id": "fc5d56a4-a020-4427-8693-3f884398f1ca",
   "metadata": {},
   "outputs": [
    {
     "data": {
      "image/png": "[encoded data removed]",
      "text/plain": [
       "<Figure size 432x288 with 2 Axes>"
      ]
     },
     "metadata": {
      "needs_background": "light"
     },
     "output_type": "display_data"
    }
   ],
   "source": [
    "from sklearn.metrics import confusion_matrix, ConfusionMatrixDisplay\n",
    "confusion_matrix(np_y_test, prediction)\n",
    "cm = confusion_matrix(np_y_test, prediction, labels= gpc.classes_)\n",
    "disp = ConfusionMatrixDisplay(confusion_matrix = cm, display_labels=gpc.classes_)\n",
    "disp.plot()\n",
    "plt.show()"
   ]
  },
  {
   "cell_type": "code",
   "execution_count": null,
   "id": "5d4783c7-f654-4d7e-8260-2bc0b593175b",
   "metadata": {},
   "outputs": [],
   "source": []
  },
  {
   "cell_type": "code",
   "execution_count": null,
   "id": "1c2cfa6e-3091-4c74-bb48-6a2f94c7a52a",
   "metadata": {},
   "outputs": [],
   "source": []
  },
  {
   "cell_type": "code",
   "execution_count": null,
   "id": "511b19bb-eb11-4ba5-bc04-9de02ba9a1a6",
   "metadata": {},
   "outputs": [],
   "source": []
  },
  {
   "cell_type": "code",
   "execution_count": null,
   "id": "1693adba-d6e0-4ed8-b2d5-9893207b68b7",
   "metadata": {},
   "outputs": [],
   "source": []
  },
  {
   "cell_type": "code",
   "execution_count": null,
   "id": "f37d2691-9fb7-4b12-9921-cdb6b46f8bd0",
   "metadata": {},
   "outputs": [],
   "source": []
  },
  {
   "cell_type": "code",
   "execution_count": null,
   "id": "bbe2b357-1045-4005-9924-7aa318784208",
   "metadata": {},
   "outputs": [],
   "source": []
  },
  {
   "cell_type": "code",
   "execution_count": null,
   "id": "d2033755-14e1-4227-911e-715bd95d87d9",
   "metadata": {},
   "outputs": [],
   "source": []
  },
  {
   "cell_type": "code",
   "execution_count": null,
   "id": "baa9d004-0168-4d8d-b4b5-cd94cf048008",
   "metadata": {},
   "outputs": [],
   "source": []
  },
  {
   "cell_type": "code",
   "execution_count": null,
   "id": "af83d3e5-fa2e-4b86-a8e1-03ff4ef9a940",
   "metadata": {},
   "outputs": [],
   "source": []
  },
  {
   "cell_type": "code",
   "execution_count": null,
   "id": "ffec5402-26ba-4978-9c8c-779ef0270567",
   "metadata": {},
   "outputs": [],
   "source": []
  },
  {
   "cell_type": "code",
   "execution_count": null,
   "id": "39fa9cc9-6347-4c63-96b4-7427928d20e5",
   "metadata": {},
   "outputs": [],
   "source": []
  },
  {
   "cell_type": "code",
   "execution_count": null,
   "id": "f4d8883d-8c0a-4307-88bd-d873913fbf35",
   "metadata": {},
   "outputs": [],
   "source": []
  },
  {
   "cell_type": "code",
   "execution_count": null,
   "id": "978443be-0065-41b9-b253-e8d0faf5e406",
   "metadata": {},
   "outputs": [],
   "source": []
  },
  {
   "cell_type": "code",
   "execution_count": null,
   "id": "b2118549-c3ec-450f-9818-47ff2c0c544e",
   "metadata": {},
   "outputs": [],
   "source": []
  },
  {
   "cell_type": "code",
   "execution_count": null,
   "id": "8f8bcb68-6665-4ea5-a51a-d9165aa7130b",
   "metadata": {},
   "outputs": [],
   "source": []
  },
  {
   "cell_type": "code",
   "execution_count": null,
   "id": "92c1e9c3-de02-45c3-915a-84db77d0ceeb",
   "metadata": {},
   "outputs": [],
   "source": []
  },
  {
   "cell_type": "code",
   "execution_count": null,
   "id": "69635aa1-9da2-4dac-998a-ce189fe2fa4f",
   "metadata": {},
   "outputs": [],
   "source": []
  },
  {
   "cell_type": "code",
   "execution_count": null,
   "id": "0e80abbe-2d02-4d14-97b4-c9d1b01608eb",
   "metadata": {},
   "outputs": [],
   "source": []
  },
  {
   "cell_type": "code",
   "execution_count": null,
   "id": "868eff92-7fa3-453b-9b3d-a388460d78e8",
   "metadata": {},
   "outputs": [],
   "source": []
  },
  {
   "cell_type": "code",
   "execution_count": null,
   "id": "e227aa6f-bb90-426a-9d1b-27e196e35d11",
   "metadata": {},
   "outputs": [],
   "source": []
  },
  {
   "cell_type": "code",
   "execution_count": null,
   "id": "2cd23968-73b4-407b-8865-5a9f70b44714",
   "metadata": {},
   "outputs": [],
   "source": []
  },
  {
   "cell_type": "code",
   "execution_count": null,
   "id": "3a862a57-1693-4db3-b60c-afcb36bae3c2",
   "metadata": {},
   "outputs": [],
   "source": []
  },
  {
   "cell_type": "code",
   "execution_count": null,
   "id": "6dc2f615-5729-4465-ad40-3b4bd6bd6aa9",
   "metadata": {},
   "outputs": [],
   "source": []
  },
  {
   "cell_type": "code",
   "execution_count": null,
   "id": "ff8b57db-d5d6-4fe8-9936-61ba591e2f66",
   "metadata": {},
   "outputs": [],
   "source": []
  },
  {
   "cell_type": "code",
   "execution_count": null,
   "id": "52364fad-cfc2-4451-82fc-7da3a26273bf",
   "metadata": {},
   "outputs": [],
   "source": []
  },
  {
   "cell_type": "code",
   "execution_count": null,
   "id": "c6651d91-03b0-43e9-a0b9-555964a57b3e",
   "metadata": {},
   "outputs": [],
   "source": []
  },
  {
   "cell_type": "code",
   "execution_count": null,
   "id": "78009a52-b976-4acd-9977-39a5eb885c30",
   "metadata": {},
   "outputs": [],
   "source": []
  },
  {
   "cell_type": "code",
   "execution_count": null,
   "id": "b8a0e4a5-ad81-4573-8081-d1c205aa386a",
   "metadata": {},
   "outputs": [],
   "source": []
  }
 ],
 "metadata": {
  "kernelspec": {
   "display_name": "Python 3 (ipykernel)",
   "language": "python",
   "name": "python3"
  },
  "language_info": {
   "codemirror_mode": {
    "name": "ipython",
    "version": 3
   },
   "file_extension": ".py",
   "mimetype": "text/x-python",
   "name": "python",
   "nbconvert_exporter": "python",
   "pygments_lexer": "ipython3",
   "version": "3.9.12"
  }
 },
 "nbformat": 4,
 "nbformat_minor": 5
}
