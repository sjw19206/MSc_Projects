{
 "cells": [
  {
   "cell_type": "code",
   "execution_count": null,
   "id": "232b4a04-ea93-449f-8a47-2564249aca28",
   "metadata": {},
   "outputs": [],
   "source": [
    "#import statement\n",
    "from tcn import TCN\n",
    "\n",
    "tcn_layer = TCN(input_shape=(timesteps, n_dim), nb_filters=12,kernel_size=3,nb_stacks=1,dilations=(1, 2, 4, 8, 16, 32),\n",
    "        padding='causal',use_skip_connections=True,dropout_rate=0.007,return_sequences=True,\n",
    "        activation='relu',kernel_initializer='he_normal',use_batch_norm=False,use_layer_norm=False,use_weight_norm=False)"
   ]
  }
 ],
 "metadata": {
  "kernelspec": {
   "display_name": "",
   "name": ""
  },
  "language_info": {
   "name": ""
  }
 },
 "nbformat": 4,
 "nbformat_minor": 5
}
