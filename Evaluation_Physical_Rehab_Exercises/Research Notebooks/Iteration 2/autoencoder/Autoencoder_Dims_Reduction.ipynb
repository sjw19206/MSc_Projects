{
 "cells": [
  {
   "cell_type": "code",
   "execution_count": null,
   "metadata": {
    "colab": {
     "base_uri": "https://localhost:8080/",
     "height": 80
    },
    "colab_type": "code",
    "id": "pe4OlA2sYBni",
    "outputId": "aebd2767-1ef4-4c83-8cd0-8237973436e1"
   },
   "outputs": [],
   "source": [
    "# Autoencoder neural network for dimensionality reduction of rehabilitation movement data\n",
    "\n",
    "from __future__ import print_function\n",
    "import numpy as np\n",
    "np.random.seed(1337)  # for reproducibility\n",
    "\n",
    "\n",
    "# It is strongly recommended to use a GPU for this step, otherwise the training may take a very long time\n",
    "# If you do use a CPU, replace CuDDLSTM with LSTM below, and also in cell 5\n",
    "from keras.models import Model\n",
    "from keras.layers import Input, CuDNNLSTM, LSTM\n",
    "from keras.utils import np_utils\n",
    "from keras.callbacks import EarlyStopping\n",
    "\n",
    "import tensorflow as tf\n",
    "\n",
    "import matplotlib.pyplot as plt\n",
    "%matplotlib inline\n",
    "\n",
    "import datetime\n",
    "now = datetime.datetime.now\n",
    "\n",
    "batch_size = 10\n",
    "\n",
    "# length of data sequences\n",
    "n_timesteps = 240\n",
    "# dimension of data sequences\n",
    "n_dim = 117"
   ]
  },
  {
   "cell_type": "code",
   "execution_count": null,
   "metadata": {
    "colab": {
     "base_uri": "https://localhost:8080/",
     "height": 475
    },
    "colab_type": "code",
    "id": "Q8mFXPg3mi3k",
    "outputId": "083a1e82-cde5-43f0-9cbf-55f7d16ca544"
   },
   "outputs": [],
   "source": [
    "# Import the data\n",
    "import M01ViconDataLoader\n",
    "X_correct, X_incorrect = M01ViconDataLoader.load_data()\n",
    "\n",
    "print(X_correct.shape, 'correct sequences')\n",
    "print(X_incorrect.shape, 'incorrect sequences')\n",
    "\n",
    "# Plot the first sequences of correct and incorrect data\n",
    "plt.figure(figsize = (12,6))\n",
    "plt.subplot(1,2,1)\n",
    "plt.plot(X_correct[0])\n",
    "plt.ylim([-1,1])\n",
    "plt.subplot(1,2,2)\n",
    "plt.plot(X_incorrect[0])\n",
    "plt.ylim([-1,1])\n",
    "plt.tight_layout()\n",
    "plt.show()"
   ]
  },
  {
   "cell_type": "code",
   "execution_count": null,
   "metadata": {
    "colab": {
     "base_uri": "https://localhost:8080/",
     "height": 441
    },
    "colab_type": "code",
    "id": "irNt8aWZmi3o",
    "outputId": "98a3a3d2-a54b-4726-bd9b-832a46543b9e"
   },
   "outputs": [],
   "source": [
    "# Add 50 time frames at the beginning and end of sequences\n",
    "# The autoencoder has difficulties with the beginning and ending frames\n",
    "data_correct = np.zeros((X_correct.shape[0],n_timesteps+100,n_dim))\n",
    "for i in range(X_correct.shape[0]):\n",
    "    data_correct[i,:,:] = np.concatenate((np.concatenate((np.tile(X_correct[i,0,:],[50, 1]), X_correct[i,:,:])), np.tile(X_correct[i,-1,:],[50, 1])))\n",
    "\n",
    "data_incorrect = np.zeros((X_incorrect.shape[0],n_timesteps+100,n_dim))\n",
    "for i in range(X_incorrect.shape[0]):\n",
    "    data_incorrect[i,:,:] = np.concatenate((np.concatenate((np.tile(X_incorrect[i,0,:],[50, 1]), X_incorrect[i,:,:])), np.tile(X_incorrect[i,-1,:],[50, 1])))\n",
    "    \n",
    "# Plot the first sequences of correct and incorrect data\n",
    "plt.figure(figsize = (12,6))\n",
    "plt.subplot(1,2,1)\n",
    "plt.plot(data_correct[0])\n",
    "plt.ylim([-1,1])\n",
    "plt.subplot(1,2,2)\n",
    "plt.plot(data_incorrect[0])\n",
    "plt.ylim([-1,1])\n",
    "plt.tight_layout()\n",
    "plt.show()"
   ]
  },
  {
   "cell_type": "code",
   "execution_count": null,
   "metadata": {
    "colab": {
     "base_uri": "https://localhost:8080/",
     "height": 547
    },
    "colab_type": "code",
    "id": "gdKt08dbmi3s",
    "outputId": "aa2b09d0-6c83-4db8-acaf-57d52d6eb699"
   },
   "outputs": [],
   "source": [
    "# Encoder layers\n",
    "input_seq = Input(shape=(n_timesteps+100,n_dim))\n",
    "encoded1 = LSTM(30,return_sequences = True)(input_seq)\n",
    "encoded2 = LSTM(10,return_sequences = True)(encoded1)\n",
    "# Encoded representation of the input, 340x4 vector\n",
    "encoded = LSTM(4,return_sequences = True)(encoded2)\n",
    "# Decoder layers\n",
    "decoded1 = LSTM(10,return_sequences = True)(encoded)\n",
    "decoded2 = LSTM(30,return_sequences = True)(decoded1)\n",
    "decoded = LSTM(n_dim, return_sequences = True)(decoded2)\n",
    "\n",
    "# The model maps an input to its reconstruction\n",
    "autoencoder = Model(inputs=input_seq, outputs=decoded)\n",
    "autoencoder.compile(optimizer='adam', loss='mse')\n",
    "autoencoder.summary()"
   ]
  },
  {
   "cell_type": "code",
   "execution_count": null,
   "metadata": {
    "colab": {},
    "colab_type": "code",
    "id": "QScZggzemi3v"
   },
   "outputs": [],
   "source": [
    "# Shuffle the sequences to create a training and validation sets\n",
    "import random\n",
    "trainidx = random.sample(range(0,data_correct.shape[0]),63)\n",
    "valididx = np.setdiff1d(np.arange(0,90,1),trainidx)\n",
    "train_data = data_correct[trainidx,:,:]\n",
    "valid_data = data_correct[valididx,:,:]"
   ]
  },
  {
   "cell_type": "code",
   "execution_count": null,
   "metadata": {
    "colab": {
     "base_uri": "https://localhost:8080/",
     "height": 326
    },
    "colab_type": "code",
    "id": "XYu6FgV2mi3z",
    "outputId": "19f2fcc0-a3ef-4f93-baba-a69b13e74007"
   },
   "outputs": [],
   "source": [
    "# Train an autoencoder on the correct data sequences\n",
    "\n",
    "# Measure the training time \n",
    "t = now()\n",
    "\n",
    "# Request to stop before reaching the number of epochs if the validation loss does not decrease for 1000 epochs\n",
    "early_stopping = EarlyStopping(monitor='val_loss', patience = 1000)\n",
    "\n",
    "history = autoencoder.fit(train_data, train_data, epochs = 10000, batch_size = batch_size, shuffle=True,\n",
    "                validation_data=(valid_data, valid_data), verbose = 0, callbacks = [early_stopping])\n",
    "\n",
    "print('Training time: %s' % (now() - t))"
   ]
  },
  {
   "cell_type": "code",
   "execution_count": null,
   "metadata": {
    "colab": {
     "base_uri": "https://localhost:8080/",
     "height": 331
    },
    "colab_type": "code",
    "id": "BnJbMGaWmi32",
    "outputId": "9621b513-f333-43e0-cd9c-fad39556d613"
   },
   "outputs": [],
   "source": [
    "# Plot the training and validation results\n",
    "plt.figure(1)\n",
    "plt.subplot(121)\n",
    "plt.plot(history.history['loss'])\n",
    "plt.title('Loss')\n",
    "plt.subplot(122)\n",
    "plt.plot(history.history['val_loss'])\n",
    "plt.title('Validation Loss')\n",
    "plt.tight_layout()\n",
    "plt.show()\n",
    "\n",
    "# Print the resulting training and validation loss values\n",
    "print(history.history['loss'][-1])\n",
    "print(history.history['val_loss'][-1])"
   ]
  },
  {
   "cell_type": "code",
   "execution_count": null,
   "metadata": {
    "colab": {
     "base_uri": "https://localhost:8080/",
     "height": 441
    },
    "colab_type": "code",
    "id": "o7TcNMCxmi36",
    "outputId": "cc8e822f-71f6-4d83-b09a-04e265139c7c"
   },
   "outputs": [],
   "source": [
    "# Encode and decode sequences to check the model performance\n",
    "decoded_seqs = autoencoder.predict(data_correct)\n",
    "# Plot the results\n",
    "n = 2  # how many sequences we will display\n",
    "plt.figure(figsize = (12,6))\n",
    "for i in range(n):\n",
    "    # display original sequences\n",
    "    plt.subplot(n, 2, 2*i+1)\n",
    "    plt.plot(data_correct[i])\n",
    "    \n",
    "    # display reconstruction\n",
    "    plt.subplot(n, 2, 2*i+2)\n",
    "    plt.plot(decoded_seqs[i])\n",
    "plt.tight_layout()\n",
    "plt.show()"
   ]
  },
  {
   "cell_type": "code",
   "execution_count": null,
   "metadata": {
    "colab": {
     "base_uri": "https://localhost:8080/",
     "height": 441
    },
    "colab_type": "code",
    "id": "LHgZepcImi39",
    "outputId": "f0978f00-d3f2-4865-ed3a-68e1af180a5f"
   },
   "outputs": [],
   "source": [
    "# Create an encoder model, that maps an input to its encoded representation\n",
    "encoder = Model(inputs=input_seq, outputs=encoded)\n",
    "\n",
    "# Test the encoder model\n",
    "encoded_seqs = encoder.predict(data_correct)\n",
    "\n",
    "# Plot the results\n",
    "n = 2  # how many sequences we will display\n",
    "plt.figure(figsize = (12,6))\n",
    "for i in range(n):\n",
    "    # display original sequences\n",
    "    plt.subplot(n, 2, 2*i+1)\n",
    "    plt.plot(data_correct[i])\n",
    "    \n",
    "    # display reconstruction\n",
    "    plt.subplot(n, 2, 2*i+2)\n",
    "    plt.plot(encoded_seqs[i])\n",
    "plt.tight_layout()\n",
    "plt.show()"
   ]
  },
  {
   "cell_type": "code",
   "execution_count": null,
   "metadata": {
    "colab": {
     "base_uri": "https://localhost:8080/",
     "height": 1000
    },
    "colab_type": "code",
    "id": "t25bdeEWmi4B",
    "outputId": "a4ee2d45-8e21-4060-d82a-b59b6573f700"
   },
   "outputs": [],
   "source": [
    "# Plot all encoded sequences without the first and last 50 time frames\n",
    "plt.figure(figsize = (14,14))\n",
    "for i in range(data_correct.shape[0]):\n",
    "    plt.subplot(4,1,1)\n",
    "    plt.plot(encoded_seqs[i,50:-50,0])\n",
    "    plt.xlabel('Time Frame',fontsize=12)\n",
    "    plt.ylabel('Angle (Degrees)',fontsize=12)\n",
    "    plt.subplot(4,1,2)\n",
    "    plt.plot(encoded_seqs[i,50:-50,1])\n",
    "    plt.xlabel('Time Frame',fontsize=12)\n",
    "    plt.ylabel('Angle (Degrees)',fontsize=12)\n",
    "    plt.subplot(4,1,3)\n",
    "    plt.plot(encoded_seqs[i,50:-50,2])\n",
    "    plt.xlabel('Time Frame',fontsize=12)\n",
    "    plt.ylabel('Angle (Degrees)',fontsize=12)\n",
    "    plt.subplot(4,1,4)\n",
    "    plt.plot(encoded_seqs[i,50:-50,3])\n",
    "    plt.xlabel('Time Frame',fontsize=12)\n",
    "    plt.ylabel('Angle (Degrees)',fontsize=12)\n",
    "plt.tight_layout()\n",
    "plt.show()"
   ]
  },
  {
   "cell_type": "code",
   "execution_count": null,
   "metadata": {
    "colab": {},
    "colab_type": "code",
    "id": "bxa10-_qmi4E"
   },
   "outputs": [],
   "source": [
    "# autoencoder.save_weights('M01_Autoencoder.h5')"
   ]
  },
  {
   "cell_type": "code",
   "execution_count": null,
   "metadata": {
    "colab": {
     "base_uri": "https://localhost:8080/",
     "height": 51
    },
    "colab_type": "code",
    "id": "abClcFOdmi4H",
    "outputId": "0bbf52a1-6330-443c-f98e-35090672fc81"
   },
   "outputs": [],
   "source": [
    "# Remove the added first and last 50 frames \n",
    "encoded_seqs = encoded_seqs[:,50:-50,:]\n",
    "\n",
    "print(encoded_seqs.shape, 'encoded sequences shape')\n",
    "# Reshape the encoded sequences, because savetxt saves two dimensional data\n",
    "seqs = encoded_seqs.reshape(encoded_seqs.shape[0],encoded_seqs.shape[1]*encoded_seqs.shape[2])\n",
    "print(seqs.shape, 'encoded sequences shape for saving')\n",
    "# Save the data in the file 'Autoencoder_Output_Correct.csv'\n",
    "np.savetxt('Autoencoder_Output_Correct.csv', seqs, fmt='%.5f',delimiter=',')"
   ]
  },
  {
   "cell_type": "code",
   "execution_count": null,
   "metadata": {
    "colab": {},
    "colab_type": "code",
    "id": "syD77K28mi4K"
   },
   "outputs": [],
   "source": [
    "# Reduce the dimensionality of the incorrect sequences\n",
    "encoded_seqs_incorrect = encoder.predict(data_incorrect)"
   ]
  },
  {
   "cell_type": "code",
   "execution_count": null,
   "metadata": {
    "colab": {
     "base_uri": "https://localhost:8080/",
     "height": 51
    },
    "colab_type": "code",
    "id": "0NaIqkpbmi4N",
    "outputId": "cd14549a-f352-4eab-95a2-027ff2b0e403"
   },
   "outputs": [],
   "source": [
    "# Remove the added first and last 50 frames \n",
    "encoded_seqs_incorrect = encoded_seqs_incorrect[:,50:-50,:]\n",
    "\n",
    "print(encoded_seqs_incorrect.shape, 'encoded incorrect sequences shape')\n",
    "# Reshape the encoded sequences, because savetxt saves only tow dimensional data\n",
    "seqs_incorrect = encoded_seqs_incorrect.reshape(encoded_seqs_incorrect.shape[0],encoded_seqs_incorrect.shape[1]*encoded_seqs_incorrect.shape[2])\n",
    "print(seqs_incorrect.shape, 'encoded incorrect sequences shape for saving')\n",
    "# Save the incorrect data in the file 'Autoencoder_Output_Incorrect.csv'\n",
    "np.savetxt('Autoencoder_Output_Incorrect.csv', seqs_incorrect, fmt='%.5f',delimiter=',')"
   ]
  }
 ],
 "metadata": {
  "accelerator": "GPU",
  "colab": {
   "collapsed_sections": [],
   "name": "Autoencoder_Dims_Reduction.ipynb",
   "provenance": []
  },
  "kernelspec": {
   "display_name": "Python 3 (ipykernel)",
   "language": "python",
   "name": "python3"
  },
  "language_info": {
   "codemirror_mode": {
    "name": "ipython",
    "version": 3
   },
   "file_extension": ".py",
   "mimetype": "text/x-python",
   "name": "python",
   "nbconvert_exporter": "python",
   "pygments_lexer": "ipython3",
   "version": "3.10.8"
  }
 },
 "nbformat": 4,
 "nbformat_minor": 4
}
