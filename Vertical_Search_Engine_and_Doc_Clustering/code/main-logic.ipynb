{
 "cells": [
  {
   "cell_type": "code",
   "execution_count": 40,
   "id": "213023fa",
   "metadata": {},
   "outputs": [],
   "source": [
    "import numpy as np\n",
    "import pandas as pd\n",
    "import nltk\n",
    "import string\n",
    "import math as mt\n",
    "\n",
    "from nltk.corpus import stopwords\n",
    "from nltk.stem import WordNetLemmatizer\n",
    "from nltk.tokenize import word_tokenize, TreebankWordTokenizer"
   ]
  },
  {
   "cell_type": "code",
   "execution_count": 12,
   "id": "e3fc29ef",
   "metadata": {},
   "outputs": [
    {
     "name": "stderr",
     "output_type": "stream",
     "text": [
      "[nltk_data] Downloading package stopwords to\n",
      "[nltk_data]     C:\\Users\\sjw19206\\AppData\\Roaming\\nltk_data...\n",
      "[nltk_data]   Package stopwords is already up-to-date!\n",
      "[nltk_data] Downloading package wordnet to\n",
      "[nltk_data]     C:\\Users\\sjw19206\\AppData\\Roaming\\nltk_data...\n",
      "[nltk_data]   Package wordnet is already up-to-date!\n",
      "[nltk_data] Downloading package omw-1.4 to\n",
      "[nltk_data]     C:\\Users\\sjw19206\\AppData\\Roaming\\nltk_data...\n"
     ]
    },
    {
     "data": {
      "text/plain": [
       "True"
      ]
     },
     "execution_count": 12,
     "metadata": {},
     "output_type": "execute_result"
    }
   ],
   "source": [
    "# import stop words\n",
    "nltk.download(\"stopwords\")\n",
    "nltk.download('wordnet')\n",
    "nltk.download('omw-1.4')"
   ]
  },
  {
   "cell_type": "code",
   "execution_count": 13,
   "id": "50d2823c",
   "metadata": {},
   "outputs": [],
   "source": [
    "# stop words\n",
    "stop_words = stopwords.words('english')"
   ]
  },
  {
   "cell_type": "code",
   "execution_count": 14,
   "id": "80cd0941",
   "metadata": {},
   "outputs": [],
   "source": [
    "test_docs = ['FDI spillover effects on innovation activities of knowledge using and knowledge creating firms: Evidence from an emerging economy FDI Spillovers Ladders Innovation Activities Spillover Effects Emerging Economies',\n",
    "             'The relative effectiveness of R&D tax credits and R&D subsidies: A comparative Meta-Regression Analysis Meta_Regression Analysis Tax Credits Taxation Regression Analysis Subsidies',\n",
    "             \"An appraisal of Turkey's voluntary individual pension system from a perspective of pension equality Pension Systems Pensions Pension Appraisal\"]"
   ]
  },
  {
   "cell_type": "code",
   "execution_count": 25,
   "id": "aee1222a",
   "metadata": {},
   "outputs": [
    {
     "name": "stdout",
     "output_type": "stream",
     "text": [
      "<--------------->\n",
      "modified docs ::  ['fdi spillover effect innovation activity knowledge using knowledge creating firm evidence emerging economy fdi spillover ladder innovation activity spillover effect emerging economy', 'relative effectiveness rd tax credit rd subsidy comparative metaregression analysis metaregression analysis tax credit taxation regression analysis subsidy', 'appraisal turkey voluntary individual pension system perspective pension equality pension system pension pension appraisal']\n"
     ]
    }
   ],
   "source": [
    "modified_docs  = []\n",
    "\n",
    "wnl = WordNetLemmatizer()\n",
    "\n",
    "for test_doc in test_docs:\n",
    "    \n",
    "    modified_doc = \"\"\n",
    "    test_doc = test_doc.lower()\n",
    "    #print('test-doc-lower :: ', test_doc)\n",
    "    \n",
    "    ## remove special characters\n",
    "    test_doc = test_doc.translate(str.maketrans('', '', string.punctuation))\n",
    "    \n",
    "    #print('test-doc-punct :: ', test_doc)\n",
    "    \n",
    "    tokens = word_tokenize(test_doc)    \n",
    "    #print(tokens)\n",
    "    \n",
    "    for token in tokens:\n",
    "        #print('token :: ',token)\n",
    "        \n",
    "        if token not in stop_words:\n",
    "            #print('un-used :: ', token)\n",
    "            \n",
    "            lem_token = wnl.lemmatize(token)\n",
    "            #print('lem-token :: ', lem_token)\n",
    "            \n",
    "            modified_doc += lem_token + \" \"\n",
    "    #print('<--------------->')        \n",
    "    #print('modified doc :: ', modified_doc)\n",
    "    \n",
    "    modified_docs.append(modified_doc.strip())\n",
    "        \n",
    "print('<--------------->')    \n",
    "print('modified docs :: ', modified_docs)"
   ]
  },
  {
   "cell_type": "code",
   "execution_count": 32,
   "id": "922964a2",
   "metadata": {},
   "outputs": [
    {
     "name": "stdout",
     "output_type": "stream",
     "text": [
      "list ::  ['fdi', 'spillover', 'effect', 'innovation', 'activity', 'knowledge', 'using', 'knowledge', 'creating', 'firm', 'evidence', 'emerging', 'economy', 'fdi', 'spillover', 'ladder', 'innovation', 'activity', 'spillover', 'effect', 'emerging', 'economy']\n",
      "<--------------->\n",
      "set ::  {'innovation', 'emerging', 'spillover', 'using', 'evidence', 'effect', 'firm', 'economy', 'ladder', 'knowledge', 'creating', 'activity', 'fdi'}\n",
      "<--------------->\n",
      "count ::  22\n",
      "word count innovation in doc :: 2\n",
      "word count emerging in doc :: 2\n",
      "word count spillover in doc :: 3\n",
      "word count using in doc :: 1\n",
      "word count evidence in doc :: 1\n",
      "word count effect in doc :: 2\n",
      "word count firm in doc :: 1\n",
      "word count economy in doc :: 2\n",
      "word count ladder in doc :: 1\n",
      "word count knowledge in doc :: 2\n",
      "word count creating in doc :: 1\n",
      "word count activity in doc :: 2\n",
      "word count fdi in doc :: 2\n",
      "list ::  ['relative', 'effectiveness', 'rd', 'tax', 'credit', 'rd', 'subsidy', 'comparative', 'metaregression', 'analysis', 'metaregression', 'analysis', 'tax', 'credit', 'taxation', 'regression', 'analysis', 'subsidy']\n",
      "<--------------->\n",
      "set ::  {'comparative', 'relative', 'taxation', 'subsidy', 'effectiveness', 'metaregression', 'regression', 'rd', 'credit', 'tax', 'analysis'}\n",
      "<--------------->\n",
      "count ::  18\n",
      "word count comparative in doc :: 1\n",
      "word count relative in doc :: 1\n",
      "word count taxation in doc :: 1\n",
      "word count subsidy in doc :: 2\n",
      "word count effectiveness in doc :: 1\n",
      "word count metaregression in doc :: 2\n",
      "word count regression in doc :: 3\n",
      "word count rd in doc :: 2\n",
      "word count credit in doc :: 2\n",
      "word count tax in doc :: 3\n",
      "word count analysis in doc :: 3\n",
      "list ::  ['appraisal', 'turkey', 'voluntary', 'individual', 'pension', 'system', 'perspective', 'pension', 'equality', 'pension', 'system', 'pension', 'pension', 'appraisal']\n",
      "<--------------->\n",
      "set ::  {'voluntary', 'pension', 'appraisal', 'individual', 'turkey', 'equality', 'system', 'perspective'}\n",
      "<--------------->\n",
      "count ::  14\n",
      "word count voluntary in doc :: 1\n",
      "word count pension in doc :: 5\n",
      "word count appraisal in doc :: 2\n",
      "word count individual in doc :: 1\n",
      "word count turkey in doc :: 1\n",
      "word count equality in doc :: 1\n",
      "word count system in doc :: 2\n",
      "word count perspective in doc :: 1\n"
     ]
    }
   ],
   "source": [
    "for modified_doc in modified_docs:\n",
    "    \n",
    "    ## convert document to a list\n",
    "    doc_list = list(modified_doc.split(\" \"))\n",
    "    print('list :: ', doc_list)\n",
    "    print('<--------------->')\n",
    "    \n",
    "    ## get unique words in list\n",
    "    doc_set = set(doc_list)\n",
    "    print('set :: ', doc_set)\n",
    "    print('<--------------->')\n",
    "    print('count :: ', len(doc_list))\n",
    "    for word in doc_set:\n",
    "        print('word count '+ word +' in doc :: '+ str(modified_doc.count(word)))"
   ]
  },
  {
   "cell_type": "code",
   "execution_count": 34,
   "id": "0b8ea2c1",
   "metadata": {},
   "outputs": [],
   "source": [
    "def document_count(document_list, token):\n",
    "    doc_count = 0\n",
    "    for document in document_list:\n",
    "        if document.count(token) > 0 :\n",
    "            doc_count+=1\n",
    "    \n",
    "    print('count :: ', doc_count)\n",
    "    return doc_count"
   ]
  },
  {
   "cell_type": "code",
   "execution_count": 39,
   "id": "308fac34",
   "metadata": {},
   "outputs": [
    {
     "name": "stdout",
     "output_type": "stream",
     "text": [
      "count ::  1\n",
      "value ::  1\n"
     ]
    }
   ],
   "source": [
    "val = document_count(modified_docs,'system')\n",
    "print('value :: ', val)"
   ]
  },
  {
   "cell_type": "code",
   "execution_count": 46,
   "id": "0b1263ff",
   "metadata": {},
   "outputs": [],
   "source": [
    "def calc_tf_idf(modified_docs, modified_doc, doc_list, token):\n",
    "    total_docs = len(modified_docs)\n",
    "    docs_with_token = document_count(doc_list, token)\n",
    "    token_frequency = modified_doc.count(token)\n",
    "    tf = mt.log10(1 + token_frequency)\n",
    "    idf = mt.log10(total_docs/docs_with_token)\n",
    "    print('token :: ', token)\n",
    "    print('tf :: ', str(tf))\n",
    "    print('idf :: ', str(idf))\n",
    "    print('tf * idf :: ', tf*idf)\n",
    "    print('<----------------------------->')"
   ]
  },
  {
   "cell_type": "code",
   "execution_count": 47,
   "id": "8bb46cab",
   "metadata": {},
   "outputs": [
    {
     "name": "stdout",
     "output_type": "stream",
     "text": [
      "count ::  2\n",
      "token ::  innovation\n",
      "tf ::  0.47712125471966244\n",
      "idf ::  0.17609125905568124\n",
      "tf * idf ::  0.08401688246581175\n",
      "<----------------------------->\n",
      "count ::  2\n",
      "token ::  emerging\n",
      "tf ::  0.47712125471966244\n",
      "idf ::  0.17609125905568124\n",
      "tf * idf ::  0.08401688246581175\n",
      "<----------------------------->\n",
      "count ::  3\n",
      "token ::  spillover\n",
      "tf ::  0.6020599913279624\n",
      "idf ::  0.0\n",
      "tf * idf ::  0.0\n",
      "<----------------------------->\n",
      "count ::  1\n",
      "token ::  using\n",
      "tf ::  0.3010299956639812\n",
      "idf ::  0.47712125471966244\n",
      "tf * idf ::  0.14362780923945326\n",
      "<----------------------------->\n",
      "count ::  1\n",
      "token ::  evidence\n",
      "tf ::  0.3010299956639812\n",
      "idf ::  0.47712125471966244\n",
      "tf * idf ::  0.14362780923945326\n",
      "<----------------------------->\n",
      "count ::  2\n",
      "token ::  effect\n",
      "tf ::  0.47712125471966244\n",
      "idf ::  0.17609125905568124\n",
      "tf * idf ::  0.08401688246581175\n",
      "<----------------------------->\n",
      "count ::  1\n",
      "token ::  firm\n",
      "tf ::  0.3010299956639812\n",
      "idf ::  0.47712125471966244\n",
      "tf * idf ::  0.14362780923945326\n",
      "<----------------------------->\n",
      "count ::  2\n",
      "token ::  economy\n",
      "tf ::  0.47712125471966244\n",
      "idf ::  0.17609125905568124\n",
      "tf * idf ::  0.08401688246581175\n",
      "<----------------------------->\n",
      "count ::  1\n",
      "token ::  ladder\n",
      "tf ::  0.3010299956639812\n",
      "idf ::  0.47712125471966244\n",
      "tf * idf ::  0.14362780923945326\n",
      "<----------------------------->\n",
      "count ::  2\n",
      "token ::  knowledge\n",
      "tf ::  0.47712125471966244\n",
      "idf ::  0.17609125905568124\n",
      "tf * idf ::  0.08401688246581175\n",
      "<----------------------------->\n",
      "count ::  1\n",
      "token ::  creating\n",
      "tf ::  0.3010299956639812\n",
      "idf ::  0.47712125471966244\n",
      "tf * idf ::  0.14362780923945326\n",
      "<----------------------------->\n",
      "count ::  2\n",
      "token ::  activity\n",
      "tf ::  0.47712125471966244\n",
      "idf ::  0.17609125905568124\n",
      "tf * idf ::  0.08401688246581175\n",
      "<----------------------------->\n",
      "count ::  2\n",
      "token ::  fdi\n",
      "tf ::  0.47712125471966244\n",
      "idf ::  0.17609125905568124\n",
      "tf * idf ::  0.08401688246581175\n",
      "<----------------------------->\n",
      "count ::  1\n",
      "token ::  comparative\n",
      "tf ::  0.3010299956639812\n",
      "idf ::  0.47712125471966244\n",
      "tf * idf ::  0.14362780923945326\n",
      "<----------------------------->\n",
      "count ::  1\n",
      "token ::  relative\n",
      "tf ::  0.3010299956639812\n",
      "idf ::  0.47712125471966244\n",
      "tf * idf ::  0.14362780923945326\n",
      "<----------------------------->\n",
      "count ::  1\n",
      "token ::  taxation\n",
      "tf ::  0.3010299956639812\n",
      "idf ::  0.47712125471966244\n",
      "tf * idf ::  0.14362780923945326\n",
      "<----------------------------->\n",
      "count ::  2\n",
      "token ::  subsidy\n",
      "tf ::  0.47712125471966244\n",
      "idf ::  0.17609125905568124\n",
      "tf * idf ::  0.08401688246581175\n",
      "<----------------------------->\n",
      "count ::  1\n",
      "token ::  effectiveness\n",
      "tf ::  0.3010299956639812\n",
      "idf ::  0.47712125471966244\n",
      "tf * idf ::  0.14362780923945326\n",
      "<----------------------------->\n",
      "count ::  2\n",
      "token ::  metaregression\n",
      "tf ::  0.47712125471966244\n",
      "idf ::  0.17609125905568124\n",
      "tf * idf ::  0.08401688246581175\n",
      "<----------------------------->\n",
      "count ::  3\n",
      "token ::  regression\n",
      "tf ::  0.6020599913279624\n",
      "idf ::  0.0\n",
      "tf * idf ::  0.0\n",
      "<----------------------------->\n",
      "count ::  2\n",
      "token ::  rd\n",
      "tf ::  0.47712125471966244\n",
      "idf ::  0.17609125905568124\n",
      "tf * idf ::  0.08401688246581175\n",
      "<----------------------------->\n",
      "count ::  2\n",
      "token ::  credit\n",
      "tf ::  0.47712125471966244\n",
      "idf ::  0.17609125905568124\n",
      "tf * idf ::  0.08401688246581175\n",
      "<----------------------------->\n",
      "count ::  3\n",
      "token ::  tax\n",
      "tf ::  0.6020599913279624\n",
      "idf ::  0.0\n",
      "tf * idf ::  0.0\n",
      "<----------------------------->\n",
      "count ::  3\n",
      "token ::  analysis\n",
      "tf ::  0.6020599913279624\n",
      "idf ::  0.0\n",
      "tf * idf ::  0.0\n",
      "<----------------------------->\n",
      "count ::  1\n",
      "token ::  voluntary\n",
      "tf ::  0.3010299956639812\n",
      "idf ::  0.47712125471966244\n",
      "tf * idf ::  0.14362780923945326\n",
      "<----------------------------->\n",
      "count ::  5\n",
      "token ::  pension\n",
      "tf ::  0.7781512503836436\n",
      "idf ::  -0.2218487496163564\n",
      "tf * idf ::  -0.1726318819100156\n",
      "<----------------------------->\n",
      "count ::  2\n",
      "token ::  appraisal\n",
      "tf ::  0.47712125471966244\n",
      "idf ::  0.17609125905568124\n",
      "tf * idf ::  0.08401688246581175\n",
      "<----------------------------->\n",
      "count ::  1\n",
      "token ::  individual\n",
      "tf ::  0.3010299956639812\n",
      "idf ::  0.47712125471966244\n",
      "tf * idf ::  0.14362780923945326\n",
      "<----------------------------->\n",
      "count ::  1\n",
      "token ::  turkey\n",
      "tf ::  0.3010299956639812\n",
      "idf ::  0.47712125471966244\n",
      "tf * idf ::  0.14362780923945326\n",
      "<----------------------------->\n",
      "count ::  1\n",
      "token ::  equality\n",
      "tf ::  0.3010299956639812\n",
      "idf ::  0.47712125471966244\n",
      "tf * idf ::  0.14362780923945326\n",
      "<----------------------------->\n",
      "count ::  2\n",
      "token ::  system\n",
      "tf ::  0.47712125471966244\n",
      "idf ::  0.17609125905568124\n",
      "tf * idf ::  0.08401688246581175\n",
      "<----------------------------->\n",
      "count ::  1\n",
      "token ::  perspective\n",
      "tf ::  0.3010299956639812\n",
      "idf ::  0.47712125471966244\n",
      "tf * idf ::  0.14362780923945326\n",
      "<----------------------------->\n"
     ]
    }
   ],
   "source": [
    "for modified_doc in modified_docs:\n",
    "    \n",
    "    ## convert document to a list\n",
    "    doc_list = list(modified_doc.split(\" \"))\n",
    "    \n",
    "    ## get unique words in list\n",
    "    doc_set = set(doc_list)\n",
    "    \n",
    "    for word in doc_set:\n",
    "        calc_tf_idf(modified_docs, modified_doc, doc_list, word)"
   ]
  },
  {
   "cell_type": "code",
   "execution_count": null,
   "id": "46385f9e",
   "metadata": {},
   "outputs": [],
   "source": []
  },
  {
   "cell_type": "code",
   "execution_count": null,
   "id": "b6d9e4f2",
   "metadata": {},
   "outputs": [],
   "source": []
  },
  {
   "cell_type": "code",
   "execution_count": null,
   "id": "0e5ec3a8",
   "metadata": {},
   "outputs": [],
   "source": []
  },
  {
   "cell_type": "code",
   "execution_count": null,
   "id": "8f51c910",
   "metadata": {},
   "outputs": [],
   "source": []
  },
  {
   "cell_type": "code",
   "execution_count": null,
   "id": "6fdfb8db",
   "metadata": {},
   "outputs": [],
   "source": []
  },
  {
   "cell_type": "code",
   "execution_count": null,
   "id": "30979e74",
   "metadata": {},
   "outputs": [],
   "source": []
  },
  {
   "cell_type": "code",
   "execution_count": null,
   "id": "a4272d06",
   "metadata": {},
   "outputs": [],
   "source": []
  },
  {
   "cell_type": "code",
   "execution_count": null,
   "id": "7a84cf9a",
   "metadata": {},
   "outputs": [],
   "source": []
  },
  {
   "cell_type": "code",
   "execution_count": null,
   "id": "f4e4e691",
   "metadata": {},
   "outputs": [],
   "source": []
  },
  {
   "cell_type": "code",
   "execution_count": null,
   "id": "62267def",
   "metadata": {},
   "outputs": [],
   "source": []
  },
  {
   "cell_type": "code",
   "execution_count": null,
   "id": "08d168ce",
   "metadata": {},
   "outputs": [],
   "source": []
  },
  {
   "cell_type": "code",
   "execution_count": null,
   "id": "ced17b6e",
   "metadata": {},
   "outputs": [],
   "source": []
  },
  {
   "cell_type": "code",
   "execution_count": null,
   "id": "8249fbfa",
   "metadata": {},
   "outputs": [],
   "source": []
  },
  {
   "cell_type": "code",
   "execution_count": null,
   "id": "29ba36de",
   "metadata": {},
   "outputs": [],
   "source": []
  },
  {
   "cell_type": "code",
   "execution_count": null,
   "id": "4ca74eba",
   "metadata": {},
   "outputs": [],
   "source": []
  },
  {
   "cell_type": "code",
   "execution_count": null,
   "id": "a8e36bc0",
   "metadata": {},
   "outputs": [],
   "source": []
  },
  {
   "cell_type": "code",
   "execution_count": null,
   "id": "7a250a48",
   "metadata": {},
   "outputs": [],
   "source": []
  },
  {
   "cell_type": "code",
   "execution_count": null,
   "id": "ed211554",
   "metadata": {},
   "outputs": [],
   "source": []
  },
  {
   "cell_type": "code",
   "execution_count": null,
   "id": "202b2afb",
   "metadata": {},
   "outputs": [],
   "source": []
  },
  {
   "cell_type": "code",
   "execution_count": null,
   "id": "ec296a2c",
   "metadata": {},
   "outputs": [],
   "source": []
  },
  {
   "cell_type": "code",
   "execution_count": null,
   "id": "98b3538f",
   "metadata": {},
   "outputs": [],
   "source": []
  },
  {
   "cell_type": "code",
   "execution_count": null,
   "id": "5d7d338e",
   "metadata": {},
   "outputs": [],
   "source": []
  },
  {
   "cell_type": "code",
   "execution_count": null,
   "id": "fd3ee8bc",
   "metadata": {},
   "outputs": [],
   "source": []
  },
  {
   "cell_type": "code",
   "execution_count": null,
   "id": "1793fe05",
   "metadata": {},
   "outputs": [],
   "source": []
  },
  {
   "cell_type": "code",
   "execution_count": null,
   "id": "23f5e19a",
   "metadata": {},
   "outputs": [],
   "source": []
  },
  {
   "cell_type": "code",
   "execution_count": null,
   "id": "15fa30eb",
   "metadata": {},
   "outputs": [],
   "source": []
  },
  {
   "cell_type": "code",
   "execution_count": null,
   "id": "9f5dd6e5",
   "metadata": {},
   "outputs": [],
   "source": []
  },
  {
   "cell_type": "code",
   "execution_count": null,
   "id": "e116b37c",
   "metadata": {},
   "outputs": [],
   "source": []
  },
  {
   "cell_type": "code",
   "execution_count": null,
   "id": "a3491f6c",
   "metadata": {},
   "outputs": [],
   "source": []
  },
  {
   "cell_type": "code",
   "execution_count": null,
   "id": "b343095f",
   "metadata": {},
   "outputs": [],
   "source": []
  },
  {
   "cell_type": "code",
   "execution_count": null,
   "id": "72264622",
   "metadata": {},
   "outputs": [],
   "source": []
  },
  {
   "cell_type": "code",
   "execution_count": null,
   "id": "48dfce1e",
   "metadata": {},
   "outputs": [],
   "source": []
  },
  {
   "cell_type": "code",
   "execution_count": null,
   "id": "87858fb1",
   "metadata": {},
   "outputs": [],
   "source": []
  },
  {
   "cell_type": "code",
   "execution_count": null,
   "id": "2ab35ef4",
   "metadata": {},
   "outputs": [],
   "source": []
  },
  {
   "cell_type": "code",
   "execution_count": null,
   "id": "01950ff0",
   "metadata": {},
   "outputs": [],
   "source": []
  },
  {
   "cell_type": "code",
   "execution_count": null,
   "id": "0a01f93e",
   "metadata": {},
   "outputs": [],
   "source": []
  },
  {
   "cell_type": "code",
   "execution_count": null,
   "id": "71d48661",
   "metadata": {},
   "outputs": [],
   "source": []
  },
  {
   "cell_type": "code",
   "execution_count": null,
   "id": "c280b532",
   "metadata": {},
   "outputs": [],
   "source": []
  },
  {
   "cell_type": "code",
   "execution_count": null,
   "id": "4c525ba5",
   "metadata": {},
   "outputs": [],
   "source": []
  },
  {
   "cell_type": "code",
   "execution_count": null,
   "id": "90602e0f",
   "metadata": {},
   "outputs": [],
   "source": []
  },
  {
   "cell_type": "code",
   "execution_count": null,
   "id": "e2c15178",
   "metadata": {},
   "outputs": [],
   "source": []
  },
  {
   "cell_type": "code",
   "execution_count": null,
   "id": "a528d869",
   "metadata": {},
   "outputs": [],
   "source": []
  },
  {
   "cell_type": "code",
   "execution_count": null,
   "id": "966fa01e",
   "metadata": {},
   "outputs": [],
   "source": []
  },
  {
   "cell_type": "code",
   "execution_count": null,
   "id": "d6abb2b8",
   "metadata": {},
   "outputs": [],
   "source": []
  },
  {
   "cell_type": "code",
   "execution_count": null,
   "id": "23d20a74",
   "metadata": {},
   "outputs": [],
   "source": []
  },
  {
   "cell_type": "code",
   "execution_count": null,
   "id": "f9ea98ac",
   "metadata": {},
   "outputs": [],
   "source": []
  }
 ],
 "metadata": {
  "kernelspec": {
   "display_name": "Python 3 (ipykernel)",
   "language": "python",
   "name": "python3"
  },
  "language_info": {
   "codemirror_mode": {
    "name": "ipython",
    "version": 3
   },
   "file_extension": ".py",
   "mimetype": "text/x-python",
   "name": "python",
   "nbconvert_exporter": "python",
   "pygments_lexer": "ipython3",
   "version": "3.9.12"
  }
 },
 "nbformat": 4,
 "nbformat_minor": 5
}
