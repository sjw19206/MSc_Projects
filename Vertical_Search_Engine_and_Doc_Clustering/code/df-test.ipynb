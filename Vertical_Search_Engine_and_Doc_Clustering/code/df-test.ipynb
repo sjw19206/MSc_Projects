{
 "cells": [
  {
   "cell_type": "code",
   "execution_count": 42,
   "id": "f64b21a9",
   "metadata": {},
   "outputs": [],
   "source": [
    "import pandas as pd\n",
    "import numpy as np\n",
    "import math as mt"
   ]
  },
  {
   "cell_type": "code",
   "execution_count": 10,
   "id": "775573e0",
   "metadata": {},
   "outputs": [],
   "source": [
    "research_df = pd.read_csv(\"D:\\\\Development\\\\Custom_Data\\\\SearchEngine\\\\RESEARCH.CSV\")\n",
    "metrics_df = pd.read_csv(\"D:\\\\Development\\\\Custom_Data\\\\SearchEngine\\\\METRICS.CSV\")"
   ]
  },
  {
   "cell_type": "code",
   "execution_count": 11,
   "id": "c989f62e",
   "metadata": {},
   "outputs": [
    {
     "data": {
      "text/html": [
       "<div>\n",
       "<style scoped>\n",
       "    .dataframe tbody tr th:only-of-type {\n",
       "        vertical-align: middle;\n",
       "    }\n",
       "\n",
       "    .dataframe tbody tr th {\n",
       "        vertical-align: top;\n",
       "    }\n",
       "\n",
       "    .dataframe thead th {\n",
       "        text-align: right;\n",
       "    }\n",
       "</style>\n",
       "<table border=\"1\" class=\"dataframe\">\n",
       "  <thead>\n",
       "    <tr style=\"text-align: right;\">\n",
       "      <th></th>\n",
       "      <th>RSCH_ID</th>\n",
       "      <th>RSCH_TOKEN</th>\n",
       "      <th>TOKEN_TF</th>\n",
       "      <th>TOKEN_IDF</th>\n",
       "      <th>TOKEN_TF_IDF</th>\n",
       "    </tr>\n",
       "  </thead>\n",
       "  <tbody>\n",
       "    <tr>\n",
       "      <th>0</th>\n",
       "      <td>SEFA_M0_RS0</td>\n",
       "      <td>america</td>\n",
       "      <td>0.30103</td>\n",
       "      <td>2.405688</td>\n",
       "      <td>0.724184</td>\n",
       "    </tr>\n",
       "  </tbody>\n",
       "</table>\n",
       "</div>"
      ],
      "text/plain": [
       "       RSCH_ID RSCH_TOKEN  TOKEN_TF  TOKEN_IDF  TOKEN_TF_IDF\n",
       "0  SEFA_M0_RS0    america   0.30103   2.405688      0.724184"
      ]
     },
     "execution_count": 11,
     "metadata": {},
     "output_type": "execute_result"
    }
   ],
   "source": [
    "metrics_df.head(1)"
   ]
  },
  {
   "cell_type": "code",
   "execution_count": 21,
   "id": "de849edf",
   "metadata": {},
   "outputs": [],
   "source": [
    "sample_input = 'america power predict liquid'"
   ]
  },
  {
   "cell_type": "code",
   "execution_count": 49,
   "id": "47bc47f5",
   "metadata": {},
   "outputs": [
    {
     "name": "stdout",
     "output_type": "stream",
     "text": [
      "17\n",
      "[0.724184184, 0.542946067, 0.527547624, 0.860549157, 0, 0, 0, 0.032100279, 0, 0, 0, 0, 0, 0, 0, 0, 0]\n",
      "17\n",
      "[0.724184184, 0.542946067, 0.527547624, 0.860549157, 0.814803242, 0.374577579, 0.671175433, 0.032100279, 0.527547624, 0.238687867, 0.560403383, 0.604392305, 0.339240993, 1.147804775, 0.27523958, 1.063787893, 0.460764496]\n",
      "vector-prod ::  1.839114939139848\n",
      "1.3561397196232579\n",
      "2.6383082025492066\n",
      "inp-vector-length ::  1.3561397196232579\n",
      "res-vector-length ::  2.6383082025492066\n",
      "cosine-sim ::  0.514018687548679\n"
     ]
    }
   ],
   "source": [
    "for index in research_df.index:\n",
    "    research_id = research_df['RSCH_ID'][index]\n",
    "    #print(research_id)\n",
    "    metrics_res = metrics_df.loc[metrics_df['RSCH_ID'] == research_id]\n",
    "    #print(metrics_res)\n",
    "    inp_tf_idf = []\n",
    "    res_tf_idf = []\n",
    "    for met_index in metrics_res.index:\n",
    "        rsch_token = metrics_res['RSCH_TOKEN'][met_index]\n",
    "        rsch_tf_idf = metrics_res['TOKEN_TF_IDF'][met_index]\n",
    "        #print(rsch_token)\n",
    "        #print(rsch_tf_idf)\n",
    "        if sample_input.count(rsch_token) > 0:\n",
    "            inp_tf_idf.append(rsch_tf_idf)\n",
    "            res_tf_idf.append(rsch_tf_idf)\n",
    "        else:\n",
    "            inp_tf_idf.append(0)\n",
    "            res_tf_idf.append(rsch_tf_idf)\n",
    "            \n",
    "    print(len(inp_tf_idf))\n",
    "    print(inp_tf_idf)\n",
    "    print(len(res_tf_idf))\n",
    "    print(res_tf_idf)\n",
    "    vector_product = np.dot(inp_tf_idf, res_tf_idf)\n",
    "    print('vector-prod :: ', vector_product)\n",
    "    input_vector_length = calc_length_of_vector(inp_tf_idf)\n",
    "    res_vector_length = calc_length_of_vector(res_tf_idf)\n",
    "    print('inp-vector-length :: ', input_vector_length)\n",
    "    print('res-vector-length :: ', res_vector_length)\n",
    "    cosine_similarity = vector_product/(input_vector_length * res_vector_length)\n",
    "    print('cosine-sim :: ', cosine_similarity)\n",
    "    break"
   ]
  },
  {
   "cell_type": "code",
   "execution_count": 32,
   "id": "8b77ef34",
   "metadata": {},
   "outputs": [],
   "source": [
    "list_a = [1, 1, 0, 0]\n",
    "list_b = [2, 1, 0, 0]"
   ]
  },
  {
   "cell_type": "code",
   "execution_count": 33,
   "id": "fd23e3f7",
   "metadata": {},
   "outputs": [
    {
     "data": {
      "text/plain": [
       "3"
      ]
     },
     "execution_count": 33,
     "metadata": {},
     "output_type": "execute_result"
    }
   ],
   "source": [
    "np.dot(list_a, list_b)"
   ]
  },
  {
   "cell_type": "code",
   "execution_count": 48,
   "id": "daf5fc2e",
   "metadata": {},
   "outputs": [],
   "source": [
    "def calc_length_of_vector(input_list):\n",
    "    sq_list  = [i ** 2 for i in input_list]\n",
    "    sqrt_sum_ele = mt.sqrt(sum(sq_list))\n",
    "    print(sqrt_sum_ele)\n",
    "    return sqrt_sum_ele"
   ]
  },
  {
   "cell_type": "code",
   "execution_count": 45,
   "id": "2bba5586",
   "metadata": {},
   "outputs": [
    {
     "name": "stdout",
     "output_type": "stream",
     "text": [
      "2.23606797749979\n"
     ]
    }
   ],
   "source": [
    "calc_length_of_vector(list_b)"
   ]
  },
  {
   "cell_type": "code",
   "execution_count": null,
   "id": "3f8860d8",
   "metadata": {},
   "outputs": [],
   "source": []
  },
  {
   "cell_type": "code",
   "execution_count": null,
   "id": "d84ef27f",
   "metadata": {},
   "outputs": [],
   "source": []
  },
  {
   "cell_type": "code",
   "execution_count": null,
   "id": "2b886e98",
   "metadata": {},
   "outputs": [],
   "source": []
  },
  {
   "cell_type": "code",
   "execution_count": null,
   "id": "a62586c2",
   "metadata": {},
   "outputs": [],
   "source": []
  },
  {
   "cell_type": "code",
   "execution_count": null,
   "id": "b0b4951e",
   "metadata": {},
   "outputs": [],
   "source": []
  },
  {
   "cell_type": "code",
   "execution_count": null,
   "id": "81cfb260",
   "metadata": {},
   "outputs": [],
   "source": []
  },
  {
   "cell_type": "code",
   "execution_count": null,
   "id": "b89829e3",
   "metadata": {},
   "outputs": [],
   "source": []
  },
  {
   "cell_type": "code",
   "execution_count": null,
   "id": "cbe10e76",
   "metadata": {},
   "outputs": [],
   "source": []
  },
  {
   "cell_type": "code",
   "execution_count": null,
   "id": "abc3a1f7",
   "metadata": {},
   "outputs": [],
   "source": []
  },
  {
   "cell_type": "code",
   "execution_count": null,
   "id": "2ab6253c",
   "metadata": {},
   "outputs": [],
   "source": []
  },
  {
   "cell_type": "code",
   "execution_count": null,
   "id": "7431ee30",
   "metadata": {},
   "outputs": [],
   "source": []
  },
  {
   "cell_type": "code",
   "execution_count": null,
   "id": "da2024f3",
   "metadata": {},
   "outputs": [],
   "source": []
  },
  {
   "cell_type": "code",
   "execution_count": null,
   "id": "85bff7c1",
   "metadata": {},
   "outputs": [],
   "source": []
  },
  {
   "cell_type": "code",
   "execution_count": null,
   "id": "28f984b4",
   "metadata": {},
   "outputs": [],
   "source": []
  },
  {
   "cell_type": "code",
   "execution_count": null,
   "id": "77ac3aa3",
   "metadata": {},
   "outputs": [],
   "source": []
  },
  {
   "cell_type": "code",
   "execution_count": null,
   "id": "1e85471b",
   "metadata": {},
   "outputs": [],
   "source": []
  },
  {
   "cell_type": "code",
   "execution_count": null,
   "id": "a91bb556",
   "metadata": {},
   "outputs": [],
   "source": []
  },
  {
   "cell_type": "code",
   "execution_count": null,
   "id": "1c93dab9",
   "metadata": {},
   "outputs": [],
   "source": []
  },
  {
   "cell_type": "code",
   "execution_count": null,
   "id": "c627da59",
   "metadata": {},
   "outputs": [],
   "source": []
  },
  {
   "cell_type": "code",
   "execution_count": null,
   "id": "1e306eba",
   "metadata": {},
   "outputs": [],
   "source": []
  },
  {
   "cell_type": "code",
   "execution_count": null,
   "id": "0be60f2b",
   "metadata": {},
   "outputs": [],
   "source": []
  },
  {
   "cell_type": "code",
   "execution_count": null,
   "id": "85219860",
   "metadata": {},
   "outputs": [],
   "source": []
  },
  {
   "cell_type": "code",
   "execution_count": null,
   "id": "d887db4e",
   "metadata": {},
   "outputs": [],
   "source": []
  },
  {
   "cell_type": "code",
   "execution_count": null,
   "id": "db063f47",
   "metadata": {},
   "outputs": [],
   "source": []
  },
  {
   "cell_type": "code",
   "execution_count": null,
   "id": "581cc324",
   "metadata": {},
   "outputs": [],
   "source": []
  },
  {
   "cell_type": "code",
   "execution_count": null,
   "id": "183fe39c",
   "metadata": {},
   "outputs": [],
   "source": []
  },
  {
   "cell_type": "code",
   "execution_count": null,
   "id": "937f394c",
   "metadata": {},
   "outputs": [],
   "source": []
  },
  {
   "cell_type": "code",
   "execution_count": null,
   "id": "6923bf90",
   "metadata": {},
   "outputs": [],
   "source": []
  },
  {
   "cell_type": "code",
   "execution_count": null,
   "id": "956fd0f4",
   "metadata": {},
   "outputs": [],
   "source": []
  },
  {
   "cell_type": "code",
   "execution_count": null,
   "id": "bf73b1a2",
   "metadata": {},
   "outputs": [],
   "source": []
  },
  {
   "cell_type": "code",
   "execution_count": null,
   "id": "e4e6d5f5",
   "metadata": {},
   "outputs": [],
   "source": []
  },
  {
   "cell_type": "code",
   "execution_count": null,
   "id": "336a625c",
   "metadata": {},
   "outputs": [],
   "source": []
  },
  {
   "cell_type": "code",
   "execution_count": null,
   "id": "bcb11b33",
   "metadata": {},
   "outputs": [],
   "source": []
  },
  {
   "cell_type": "code",
   "execution_count": null,
   "id": "7e046995",
   "metadata": {},
   "outputs": [],
   "source": []
  },
  {
   "cell_type": "code",
   "execution_count": null,
   "id": "b9b34dac",
   "metadata": {},
   "outputs": [],
   "source": []
  },
  {
   "cell_type": "code",
   "execution_count": null,
   "id": "c289a4c6",
   "metadata": {},
   "outputs": [],
   "source": []
  },
  {
   "cell_type": "code",
   "execution_count": null,
   "id": "f1c35a48",
   "metadata": {},
   "outputs": [],
   "source": []
  },
  {
   "cell_type": "code",
   "execution_count": null,
   "id": "6066a1b1",
   "metadata": {},
   "outputs": [],
   "source": []
  },
  {
   "cell_type": "code",
   "execution_count": null,
   "id": "07a10952",
   "metadata": {},
   "outputs": [],
   "source": []
  },
  {
   "cell_type": "code",
   "execution_count": null,
   "id": "10767d8b",
   "metadata": {},
   "outputs": [],
   "source": []
  },
  {
   "cell_type": "code",
   "execution_count": null,
   "id": "a9f95bf3",
   "metadata": {},
   "outputs": [],
   "source": []
  },
  {
   "cell_type": "code",
   "execution_count": null,
   "id": "a5b11ea6",
   "metadata": {},
   "outputs": [],
   "source": []
  },
  {
   "cell_type": "code",
   "execution_count": null,
   "id": "f1001546",
   "metadata": {},
   "outputs": [],
   "source": []
  },
  {
   "cell_type": "code",
   "execution_count": null,
   "id": "af811cbb",
   "metadata": {},
   "outputs": [],
   "source": []
  },
  {
   "cell_type": "code",
   "execution_count": null,
   "id": "2fe59ef7",
   "metadata": {},
   "outputs": [],
   "source": []
  },
  {
   "cell_type": "code",
   "execution_count": null,
   "id": "deb1b879",
   "metadata": {},
   "outputs": [],
   "source": []
  },
  {
   "cell_type": "code",
   "execution_count": null,
   "id": "2a6c6391",
   "metadata": {},
   "outputs": [],
   "source": []
  },
  {
   "cell_type": "code",
   "execution_count": null,
   "id": "d9b295c5",
   "metadata": {},
   "outputs": [],
   "source": []
  }
 ],
 "metadata": {
  "kernelspec": {
   "display_name": "Python 3 (ipykernel)",
   "language": "python",
   "name": "python3"
  },
  "language_info": {
   "codemirror_mode": {
    "name": "ipython",
    "version": 3
   },
   "file_extension": ".py",
   "mimetype": "text/x-python",
   "name": "python",
   "nbconvert_exporter": "python",
   "pygments_lexer": "ipython3",
   "version": "3.9.12"
  }
 },
 "nbformat": 4,
 "nbformat_minor": 5
}
