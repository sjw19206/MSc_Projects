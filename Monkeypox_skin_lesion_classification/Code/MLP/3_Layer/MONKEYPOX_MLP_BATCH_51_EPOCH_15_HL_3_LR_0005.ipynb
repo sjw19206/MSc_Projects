{
 "cells": [
  {
   "cell_type": "code",
   "execution_count": 1,
   "id": "c4662889",
   "metadata": {},
   "outputs": [],
   "source": [
    "import numpy as np\n",
    "import tensorflow as tf\n",
    "import tensorflow_datasets as tfds\n",
    "import matplotlib.pyplot as plt\n",
    "\n",
    "from keras import layers, models, backend, optimizers, regularizers"
   ]
  },
  {
   "cell_type": "code",
   "execution_count": 2,
   "id": "5fb46bdf",
   "metadata": {},
   "outputs": [
    {
     "name": "stdout",
     "output_type": "stream",
     "text": [
      "2.9.1\n"
     ]
    }
   ],
   "source": [
    "print(tf.__version__)"
   ]
  },
  {
   "cell_type": "code",
   "execution_count": 3,
   "id": "e30eaccb",
   "metadata": {},
   "outputs": [],
   "source": [
    "# Train and Test Image Directories\n",
    "train_img_dir = \"D:Development/Data_Science_Datasets/Monkeypox_skinlesion/OriginalImages/\"\n",
    "test_img_dir = \"D:Development/Data_Science_Datasets/Monkeypox_skinlesion/Test/\"\n",
    "val_img_dir = \"D:Development/Data_Science_Datasets/Monkeypox_skinlesion/Val/\"\n",
    "\n",
    "# Basic variables\n",
    "val_batch_size = 51\n",
    "val_img_height = 56\n",
    "val_img_width = 56\n",
    "val_validation_split = None\n",
    "val_subset = None\n",
    "val_shuffle = True\n",
    "val_labels = 'inferred'\n",
    "val_seed = 56\n",
    "val_channels = 3\n",
    "val_interpolation = 'gaussian'\n",
    "val_steps_per_epochs = 95\n",
    "val_learning_rate = 0.0005"
   ]
  },
  {
   "cell_type": "code",
   "execution_count": 4,
   "id": "ad31cc26",
   "metadata": {},
   "outputs": [
    {
     "name": "stdout",
     "output_type": "stream",
     "text": [
      "Found 39168 files belonging to 2 classes.\n"
     ]
    }
   ],
   "source": [
    "train_img_ds = tf.keras.utils.image_dataset_from_directory(\n",
    "    train_img_dir,\n",
    "    validation_split = val_validation_split,\n",
    "    subset = val_subset,\n",
    "    seed = val_seed,\n",
    "    image_size=(val_img_height, val_img_width),\n",
    "    batch_size = val_batch_size, \n",
    "    shuffle = val_shuffle,\n",
    "    labels = val_labels,\n",
    "    interpolation = val_interpolation)"
   ]
  },
  {
   "cell_type": "code",
   "execution_count": 5,
   "id": "6ba3e278",
   "metadata": {},
   "outputs": [
    {
     "name": "stdout",
     "output_type": "stream",
     "text": [
      "Found 45 files belonging to 2 classes.\n"
     ]
    }
   ],
   "source": [
    "test_img_ds = tf.keras.utils.image_dataset_from_directory(\n",
    "    test_img_dir,\n",
    "    validation_split = val_validation_split,\n",
    "    subset = val_subset,\n",
    "    seed = val_seed,\n",
    "    image_size=(val_img_height, val_img_width),\n",
    "    batch_size = val_batch_size, \n",
    "    shuffle = val_shuffle,\n",
    "    labels = val_labels,\n",
    "    interpolation = val_interpolation)"
   ]
  },
  {
   "cell_type": "code",
   "execution_count": 6,
   "id": "48980306",
   "metadata": {},
   "outputs": [
    {
     "name": "stdout",
     "output_type": "stream",
     "text": [
      "Found 406 files belonging to 2 classes.\n"
     ]
    }
   ],
   "source": [
    "val_img_ds = tf.keras.utils.image_dataset_from_directory(\n",
    "    val_img_dir,\n",
    "    validation_split = val_validation_split,\n",
    "    subset = val_subset,\n",
    "    seed = val_seed,\n",
    "    image_size=(val_img_height, val_img_width),\n",
    "    batch_size = val_batch_size, \n",
    "    shuffle = val_shuffle,\n",
    "    labels = val_labels,\n",
    "    interpolation = val_interpolation)"
   ]
  },
  {
   "cell_type": "code",
   "execution_count": 7,
   "id": "15ead73e",
   "metadata": {},
   "outputs": [],
   "source": [
    "normalization_layer = tf.keras.layers.Rescaling(1./255)"
   ]
  },
  {
   "cell_type": "code",
   "execution_count": 8,
   "id": "0b7ed69f",
   "metadata": {},
   "outputs": [],
   "source": [
    "norm_train_img_ds = train_img_ds.map(lambda x, y: (normalization_layer(x), y))"
   ]
  },
  {
   "cell_type": "code",
   "execution_count": 9,
   "id": "9452305a",
   "metadata": {},
   "outputs": [],
   "source": [
    "norm_test_img_ds = test_img_ds.map(lambda x, y: (normalization_layer(x), y))"
   ]
  },
  {
   "cell_type": "code",
   "execution_count": 10,
   "id": "577899c5",
   "metadata": {},
   "outputs": [],
   "source": [
    "norm_val_img_ds = val_img_ds.map(lambda x, y: (normalization_layer(x), y))"
   ]
  },
  {
   "cell_type": "code",
   "execution_count": 11,
   "id": "c9225d11",
   "metadata": {},
   "outputs": [
    {
     "name": "stdout",
     "output_type": "stream",
     "text": [
      "['Monkeypox', 'Others']\n"
     ]
    }
   ],
   "source": [
    "class_names = train_img_ds.class_names\n",
    "print(class_names)"
   ]
  },
  {
   "cell_type": "code",
   "execution_count": 12,
   "id": "04111b68",
   "metadata": {},
   "outputs": [],
   "source": [
    "model = models.Sequential()\n",
    "model.add(layers.Flatten(input_shape = (val_img_height, val_img_width, val_channels)))\n",
    "model.add(layers.Dense(2048, activation='sigmoid'))\n",
    "model.add(layers.Dropout(0.3))\n",
    "model.add(layers.Dense(768, activation='sigmoid'))\n",
    "model.add(layers.Dropout(0.3))\n",
    "model.add(layers.Dense(512, activation='sigmoid'))\n",
    "model.add(layers.Dropout(0.2))\n",
    "model.add(layers.Dense(2, activation = 'softmax'))"
   ]
  },
  {
   "cell_type": "code",
   "execution_count": 13,
   "id": "29c196fc",
   "metadata": {
    "scrolled": true
   },
   "outputs": [
    {
     "name": "stdout",
     "output_type": "stream",
     "text": [
      "Model: \"sequential\"\n",
      "_________________________________________________________________\n",
      " Layer (type)                Output Shape              Param #   \n",
      "=================================================================\n",
      " flatten (Flatten)           (None, 9408)              0         \n",
      "                                                                 \n",
      " dense (Dense)               (None, 2048)              19269632  \n",
      "                                                                 \n",
      " dropout (Dropout)           (None, 2048)              0         \n",
      "                                                                 \n",
      " dense_1 (Dense)             (None, 768)               1573632   \n",
      "                                                                 \n",
      " dropout_1 (Dropout)         (None, 768)               0         \n",
      "                                                                 \n",
      " dense_2 (Dense)             (None, 512)               393728    \n",
      "                                                                 \n",
      " dropout_2 (Dropout)         (None, 512)               0         \n",
      "                                                                 \n",
      " dense_3 (Dense)             (None, 2)                 1026      \n",
      "                                                                 \n",
      "=================================================================\n",
      "Total params: 21,238,018\n",
      "Trainable params: 21,238,018\n",
      "Non-trainable params: 0\n",
      "_________________________________________________________________\n"
     ]
    }
   ],
   "source": [
    "model.summary()"
   ]
  },
  {
   "cell_type": "code",
   "execution_count": 14,
   "id": "56165268",
   "metadata": {},
   "outputs": [],
   "source": [
    "lr_schedule = tf.keras.optimizers.schedules.InverseTimeDecay(val_learning_rate, decay_steps = val_steps_per_epochs, \n",
    "                                                             decay_rate=1, staircase=False)"
   ]
  },
  {
   "cell_type": "code",
   "execution_count": 15,
   "id": "3dd83d28",
   "metadata": {},
   "outputs": [],
   "source": [
    "optimizer = optimizers.Adam(lr_schedule)"
   ]
  },
  {
   "cell_type": "code",
   "execution_count": 16,
   "id": "a0450378",
   "metadata": {},
   "outputs": [],
   "source": [
    "callback = [tf.keras.callbacks.EarlyStopping(monitor='Sparse_CategoricalCrossentropy', patience=120)]"
   ]
  },
  {
   "cell_type": "code",
   "execution_count": 17,
   "id": "fe8879c1",
   "metadata": {},
   "outputs": [
    {
     "name": "stdout",
     "output_type": "stream",
     "text": [
      "Epoch 1/15\n",
      "768/768 [==============================] - 106s 136ms/step - loss: 0.6882 - Sparse_CategoricalCrossentropy: 0.6882 - accuracy: 0.5624 - val_loss: 0.6609 - val_Sparse_CategoricalCrossentropy: 0.6607 - val_accuracy: 0.6847\n",
      "Epoch 2/15\n",
      "768/768 [==============================] - 107s 139ms/step - loss: 0.6308 - Sparse_CategoricalCrossentropy: 0.6308 - accuracy: 0.6472 - val_loss: 0.6496 - val_Sparse_CategoricalCrossentropy: 0.6496 - val_accuracy: 0.6305\n",
      "Epoch 3/15\n",
      "768/768 [==============================] - 105s 137ms/step - loss: 0.6141 - Sparse_CategoricalCrossentropy: 0.6141 - accuracy: 0.6639 - val_loss: 0.6431 - val_Sparse_CategoricalCrossentropy: 0.6428 - val_accuracy: 0.6429\n",
      "Epoch 4/15\n",
      "768/768 [==============================] - 106s 138ms/step - loss: 0.6040 - Sparse_CategoricalCrossentropy: 0.6040 - accuracy: 0.6688 - val_loss: 0.6833 - val_Sparse_CategoricalCrossentropy: 0.6828 - val_accuracy: 0.6453\n",
      "Epoch 5/15\n",
      "768/768 [==============================] - 106s 137ms/step - loss: 0.5949 - Sparse_CategoricalCrossentropy: 0.5949 - accuracy: 0.6768 - val_loss: 0.6477 - val_Sparse_CategoricalCrossentropy: 0.6478 - val_accuracy: 0.6404\n",
      "Epoch 6/15\n",
      "768/768 [==============================] - 105s 137ms/step - loss: 0.5890 - Sparse_CategoricalCrossentropy: 0.5890 - accuracy: 0.6803 - val_loss: 0.6372 - val_Sparse_CategoricalCrossentropy: 0.6371 - val_accuracy: 0.6502\n",
      "Epoch 7/15\n",
      "768/768 [==============================] - 107s 139ms/step - loss: 0.5841 - Sparse_CategoricalCrossentropy: 0.5841 - accuracy: 0.6847 - val_loss: 0.6253 - val_Sparse_CategoricalCrossentropy: 0.6250 - val_accuracy: 0.6576\n",
      "Epoch 8/15\n",
      "768/768 [==============================] - 107s 139ms/step - loss: 0.5794 - Sparse_CategoricalCrossentropy: 0.5794 - accuracy: 0.6859 - val_loss: 0.6330 - val_Sparse_CategoricalCrossentropy: 0.6325 - val_accuracy: 0.6502\n",
      "Epoch 9/15\n",
      "768/768 [==============================] - 112s 145ms/step - loss: 0.5762 - Sparse_CategoricalCrossentropy: 0.5762 - accuracy: 0.6897 - val_loss: 0.6442 - val_Sparse_CategoricalCrossentropy: 0.6442 - val_accuracy: 0.6478\n",
      "Epoch 10/15\n",
      "768/768 [==============================] - 113s 147ms/step - loss: 0.5724 - Sparse_CategoricalCrossentropy: 0.5724 - accuracy: 0.6893 - val_loss: 0.6249 - val_Sparse_CategoricalCrossentropy: 0.6252 - val_accuracy: 0.6576\n",
      "Epoch 11/15\n",
      "768/768 [==============================] - 108s 141ms/step - loss: 0.5698 - Sparse_CategoricalCrossentropy: 0.5698 - accuracy: 0.6931 - val_loss: 0.6310 - val_Sparse_CategoricalCrossentropy: 0.6309 - val_accuracy: 0.6576\n",
      "Epoch 12/15\n",
      "768/768 [==============================] - 106s 138ms/step - loss: 0.5684 - Sparse_CategoricalCrossentropy: 0.5684 - accuracy: 0.6956 - val_loss: 0.6303 - val_Sparse_CategoricalCrossentropy: 0.6306 - val_accuracy: 0.6502\n",
      "Epoch 13/15\n",
      "768/768 [==============================] - 107s 138ms/step - loss: 0.5645 - Sparse_CategoricalCrossentropy: 0.5645 - accuracy: 0.6950 - val_loss: 0.6258 - val_Sparse_CategoricalCrossentropy: 0.6259 - val_accuracy: 0.6601\n",
      "Epoch 14/15\n",
      "768/768 [==============================] - 106s 138ms/step - loss: 0.5642 - Sparse_CategoricalCrossentropy: 0.5642 - accuracy: 0.6977 - val_loss: 0.6245 - val_Sparse_CategoricalCrossentropy: 0.6248 - val_accuracy: 0.6601\n",
      "Epoch 15/15\n",
      "768/768 [==============================] - 106s 138ms/step - loss: 0.5632 - Sparse_CategoricalCrossentropy: 0.5632 - accuracy: 0.6990 - val_loss: 0.6300 - val_Sparse_CategoricalCrossentropy: 0.6300 - val_accuracy: 0.6478\n"
     ]
    }
   ],
   "source": [
    "model.compile(optimizer = optimizer, loss=tf.keras.losses.SparseCategoricalCrossentropy(from_logits=False), \n",
    "              metrics=[tf.keras.losses.SparseCategoricalCrossentropy(from_logits=False, name='Sparse_CategoricalCrossentropy'),\n",
    "                       'accuracy'])\n",
    "\n",
    "history = model.fit(norm_train_img_ds,  epochs=15, validation_data=(norm_val_img_ds), \n",
    "                    batch_size = val_batch_size, callbacks = callback)"
   ]
  },
  {
   "cell_type": "code",
   "execution_count": 18,
   "id": "ecee1dd0",
   "metadata": {},
   "outputs": [
    {
     "data": {
      "text/plain": [
       "Text(0.5, 1.0, 'MLP 3-Layer Learning-rate 5e-4')"
      ]
     },
     "execution_count": 18,
     "metadata": {},
     "output_type": "execute_result"
    },
    {
     "data": {
      "image/png": "[encoded data removed]",
      "text/plain": [
       "<Figure size 432x288 with 1 Axes>"
      ]
     },
     "metadata": {
      "needs_background": "light"
     },
     "output_type": "display_data"
    }
   ],
   "source": [
    "plt.plot(history.history['accuracy'], label='Accuracy')\n",
    "plt.plot(history.history['val_accuracy'], label = 'Val-Accuracy')\n",
    "plt.plot(history.history['loss'], label = 'Loss')\n",
    "plt.plot(history.history['val_loss'], label = 'Val-Loss')\n",
    "plt.xlabel('Epoch')\n",
    "plt.ylabel('Metrics')\n",
    "plt.ylim([0.4, 0.8])\n",
    "plt.legend(loc='lower right')\n",
    "plt.title('MLP 3-Layer Learning-rate 5e-4')"
   ]
  },
  {
   "cell_type": "code",
   "execution_count": 19,
   "id": "3089040c",
   "metadata": {},
   "outputs": [
    {
     "name": "stdout",
     "output_type": "stream",
     "text": [
      "1/1 - 0s - loss: 0.6947 - Sparse_CategoricalCrossentropy: 0.6947 - accuracy: 0.6889 - 80ms/epoch - 80ms/step\n",
      "0.6888889074325562\n"
     ]
    }
   ],
   "source": [
    "test_loss, test_sparse_entropy, test_acc = model.evaluate(test_img_ds,  verbose=2)\n",
    "print(test_acc)"
   ]
  },
  {
   "cell_type": "code",
   "execution_count": 20,
   "id": "25e815de",
   "metadata": {},
   "outputs": [
    {
     "name": "stdout",
     "output_type": "stream",
     "text": [
      "1/1 - 0s - loss: 0.4898 - Sparse_CategoricalCrossentropy: 0.4898 - accuracy: 0.8000 - 74ms/epoch - 74ms/step\n",
      "0.800000011920929\n"
     ]
    }
   ],
   "source": [
    "test_loss, test_sparse_entropy, test_acc = model.evaluate(norm_test_img_ds,  verbose=2)\n",
    "print(test_acc)"
   ]
  },
  {
   "cell_type": "code",
   "execution_count": null,
   "id": "c00c382f",
   "metadata": {},
   "outputs": [],
   "source": []
  },
  {
   "cell_type": "code",
   "execution_count": null,
   "id": "58b950bb",
   "metadata": {},
   "outputs": [],
   "source": []
  },
  {
   "cell_type": "code",
   "execution_count": null,
   "id": "92b52caf",
   "metadata": {},
   "outputs": [],
   "source": []
  },
  {
   "cell_type": "code",
   "execution_count": null,
   "id": "084f6595",
   "metadata": {},
   "outputs": [],
   "source": []
  },
  {
   "cell_type": "code",
   "execution_count": null,
   "id": "88480aa4",
   "metadata": {},
   "outputs": [],
   "source": []
  },
  {
   "cell_type": "code",
   "execution_count": null,
   "id": "1068fc58",
   "metadata": {},
   "outputs": [],
   "source": []
  },
  {
   "cell_type": "code",
   "execution_count": null,
   "id": "cecbafba",
   "metadata": {},
   "outputs": [],
   "source": []
  },
  {
   "cell_type": "code",
   "execution_count": null,
   "id": "22bfbd81",
   "metadata": {},
   "outputs": [],
   "source": []
  },
  {
   "cell_type": "code",
   "execution_count": null,
   "id": "3907d19f",
   "metadata": {},
   "outputs": [],
   "source": []
  },
  {
   "cell_type": "code",
   "execution_count": null,
   "id": "91b0b409",
   "metadata": {},
   "outputs": [],
   "source": []
  },
  {
   "cell_type": "code",
   "execution_count": null,
   "id": "32e6e5c6",
   "metadata": {},
   "outputs": [],
   "source": []
  },
  {
   "cell_type": "code",
   "execution_count": null,
   "id": "571a8115",
   "metadata": {},
   "outputs": [],
   "source": []
  },
  {
   "cell_type": "code",
   "execution_count": null,
   "id": "32fbb641",
   "metadata": {},
   "outputs": [],
   "source": []
  },
  {
   "cell_type": "code",
   "execution_count": null,
   "id": "660e4693",
   "metadata": {},
   "outputs": [],
   "source": []
  },
  {
   "cell_type": "code",
   "execution_count": null,
   "id": "2d0a381b",
   "metadata": {},
   "outputs": [],
   "source": []
  },
  {
   "cell_type": "code",
   "execution_count": null,
   "id": "707e52d1",
   "metadata": {},
   "outputs": [],
   "source": []
  },
  {
   "cell_type": "code",
   "execution_count": null,
   "id": "b44ef330",
   "metadata": {},
   "outputs": [],
   "source": []
  },
  {
   "cell_type": "code",
   "execution_count": null,
   "id": "5e952666",
   "metadata": {},
   "outputs": [],
   "source": []
  },
  {
   "cell_type": "code",
   "execution_count": null,
   "id": "3cc476ff",
   "metadata": {},
   "outputs": [],
   "source": []
  },
  {
   "cell_type": "code",
   "execution_count": null,
   "id": "194e3bdd",
   "metadata": {},
   "outputs": [],
   "source": []
  },
  {
   "cell_type": "code",
   "execution_count": null,
   "id": "4605f94e",
   "metadata": {},
   "outputs": [],
   "source": []
  },
  {
   "cell_type": "code",
   "execution_count": null,
   "id": "0278f32a",
   "metadata": {},
   "outputs": [],
   "source": []
  },
  {
   "cell_type": "code",
   "execution_count": null,
   "id": "a2aa619f",
   "metadata": {},
   "outputs": [],
   "source": []
  },
  {
   "cell_type": "code",
   "execution_count": null,
   "id": "0b32f2ae",
   "metadata": {},
   "outputs": [],
   "source": []
  },
  {
   "cell_type": "code",
   "execution_count": null,
   "id": "ae83ecf7",
   "metadata": {},
   "outputs": [],
   "source": []
  },
  {
   "cell_type": "code",
   "execution_count": null,
   "id": "1cb3c04c",
   "metadata": {},
   "outputs": [],
   "source": []
  },
  {
   "cell_type": "code",
   "execution_count": null,
   "id": "4e3579ce",
   "metadata": {},
   "outputs": [],
   "source": []
  },
  {
   "cell_type": "code",
   "execution_count": null,
   "id": "fc34bfdb",
   "metadata": {},
   "outputs": [],
   "source": []
  },
  {
   "cell_type": "code",
   "execution_count": null,
   "id": "4c7c3be5",
   "metadata": {},
   "outputs": [],
   "source": []
  },
  {
   "cell_type": "code",
   "execution_count": null,
   "id": "2c62c53e",
   "metadata": {},
   "outputs": [],
   "source": []
  },
  {
   "cell_type": "code",
   "execution_count": null,
   "id": "3e059475",
   "metadata": {},
   "outputs": [],
   "source": []
  },
  {
   "cell_type": "code",
   "execution_count": null,
   "id": "3a09f037",
   "metadata": {},
   "outputs": [],
   "source": []
  },
  {
   "cell_type": "code",
   "execution_count": null,
   "id": "b671fd42",
   "metadata": {},
   "outputs": [],
   "source": []
  },
  {
   "cell_type": "code",
   "execution_count": null,
   "id": "997c484a",
   "metadata": {},
   "outputs": [],
   "source": []
  },
  {
   "cell_type": "code",
   "execution_count": null,
   "id": "85a8b4ab",
   "metadata": {},
   "outputs": [],
   "source": []
  }
 ],
 "metadata": {
  "kernelspec": {
   "display_name": "Python 3 (ipykernel)",
   "language": "python",
   "name": "python3"
  },
  "language_info": {
   "codemirror_mode": {
    "name": "ipython",
    "version": 3
   },
   "file_extension": ".py",
   "mimetype": "text/x-python",
   "name": "python",
   "nbconvert_exporter": "python",
   "pygments_lexer": "ipython3",
   "version": "3.9.12"
  }
 },
 "nbformat": 4,
 "nbformat_minor": 5
}
