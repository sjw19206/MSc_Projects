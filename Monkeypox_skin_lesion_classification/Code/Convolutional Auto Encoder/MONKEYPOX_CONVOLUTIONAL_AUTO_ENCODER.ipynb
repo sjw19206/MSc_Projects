{
 "cells": [
  {
   "cell_type": "code",
   "execution_count": 18,
   "id": "478868bb",
   "metadata": {},
   "outputs": [],
   "source": [
    "import numpy as np\n",
    "import tensorflow as tf\n",
    "import tensorflow_datasets as tfds\n",
    "import matplotlib.pyplot as plt\n",
    "\n",
    "from keras import layers, models, backend, optimizers, regularizers, Model, losses"
   ]
  },
  {
   "cell_type": "code",
   "execution_count": 3,
   "id": "87f09856",
   "metadata": {},
   "outputs": [],
   "source": [
    "# Train and Test Image Directories\n",
    "train_img_dir = \"D:Development/Data_Science_Datasets/Monkeypox_skinlesion/Original/Train/\"\n",
    "test_img_dir = \"D:Development/Data_Science_Datasets/Monkeypox_skinlesion/Original/Test/\"\n",
    "val_img_dir = \"D:Development/Data_Science_Datasets/Monkeypox_skinlesion/Original/Val/\"\n",
    "\n",
    "# Basic variables\n",
    "val_batch_size = 51\n",
    "val_img_height = 56\n",
    "val_img_width = 56\n",
    "val_validation_split = None\n",
    "val_subset = None\n",
    "val_shuffle = False\n",
    "val_labels = 'inferred'\n",
    "val_seed = 56\n",
    "val_channels = 3\n",
    "val_interpolation = 'gaussian'\n",
    "val_steps_per_epochs = 95\n",
    "val_learning_rate = 0.0001\n",
    "val_train_img_height = 224\n",
    "val_train_img_width = 224"
   ]
  },
  {
   "cell_type": "code",
   "execution_count": 4,
   "id": "a73930fb",
   "metadata": {},
   "outputs": [
    {
     "name": "stdout",
     "output_type": "stream",
     "text": [
      "Found 2156 files belonging to 2 classes.\n"
     ]
    }
   ],
   "source": [
    "train_img_ds = tf.keras.utils.image_dataset_from_directory(\n",
    "    train_img_dir,\n",
    "    validation_split = val_validation_split,\n",
    "    subset = val_subset,\n",
    "    seed = val_seed,\n",
    "    image_size=(val_train_img_height, val_train_img_width),\n",
    "    batch_size = None, \n",
    "    shuffle = val_shuffle,\n",
    "    labels = val_labels,\n",
    "    interpolation = val_interpolation)"
   ]
  },
  {
   "cell_type": "code",
   "execution_count": 5,
   "id": "2f5904eb",
   "metadata": {},
   "outputs": [
    {
     "name": "stdout",
     "output_type": "stream",
     "text": [
      "Found 45 files belonging to 2 classes.\n"
     ]
    }
   ],
   "source": [
    "test_img_ds = tf.keras.utils.image_dataset_from_directory(\n",
    "    test_img_dir,\n",
    "    validation_split = val_validation_split,\n",
    "    subset = val_subset,\n",
    "    seed = val_seed,\n",
    "    image_size=(val_img_height, val_img_width),\n",
    "    batch_size = val_batch_size, \n",
    "    shuffle = val_shuffle,\n",
    "    labels = val_labels,\n",
    "    interpolation = val_interpolation)"
   ]
  },
  {
   "cell_type": "code",
   "execution_count": 6,
   "id": "f0696a0a",
   "metadata": {},
   "outputs": [
    {
     "name": "stdout",
     "output_type": "stream",
     "text": [
      "Found 406 files belonging to 2 classes.\n"
     ]
    }
   ],
   "source": [
    "val_img_ds = tf.keras.utils.image_dataset_from_directory(\n",
    "    val_img_dir,\n",
    "    validation_split = val_validation_split,\n",
    "    subset = val_subset,\n",
    "    seed = val_seed,\n",
    "    image_size=(val_train_img_height, val_train_img_width),\n",
    "    batch_size = None, \n",
    "    shuffle = val_shuffle,\n",
    "    labels = val_labels,\n",
    "    interpolation = val_interpolation)"
   ]
  },
  {
   "cell_type": "code",
   "execution_count": 7,
   "id": "bc5add05",
   "metadata": {},
   "outputs": [],
   "source": [
    "train_images = []\n",
    "train_labels = []\n",
    "\n",
    "for image_data, labels_data in train_img_ds:\n",
    "    train_images.append(image_data.numpy())\n",
    "    train_labels.append(labels_data)    "
   ]
  },
  {
   "cell_type": "code",
   "execution_count": 8,
   "id": "026b442b",
   "metadata": {},
   "outputs": [],
   "source": [
    "val_images = []\n",
    "val_labels = []\n",
    "\n",
    "for image_data, labels_data in val_img_ds:\n",
    "    val_images.append(image_data.numpy())\n",
    "    val_labels.append(labels_data)"
   ]
  },
  {
   "cell_type": "code",
   "execution_count": 9,
   "id": "467632a6",
   "metadata": {},
   "outputs": [],
   "source": [
    "x_train = np.asarray(train_images)\n",
    "x_val = np.asarray(val_images)"
   ]
  },
  {
   "cell_type": "code",
   "execution_count": 10,
   "id": "eaab5d9e",
   "metadata": {},
   "outputs": [
    {
     "name": "stdout",
     "output_type": "stream",
     "text": [
      "Model: \"sequential\"\n",
      "_________________________________________________________________\n",
      " Layer (type)                Output Shape              Param #   \n",
      "=================================================================\n",
      " conv2d (Conv2D)             (None, 224, 224, 32)      896       \n",
      "                                                                 \n",
      " max_pooling2d (MaxPooling2D  (None, 112, 112, 32)     0         \n",
      " )                                                               \n",
      "                                                                 \n",
      " conv2d_1 (Conv2D)           (None, 112, 112, 64)      18496     \n",
      "                                                                 \n",
      " max_pooling2d_1 (MaxPooling  (None, 56, 56, 64)       0         \n",
      " 2D)                                                             \n",
      "                                                                 \n",
      " conv2d_2 (Conv2D)           (None, 56, 56, 128)       73856     \n",
      "                                                                 \n",
      " max_pooling2d_2 (MaxPooling  (None, 28, 28, 128)      0         \n",
      " 2D)                                                             \n",
      "                                                                 \n",
      "=================================================================\n",
      "Total params: 93,248\n",
      "Trainable params: 93,248\n",
      "Non-trainable params: 0\n",
      "_________________________________________________________________\n"
     ]
    }
   ],
   "source": [
    "encoder = models.Sequential()\n",
    "\n",
    "encoder.add(layers.Conv2D(32, 3, strides=1, padding='same', activation='relu', input_shape=x_train.shape[1:]))\n",
    "encoder.add(layers.MaxPooling2D(2, strides=2))\n",
    "\n",
    "encoder.add(layers.Conv2D(64, 3, strides=1, padding='same', activation='relu'))\n",
    "encoder.add(layers.MaxPooling2D(2, strides=2))\n",
    "\n",
    "encoder.add(layers.Conv2D(128, 3, strides=1, padding='same', activation='relu'))\n",
    "encoder.add(layers.MaxPooling2D(2, strides=2))\n",
    "\n",
    "encoder.summary()"
   ]
  },
  {
   "cell_type": "code",
   "execution_count": 11,
   "id": "d418524d",
   "metadata": {},
   "outputs": [
    {
     "name": "stdout",
     "output_type": "stream",
     "text": [
      "Model: \"sequential_1\"\n",
      "_________________________________________________________________\n",
      " Layer (type)                Output Shape              Param #   \n",
      "=================================================================\n",
      " conv2d_3 (Conv2D)           (None, 28, 28, 128)       147584    \n",
      "                                                                 \n",
      " up_sampling2d (UpSampling2D  (None, 56, 56, 128)      0         \n",
      " )                                                               \n",
      "                                                                 \n",
      " conv2d_4 (Conv2D)           (None, 56, 56, 16)        18448     \n",
      "                                                                 \n",
      " up_sampling2d_1 (UpSampling  (None, 112, 112, 16)     0         \n",
      " 2D)                                                             \n",
      "                                                                 \n",
      " conv2d_5 (Conv2D)           (None, 112, 112, 3)       435       \n",
      "                                                                 \n",
      " up_sampling2d_2 (UpSampling  (None, 224, 224, 3)      0         \n",
      " 2D)                                                             \n",
      "                                                                 \n",
      "=================================================================\n",
      "Total params: 166,467\n",
      "Trainable params: 166,467\n",
      "Non-trainable params: 0\n",
      "_________________________________________________________________\n"
     ]
    }
   ],
   "source": [
    "decoder = models.Sequential()\n",
    "\n",
    "decoder.add(layers.Conv2D(128, 3, strides=1, padding='same', activation='relu', input_shape=encoder.output.shape[1:]))\n",
    "decoder.add(layers.UpSampling2D(2))\n",
    "\n",
    "decoder.add(layers.Conv2D(16, 3, strides=1, padding='same', activation='relu'))\n",
    "decoder.add(layers.UpSampling2D(2))\n",
    "\n",
    "decoder.add(layers.Conv2D(3, 3, strides=1, padding='same', activation='relu'))\n",
    "decoder.add(layers.UpSampling2D(2))\n",
    "\n",
    "decoder.summary()"
   ]
  },
  {
   "cell_type": "code",
   "execution_count": 14,
   "id": "d8104b1f",
   "metadata": {},
   "outputs": [
    {
     "name": "stdout",
     "output_type": "stream",
     "text": [
      "Model: \"model\"\n",
      "_________________________________________________________________\n",
      " Layer (type)                Output Shape              Param #   \n",
      "=================================================================\n",
      " conv2d_input (InputLayer)   [(None, 224, 224, 3)]     0         \n",
      "                                                                 \n",
      " conv2d (Conv2D)             (None, 224, 224, 32)      896       \n",
      "                                                                 \n",
      " max_pooling2d (MaxPooling2D  (None, 112, 112, 32)     0         \n",
      " )                                                               \n",
      "                                                                 \n",
      " conv2d_1 (Conv2D)           (None, 112, 112, 64)      18496     \n",
      "                                                                 \n",
      " max_pooling2d_1 (MaxPooling  (None, 56, 56, 64)       0         \n",
      " 2D)                                                             \n",
      "                                                                 \n",
      " conv2d_2 (Conv2D)           (None, 56, 56, 128)       73856     \n",
      "                                                                 \n",
      " max_pooling2d_2 (MaxPooling  (None, 28, 28, 128)      0         \n",
      " 2D)                                                             \n",
      "                                                                 \n",
      " sequential_1 (Sequential)   (None, 224, 224, 3)       166467    \n",
      "                                                                 \n",
      "=================================================================\n",
      "Total params: 259,715\n",
      "Trainable params: 259,715\n",
      "Non-trainable params: 0\n",
      "_________________________________________________________________\n"
     ]
    }
   ],
   "source": [
    "conv_autoencoder = Model(inputs=encoder.input, outputs=decoder(encoder.outputs))\n",
    "conv_autoencoder.summary()"
   ]
  },
  {
   "cell_type": "code",
   "execution_count": 15,
   "id": "f6ca6f77",
   "metadata": {},
   "outputs": [
    {
     "name": "stdout",
     "output_type": "stream",
     "text": [
      "Model: \"model_1\"\n",
      "_________________________________________________________________\n",
      " Layer (type)                Output Shape              Param #   \n",
      "=================================================================\n",
      " conv2d_input (InputLayer)   [(None, 224, 224, 3)]     0         \n",
      "                                                                 \n",
      " conv2d (Conv2D)             (None, 224, 224, 32)      896       \n",
      "                                                                 \n",
      " max_pooling2d (MaxPooling2D  (None, 112, 112, 32)     0         \n",
      " )                                                               \n",
      "                                                                 \n",
      " conv2d_1 (Conv2D)           (None, 112, 112, 64)      18496     \n",
      "                                                                 \n",
      " max_pooling2d_1 (MaxPooling  (None, 56, 56, 64)       0         \n",
      " 2D)                                                             \n",
      "                                                                 \n",
      " conv2d_2 (Conv2D)           (None, 56, 56, 128)       73856     \n",
      "                                                                 \n",
      " max_pooling2d_2 (MaxPooling  (None, 28, 28, 128)      0         \n",
      " 2D)                                                             \n",
      "                                                                 \n",
      " sequential_1 (Sequential)   (None, 224, 224, 3)       166467    \n",
      "                                                                 \n",
      "=================================================================\n",
      "Total params: 259,715\n",
      "Trainable params: 259,715\n",
      "Non-trainable params: 0\n",
      "_________________________________________________________________\n"
     ]
    }
   ],
   "source": [
    "conv_autoencoder = Model(inputs=encoder.input, outputs=decoder(encoder.outputs))\n",
    "conv_autoencoder.summary()"
   ]
  },
  {
   "cell_type": "code",
   "execution_count": 19,
   "id": "c8c296d0",
   "metadata": {},
   "outputs": [],
   "source": [
    "conv_autoencoder.compile(optimizer='adam', loss=losses.mean_squared_error)"
   ]
  },
  {
   "cell_type": "code",
   "execution_count": 21,
   "id": "faebeb74",
   "metadata": {},
   "outputs": [
    {
     "name": "stdout",
     "output_type": "stream",
     "text": [
      "Epoch 1/50\n",
      "43/43 [==============================] - 169s 4s/step - loss: 6337.2656 - val_loss: 961.0909\n",
      "Epoch 2/50\n",
      "43/43 [==============================] - 170s 4s/step - loss: 593.8520 - val_loss: 418.5085\n",
      "Epoch 3/50\n",
      "43/43 [==============================] - 175s 4s/step - loss: 336.9705 - val_loss: 262.6630\n",
      "Epoch 4/50\n",
      "43/43 [==============================] - 175s 4s/step - loss: 217.7607 - val_loss: 218.0819\n",
      "Epoch 5/50\n",
      "43/43 [==============================] - 166s 4s/step - loss: 158.5281 - val_loss: 152.1689\n",
      "Epoch 6/50\n",
      "43/43 [==============================] - 166s 4s/step - loss: 149.9108 - val_loss: 161.9470\n",
      "Epoch 7/50\n",
      "43/43 [==============================] - 166s 4s/step - loss: 128.1797 - val_loss: 127.4305\n",
      "Epoch 8/50\n",
      "43/43 [==============================] - 169s 4s/step - loss: 121.1181 - val_loss: 153.6999\n",
      "Epoch 9/50\n",
      "43/43 [==============================] - 165s 4s/step - loss: 116.2612 - val_loss: 123.6837\n",
      "Epoch 10/50\n",
      "43/43 [==============================] - 165s 4s/step - loss: 110.3934 - val_loss: 119.5875\n",
      "Epoch 11/50\n",
      "43/43 [==============================] - 166s 4s/step - loss: 111.7714 - val_loss: 116.6287\n",
      "Epoch 12/50\n",
      "43/43 [==============================] - 167s 4s/step - loss: 104.9928 - val_loss: 219.5100\n",
      "Epoch 13/50\n",
      "43/43 [==============================] - 169s 4s/step - loss: 119.3521 - val_loss: 112.3101\n",
      "Epoch 14/50\n",
      "43/43 [==============================] - 177s 4s/step - loss: 98.5824 - val_loss: 122.1475\n",
      "Epoch 15/50\n",
      "43/43 [==============================] - 171s 4s/step - loss: 101.8090 - val_loss: 120.9956\n",
      "Epoch 16/50\n",
      "43/43 [==============================] - 181s 4s/step - loss: 102.2411 - val_loss: 112.2387\n",
      "Epoch 17/50\n",
      "43/43 [==============================] - 170s 4s/step - loss: 99.4225 - val_loss: 105.3982\n",
      "Epoch 18/50\n",
      "43/43 [==============================] - 170s 4s/step - loss: 96.5555 - val_loss: 123.9721\n",
      "Epoch 19/50\n",
      "43/43 [==============================] - 173s 4s/step - loss: 103.1117 - val_loss: 113.1701\n",
      "Epoch 20/50\n",
      "43/43 [==============================] - 170s 4s/step - loss: 95.2489 - val_loss: 103.4140\n",
      "Epoch 21/50\n",
      "43/43 [==============================] - 169s 4s/step - loss: 94.5749 - val_loss: 105.7572\n",
      "Epoch 22/50\n",
      "43/43 [==============================] - 170s 4s/step - loss: 94.8264 - val_loss: 110.5270\n",
      "Epoch 23/50\n",
      "43/43 [==============================] - 171s 4s/step - loss: 94.2933 - val_loss: 99.5195\n",
      "Epoch 24/50\n",
      "43/43 [==============================] - 170s 4s/step - loss: 94.1325 - val_loss: 106.7270\n",
      "Epoch 25/50\n",
      "43/43 [==============================] - 168s 4s/step - loss: 92.3689 - val_loss: 111.1247\n",
      "Epoch 26/50\n",
      "43/43 [==============================] - 171s 4s/step - loss: 95.3445 - val_loss: 222.4853\n",
      "Epoch 27/50\n",
      "43/43 [==============================] - 171s 4s/step - loss: 106.5489 - val_loss: 105.1410\n",
      "Epoch 28/50\n",
      "43/43 [==============================] - 174s 4s/step - loss: 88.9897 - val_loss: 96.5550\n",
      "Epoch 29/50\n",
      "43/43 [==============================] - 175s 4s/step - loss: 89.8092 - val_loss: 97.9733\n",
      "Epoch 30/50\n",
      "43/43 [==============================] - 172s 4s/step - loss: 94.4001 - val_loss: 139.3606\n",
      "Epoch 31/50\n",
      "43/43 [==============================] - 175s 4s/step - loss: 102.7297 - val_loss: 100.5445\n",
      "Epoch 32/50\n",
      "43/43 [==============================] - 170s 4s/step - loss: 87.6273 - val_loss: 96.2269\n",
      "Epoch 33/50\n",
      "43/43 [==============================] - 168s 4s/step - loss: 88.3257 - val_loss: 101.9267\n",
      "Epoch 34/50\n",
      "43/43 [==============================] - 173s 4s/step - loss: 90.7923 - val_loss: 99.0621\n",
      "Epoch 35/50\n",
      "43/43 [==============================] - 176s 4s/step - loss: 91.3114 - val_loss: 140.5054\n",
      "Epoch 36/50\n",
      "43/43 [==============================] - 166s 4s/step - loss: 101.2530 - val_loss: 94.6018\n",
      "Epoch 37/50\n",
      "43/43 [==============================] - 164s 4s/step - loss: 82.7773 - val_loss: 99.1342\n",
      "Epoch 38/50\n",
      "43/43 [==============================] - 170s 4s/step - loss: 91.8000 - val_loss: 93.7392\n",
      "Epoch 39/50\n",
      "43/43 [==============================] - 167s 4s/step - loss: 82.6132 - val_loss: 92.7537\n",
      "Epoch 40/50\n",
      "43/43 [==============================] - 165s 4s/step - loss: 93.2655 - val_loss: 99.4977\n",
      "Epoch 41/50\n",
      "43/43 [==============================] - 162s 4s/step - loss: 85.8009 - val_loss: 93.5642\n",
      "Epoch 42/50\n",
      "43/43 [==============================] - 166s 4s/step - loss: 119.3258 - val_loss: 107.2552\n",
      "Epoch 43/50\n",
      "43/43 [==============================] - 166s 4s/step - loss: 87.6162 - val_loss: 93.6786\n",
      "Epoch 44/50\n",
      "43/43 [==============================] - 176s 4s/step - loss: 82.9011 - val_loss: 92.4919\n",
      "Epoch 45/50\n",
      "43/43 [==============================] - 164s 4s/step - loss: 81.0939 - val_loss: 91.8106\n",
      "Epoch 46/50\n",
      "43/43 [==============================] - 160s 4s/step - loss: 86.6313 - val_loss: 112.3451\n",
      "Epoch 47/50\n",
      "43/43 [==============================] - 162s 4s/step - loss: 87.3315 - val_loss: 91.2491\n",
      "Epoch 48/50\n",
      "43/43 [==============================] - 170s 4s/step - loss: 83.4552 - val_loss: 92.9460\n",
      "Epoch 49/50\n",
      "43/43 [==============================] - 164s 4s/step - loss: 81.3043 - val_loss: 95.3655\n",
      "Epoch 50/50\n",
      "43/43 [==============================] - 167s 4s/step - loss: 85.2639 - val_loss: 135.4026\n"
     ]
    }
   ],
   "source": [
    "history = conv_autoencoder.fit(x_train, x_train, batch_size = val_batch_size, epochs=50, validation_data=(x_val, x_val))"
   ]
  },
  {
   "cell_type": "code",
   "execution_count": 22,
   "id": "3b39ec64",
   "metadata": {},
   "outputs": [
    {
     "data": {
      "text/plain": [
       "<matplotlib.legend.Legend at 0x1e3deadcb50>"
      ]
     },
     "execution_count": 22,
     "metadata": {},
     "output_type": "execute_result"
    },
    {
     "data": {
      "image/png": "[encoded data removed]",
      "text/plain": [
       "<Figure size 504x504 with 1 Axes>"
      ]
     },
     "metadata": {
      "needs_background": "light"
     },
     "output_type": "display_data"
    }
   ],
   "source": [
    "fig, axs = plt.subplots(figsize=(7,7))\n",
    "\n",
    "axs.plot(history.history['loss'])\n",
    "axs.plot(history.history['val_loss'])\n",
    "axs.title.set_text('Training Loss vs Validation Loss')\n",
    "axs.set_xlabel('Epochs')\n",
    "axs.set_ylabel('Loss')\n",
    "axs.legend(['Train','Validation'])"
   ]
  },
  {
   "cell_type": "code",
   "execution_count": 23,
   "id": "dc942279",
   "metadata": {},
   "outputs": [],
   "source": [
    "constr_data = []\n",
    "for train_sample in x_train:\n",
    "    latent = encoder(np.expand_dims(train_sample,0))\n",
    "    constructed = decoder(latent)\n",
    "    constr_data.append(constructed[0]/255)    "
   ]
  },
  {
   "cell_type": "code",
   "execution_count": 25,
   "id": "7a7c4d75",
   "metadata": {},
   "outputs": [],
   "source": [
    "train_image_tensor = tf.convert_to_tensor(constr_data)\n",
    "train_label_tensor = tf.convert_to_tensor(train_labels)"
   ]
  },
  {
   "cell_type": "code",
   "execution_count": 26,
   "id": "ba26b8a3",
   "metadata": {},
   "outputs": [],
   "source": [
    "tmp_train_img_tensor = tf.image.resize(train_image_tensor, (val_img_height, val_img_width))"
   ]
  },
  {
   "cell_type": "code",
   "execution_count": 27,
   "id": "e8a8e181",
   "metadata": {},
   "outputs": [],
   "source": [
    "cae_train_ds = tf.data.Dataset.from_tensor_slices((tmp_train_img_tensor, train_label_tensor))"
   ]
  },
  {
   "cell_type": "code",
   "execution_count": 28,
   "id": "237b2304",
   "metadata": {},
   "outputs": [
    {
     "data": {
      "text/plain": [
       "(TensorSpec(shape=(56, 56, 3), dtype=tf.float32, name=None),\n",
       " TensorSpec(shape=(), dtype=tf.int32, name=None))"
      ]
     },
     "execution_count": 28,
     "metadata": {},
     "output_type": "execute_result"
    }
   ],
   "source": [
    "cae_train_ds.element_spec"
   ]
  },
  {
   "cell_type": "code",
   "execution_count": 29,
   "id": "fa543919",
   "metadata": {},
   "outputs": [],
   "source": [
    "cae_train_final_ds = cae_train_ds.batch(batch_size = val_batch_size)"
   ]
  },
  {
   "cell_type": "code",
   "execution_count": 30,
   "id": "9b05a69c",
   "metadata": {},
   "outputs": [
    {
     "data": {
      "text/plain": [
       "(TensorSpec(shape=(None, 56, 56, 3), dtype=tf.float32, name=None),\n",
       " TensorSpec(shape=(None,), dtype=tf.int32, name=None))"
      ]
     },
     "execution_count": 30,
     "metadata": {},
     "output_type": "execute_result"
    }
   ],
   "source": [
    "cae_train_final_ds.element_spec"
   ]
  },
  {
   "cell_type": "code",
   "execution_count": 31,
   "id": "6c1a80b8",
   "metadata": {},
   "outputs": [
    {
     "data": {
      "text/plain": [
       "(TensorSpec(shape=(None, 56, 56, 3), dtype=tf.float32, name=None),\n",
       " TensorSpec(shape=(None,), dtype=tf.int32, name=None))"
      ]
     },
     "execution_count": 31,
     "metadata": {},
     "output_type": "execute_result"
    }
   ],
   "source": [
    "test_img_ds.element_spec"
   ]
  },
  {
   "cell_type": "code",
   "execution_count": 41,
   "id": "e29733c7",
   "metadata": {},
   "outputs": [
    {
     "name": "stdout",
     "output_type": "stream",
     "text": [
      "Found 406 files belonging to 2 classes.\n"
     ]
    }
   ],
   "source": [
    "val_img_final_ds = tf.keras.utils.image_dataset_from_directory(\n",
    "    val_img_dir,\n",
    "    validation_split = val_validation_split,\n",
    "    subset = val_subset,\n",
    "    seed = val_seed,\n",
    "    image_size=(val_img_height, val_img_width),\n",
    "    batch_size = val_batch_size, \n",
    "    shuffle = val_shuffle,\n",
    "    labels = val_labels,\n",
    "    interpolation = val_interpolation)"
   ]
  },
  {
   "cell_type": "code",
   "execution_count": 42,
   "id": "72a45d2a",
   "metadata": {},
   "outputs": [
    {
     "data": {
      "text/plain": [
       "(TensorSpec(shape=(None, 56, 56, 3), dtype=tf.float32, name=None),\n",
       " TensorSpec(shape=(None,), dtype=tf.int32, name=None))"
      ]
     },
     "execution_count": 42,
     "metadata": {},
     "output_type": "execute_result"
    }
   ],
   "source": [
    "val_img_final_ds.element_spec"
   ]
  },
  {
   "cell_type": "code",
   "execution_count": 43,
   "id": "2ca87502",
   "metadata": {},
   "outputs": [],
   "source": [
    "normalization_layer = tf.keras.layers.Rescaling(1./255)\n",
    "norm_train_img_ds = cae_train_final_ds.map(lambda x, y: (normalization_layer(x), y))\n",
    "norm_test_img_ds = test_img_ds.map(lambda x, y: (normalization_layer(x), y))\n",
    "norm_val_img_ds = val_img_final_ds.map(lambda x, y: (normalization_layer(x), y))"
   ]
  },
  {
   "cell_type": "code",
   "execution_count": 44,
   "id": "728368b9",
   "metadata": {},
   "outputs": [],
   "source": [
    "val_learning_rate = 0.0001"
   ]
  },
  {
   "cell_type": "code",
   "execution_count": 60,
   "id": "bacaa43c",
   "metadata": {},
   "outputs": [],
   "source": [
    "model = models.Sequential()\n",
    "model.add(layers.Flatten(input_shape = (val_img_height, val_img_width, val_channels)))\n",
    "model.add(layers.Dense(512, activation='sigmoid'))\n",
    "model.add(layers.Dropout(0.3))\n",
    "model.add(layers.Dense(256, activation='sigmoid'))\n",
    "model.add(layers.Dropout(0.2))\n",
    "model.add(layers.Dense(2, activation = 'softmax'))"
   ]
  },
  {
   "cell_type": "code",
   "execution_count": 61,
   "id": "e03ecd99",
   "metadata": {},
   "outputs": [
    {
     "name": "stdout",
     "output_type": "stream",
     "text": [
      "Model: \"sequential_5\"\n",
      "_________________________________________________________________\n",
      " Layer (type)                Output Shape              Param #   \n",
      "=================================================================\n",
      " flatten_3 (Flatten)         (None, 9408)              0         \n",
      "                                                                 \n",
      " dense_9 (Dense)             (None, 512)               4817408   \n",
      "                                                                 \n",
      " dropout_2 (Dropout)         (None, 512)               0         \n",
      "                                                                 \n",
      " dense_10 (Dense)            (None, 256)               131328    \n",
      "                                                                 \n",
      " dropout_3 (Dropout)         (None, 256)               0         \n",
      "                                                                 \n",
      " dense_11 (Dense)            (None, 2)                 514       \n",
      "                                                                 \n",
      "=================================================================\n",
      "Total params: 4,949,250\n",
      "Trainable params: 4,949,250\n",
      "Non-trainable params: 0\n",
      "_________________________________________________________________\n"
     ]
    }
   ],
   "source": [
    "model.summary()"
   ]
  },
  {
   "cell_type": "code",
   "execution_count": 62,
   "id": "27a0cc0f",
   "metadata": {},
   "outputs": [],
   "source": [
    "lr_schedule = tf.keras.optimizers.schedules.InverseTimeDecay(val_learning_rate, decay_steps = val_steps_per_epochs, \n",
    "                                                             decay_rate=1, staircase=False)"
   ]
  },
  {
   "cell_type": "code",
   "execution_count": 63,
   "id": "a4586907",
   "metadata": {},
   "outputs": [],
   "source": [
    "optimizer = optimizers.Adam(lr_schedule)"
   ]
  },
  {
   "cell_type": "code",
   "execution_count": 64,
   "id": "ae54826b",
   "metadata": {},
   "outputs": [],
   "source": [
    "callback = [tf.keras.callbacks.EarlyStopping(monitor='Sparse_CategoricalCrossentropy', patience=120)]"
   ]
  },
  {
   "cell_type": "code",
   "execution_count": 65,
   "id": "e0fc3cfb",
   "metadata": {},
   "outputs": [
    {
     "name": "stdout",
     "output_type": "stream",
     "text": [
      "Epoch 1/30\n",
      "43/43 [==============================] - 2s 38ms/step - loss: 1.2505 - Sparse_CategoricalCrossentropy: 1.2447 - accuracy: 0.4624 - val_loss: 1.3915 - val_Sparse_CategoricalCrossentropy: 1.3848 - val_accuracy: 0.5862\n",
      "Epoch 2/30\n",
      "43/43 [==============================] - 1s 31ms/step - loss: 0.7625 - Sparse_CategoricalCrossentropy: 0.7568 - accuracy: 0.4689 - val_loss: 1.8698 - val_Sparse_CategoricalCrossentropy: 1.8607 - val_accuracy: 0.5862\n",
      "Epoch 3/30\n",
      "43/43 [==============================] - 1s 31ms/step - loss: 0.8414 - Sparse_CategoricalCrossentropy: 0.8349 - accuracy: 0.3882 - val_loss: 1.8438 - val_Sparse_CategoricalCrossentropy: 1.8349 - val_accuracy: 0.5862\n",
      "Epoch 4/30\n",
      "43/43 [==============================] - 1s 32ms/step - loss: 0.8209 - Sparse_CategoricalCrossentropy: 0.8160 - accuracy: 0.3998 - val_loss: 1.8343 - val_Sparse_CategoricalCrossentropy: 1.8254 - val_accuracy: 0.5862\n",
      "Epoch 5/30\n",
      "43/43 [==============================] - 1s 32ms/step - loss: 0.8081 - Sparse_CategoricalCrossentropy: 0.8029 - accuracy: 0.4123 - val_loss: 1.8274 - val_Sparse_CategoricalCrossentropy: 1.8185 - val_accuracy: 0.5862\n",
      "Epoch 6/30\n",
      "43/43 [==============================] - 1s 31ms/step - loss: 0.7945 - Sparse_CategoricalCrossentropy: 0.7879 - accuracy: 0.4332 - val_loss: 1.8210 - val_Sparse_CategoricalCrossentropy: 1.8121 - val_accuracy: 0.5862\n",
      "Epoch 7/30\n",
      "43/43 [==============================] - 1s 34ms/step - loss: 0.7780 - Sparse_CategoricalCrossentropy: 0.7736 - accuracy: 0.4462 - val_loss: 1.8137 - val_Sparse_CategoricalCrossentropy: 1.8049 - val_accuracy: 0.5862\n",
      "Epoch 8/30\n",
      "43/43 [==============================] - 1s 31ms/step - loss: 0.7710 - Sparse_CategoricalCrossentropy: 0.7661 - accuracy: 0.4536 - val_loss: 1.8096 - val_Sparse_CategoricalCrossentropy: 1.8008 - val_accuracy: 0.5862\n",
      "Epoch 9/30\n",
      "43/43 [==============================] - 1s 34ms/step - loss: 0.7658 - Sparse_CategoricalCrossentropy: 0.7630 - accuracy: 0.4680 - val_loss: 1.8073 - val_Sparse_CategoricalCrossentropy: 1.7985 - val_accuracy: 0.5862\n",
      "Epoch 10/30\n",
      "43/43 [==============================] - 1s 31ms/step - loss: 0.7731 - Sparse_CategoricalCrossentropy: 0.7687 - accuracy: 0.4490 - val_loss: 1.8064 - val_Sparse_CategoricalCrossentropy: 1.7976 - val_accuracy: 0.5862\n",
      "Epoch 11/30\n",
      "43/43 [==============================] - 1s 33ms/step - loss: 0.7614 - Sparse_CategoricalCrossentropy: 0.7588 - accuracy: 0.4652 - val_loss: 1.8060 - val_Sparse_CategoricalCrossentropy: 1.7972 - val_accuracy: 0.5862\n",
      "Epoch 12/30\n",
      "43/43 [==============================] - 1s 33ms/step - loss: 0.7701 - Sparse_CategoricalCrossentropy: 0.7678 - accuracy: 0.4527 - val_loss: 1.8057 - val_Sparse_CategoricalCrossentropy: 1.7969 - val_accuracy: 0.5862\n",
      "Epoch 13/30\n",
      "43/43 [==============================] - 1s 34ms/step - loss: 0.7574 - Sparse_CategoricalCrossentropy: 0.7550 - accuracy: 0.4750 - val_loss: 1.8051 - val_Sparse_CategoricalCrossentropy: 1.7963 - val_accuracy: 0.5862\n",
      "Epoch 14/30\n",
      "43/43 [==============================] - 2s 36ms/step - loss: 0.7566 - Sparse_CategoricalCrossentropy: 0.7532 - accuracy: 0.4865 - val_loss: 1.8036 - val_Sparse_CategoricalCrossentropy: 1.7948 - val_accuracy: 0.5862\n",
      "Epoch 15/30\n",
      "43/43 [==============================] - 1s 32ms/step - loss: 0.7601 - Sparse_CategoricalCrossentropy: 0.7589 - accuracy: 0.4685 - val_loss: 1.7987 - val_Sparse_CategoricalCrossentropy: 1.7899 - val_accuracy: 0.5862\n",
      "Epoch 16/30\n",
      "43/43 [==============================] - 1s 34ms/step - loss: 0.7439 - Sparse_CategoricalCrossentropy: 0.7408 - accuracy: 0.5005 - val_loss: 1.7979 - val_Sparse_CategoricalCrossentropy: 1.7892 - val_accuracy: 0.5862\n",
      "Epoch 17/30\n",
      "43/43 [==============================] - 2s 35ms/step - loss: 0.7474 - Sparse_CategoricalCrossentropy: 0.7433 - accuracy: 0.4787 - val_loss: 1.7986 - val_Sparse_CategoricalCrossentropy: 1.7898 - val_accuracy: 0.5862\n",
      "Epoch 18/30\n",
      "43/43 [==============================] - 1s 33ms/step - loss: 0.7414 - Sparse_CategoricalCrossentropy: 0.7398 - accuracy: 0.4921 - val_loss: 1.7979 - val_Sparse_CategoricalCrossentropy: 1.7891 - val_accuracy: 0.5862\n",
      "Epoch 19/30\n",
      "43/43 [==============================] - 1s 34ms/step - loss: 0.7406 - Sparse_CategoricalCrossentropy: 0.7391 - accuracy: 0.4917 - val_loss: 1.7990 - val_Sparse_CategoricalCrossentropy: 1.7902 - val_accuracy: 0.5862\n",
      "Epoch 20/30\n",
      "43/43 [==============================] - 2s 35ms/step - loss: 0.7450 - Sparse_CategoricalCrossentropy: 0.7426 - accuracy: 0.4861 - val_loss: 1.7978 - val_Sparse_CategoricalCrossentropy: 1.7891 - val_accuracy: 0.5862\n",
      "Epoch 21/30\n",
      "43/43 [==============================] - 2s 35ms/step - loss: 0.7481 - Sparse_CategoricalCrossentropy: 0.7457 - accuracy: 0.4870 - val_loss: 1.7961 - val_Sparse_CategoricalCrossentropy: 1.7874 - val_accuracy: 0.5862\n",
      "Epoch 22/30\n",
      "43/43 [==============================] - 2s 38ms/step - loss: 0.7368 - Sparse_CategoricalCrossentropy: 0.7339 - accuracy: 0.4977 - val_loss: 1.7958 - val_Sparse_CategoricalCrossentropy: 1.7871 - val_accuracy: 0.5862\n",
      "Epoch 23/30\n",
      "43/43 [==============================] - 1s 33ms/step - loss: 0.7468 - Sparse_CategoricalCrossentropy: 0.7445 - accuracy: 0.4903 - val_loss: 1.7951 - val_Sparse_CategoricalCrossentropy: 1.7863 - val_accuracy: 0.5862\n",
      "Epoch 24/30\n",
      "43/43 [==============================] - 1s 34ms/step - loss: 0.7356 - Sparse_CategoricalCrossentropy: 0.7323 - accuracy: 0.4898 - val_loss: 1.7958 - val_Sparse_CategoricalCrossentropy: 1.7871 - val_accuracy: 0.5862\n",
      "Epoch 25/30\n",
      "43/43 [==============================] - 1s 33ms/step - loss: 0.7410 - Sparse_CategoricalCrossentropy: 0.7405 - accuracy: 0.4926 - val_loss: 1.7960 - val_Sparse_CategoricalCrossentropy: 1.7873 - val_accuracy: 0.5862\n",
      "Epoch 26/30\n",
      "43/43 [==============================] - 1s 34ms/step - loss: 0.7465 - Sparse_CategoricalCrossentropy: 0.7426 - accuracy: 0.4898 - val_loss: 1.7967 - val_Sparse_CategoricalCrossentropy: 1.7880 - val_accuracy: 0.5862\n",
      "Epoch 27/30\n",
      "43/43 [==============================] - 1s 32ms/step - loss: 0.7371 - Sparse_CategoricalCrossentropy: 0.7351 - accuracy: 0.4893 - val_loss: 1.7950 - val_Sparse_CategoricalCrossentropy: 1.7863 - val_accuracy: 0.5862\n",
      "Epoch 28/30\n",
      "43/43 [==============================] - 1s 34ms/step - loss: 0.7355 - Sparse_CategoricalCrossentropy: 0.7323 - accuracy: 0.4944 - val_loss: 1.7952 - val_Sparse_CategoricalCrossentropy: 1.7864 - val_accuracy: 0.5862\n",
      "Epoch 29/30\n",
      "43/43 [==============================] - 1s 33ms/step - loss: 0.7363 - Sparse_CategoricalCrossentropy: 0.7334 - accuracy: 0.4912 - val_loss: 1.7968 - val_Sparse_CategoricalCrossentropy: 1.7880 - val_accuracy: 0.5862\n",
      "Epoch 30/30\n",
      "43/43 [==============================] - 1s 33ms/step - loss: 0.7463 - Sparse_CategoricalCrossentropy: 0.7467 - accuracy: 0.4907 - val_loss: 1.7960 - val_Sparse_CategoricalCrossentropy: 1.7872 - val_accuracy: 0.5862\n"
     ]
    }
   ],
   "source": [
    "model.compile(optimizer = optimizer, loss=tf.keras.losses.SparseCategoricalCrossentropy(from_logits=False), \n",
    "              metrics=[tf.keras.losses.SparseCategoricalCrossentropy(from_logits=False, name='Sparse_CategoricalCrossentropy'),\n",
    "                       'accuracy'])\n",
    "\n",
    "history = model.fit(norm_train_img_ds,  epochs = 30, validation_data=(norm_val_img_ds), \n",
    "                    batch_size = val_batch_size, callbacks = callback)"
   ]
  },
  {
   "cell_type": "code",
   "execution_count": 67,
   "id": "c484c777",
   "metadata": {},
   "outputs": [
    {
     "data": {
      "text/plain": [
       "Text(0.5, 1.0, 'MLP CAE 2-Layer Learning-rate 1e-4')"
      ]
     },
     "execution_count": 67,
     "metadata": {},
     "output_type": "execute_result"
    },
    {
     "data": {
      "image/png": "[encoded data removed]",
      "text/plain": [
       "<Figure size 432x288 with 1 Axes>"
      ]
     },
     "metadata": {
      "needs_background": "light"
     },
     "output_type": "display_data"
    }
   ],
   "source": [
    "plt.plot(history.history['accuracy'], label='Accuracy')\n",
    "plt.plot(history.history['val_accuracy'], label = 'Val-Accuracy')\n",
    "plt.plot(history.history['loss'], label = 'Loss')\n",
    "plt.plot(history.history['val_loss'], label = 'Val-Loss')\n",
    "plt.xlabel('Epoch')\n",
    "plt.ylabel('Metrics')\n",
    "plt.ylim([0.2, 2.1])\n",
    "plt.legend(loc='lower right')\n",
    "plt.title('MLP CAE 2-Layer Learning-rate 1e-4')"
   ]
  },
  {
   "cell_type": "code",
   "execution_count": 68,
   "id": "59fa7574",
   "metadata": {},
   "outputs": [
    {
     "name": "stdout",
     "output_type": "stream",
     "text": [
      "1/1 - 0s - loss: 1.9210 - Sparse_CategoricalCrossentropy: 1.9210 - accuracy: 0.5556 - 160ms/epoch - 160ms/step\n",
      "0.5555555820465088\n"
     ]
    }
   ],
   "source": [
    "test_loss, test_sparse_entropy, test_acc = model.evaluate(test_img_ds,  verbose=2)\n",
    "print(test_acc)"
   ]
  },
  {
   "cell_type": "code",
   "execution_count": 70,
   "id": "b371ff7a",
   "metadata": {},
   "outputs": [
    {
     "name": "stdout",
     "output_type": "stream",
     "text": [
      "1/1 - 0s - loss: 1.9287 - Sparse_CategoricalCrossentropy: 1.9287 - accuracy: 0.5556 - 107ms/epoch - 107ms/step\n",
      "0.5555555820465088\n"
     ]
    }
   ],
   "source": [
    "test_loss, test_sparse_entropy, test_acc = model.evaluate(norm_test_img_ds,  verbose=2)\n",
    "print(test_acc)"
   ]
  },
  {
   "cell_type": "code",
   "execution_count": 72,
   "id": "83cd2872",
   "metadata": {},
   "outputs": [],
   "source": [
    "### 3 layers"
   ]
  },
  {
   "cell_type": "code",
   "execution_count": 73,
   "id": "bb04bb61",
   "metadata": {},
   "outputs": [],
   "source": [
    "model13 = models.Sequential()\n",
    "model13.add(layers.Flatten(input_shape = (val_img_height, val_img_width, val_channels)))\n",
    "model13.add(layers.Dense(512, activation='sigmoid'))\n",
    "model13.add(layers.Dropout(0.3))\n",
    "model13.add(layers.Dense(256, activation='sigmoid'))\n",
    "model13.add(layers.Dropout(0.3))\n",
    "model13.add(layers.Dense(128, activation='sigmoid'))\n",
    "model13.add(layers.Dropout(0.2))\n",
    "model13.add(layers.Dense(2, activation = 'softmax'))"
   ]
  },
  {
   "cell_type": "code",
   "execution_count": 74,
   "id": "8c464cfb",
   "metadata": {},
   "outputs": [
    {
     "name": "stdout",
     "output_type": "stream",
     "text": [
      "Model: \"sequential_6\"\n",
      "_________________________________________________________________\n",
      " Layer (type)                Output Shape              Param #   \n",
      "=================================================================\n",
      " flatten_4 (Flatten)         (None, 9408)              0         \n",
      "                                                                 \n",
      " dense_12 (Dense)            (None, 512)               4817408   \n",
      "                                                                 \n",
      " dropout_4 (Dropout)         (None, 512)               0         \n",
      "                                                                 \n",
      " dense_13 (Dense)            (None, 256)               131328    \n",
      "                                                                 \n",
      " dropout_5 (Dropout)         (None, 256)               0         \n",
      "                                                                 \n",
      " dense_14 (Dense)            (None, 128)               32896     \n",
      "                                                                 \n",
      " dropout_6 (Dropout)         (None, 128)               0         \n",
      "                                                                 \n",
      " dense_15 (Dense)            (None, 2)                 258       \n",
      "                                                                 \n",
      "=================================================================\n",
      "Total params: 4,981,890\n",
      "Trainable params: 4,981,890\n",
      "Non-trainable params: 0\n",
      "_________________________________________________________________\n"
     ]
    }
   ],
   "source": [
    "model13.summary()"
   ]
  },
  {
   "cell_type": "code",
   "execution_count": 75,
   "id": "ad86f54f",
   "metadata": {},
   "outputs": [
    {
     "name": "stdout",
     "output_type": "stream",
     "text": [
      "Epoch 1/30\n",
      "43/43 [==============================] - 2s 39ms/step - loss: 1.2462 - Sparse_CategoricalCrossentropy: 1.2476 - accuracy: 0.4564 - val_loss: 0.6755 - val_Sparse_CategoricalCrossentropy: 0.6753 - val_accuracy: 0.6847\n",
      "Epoch 2/30\n",
      "43/43 [==============================] - 2s 36ms/step - loss: 0.7515 - Sparse_CategoricalCrossentropy: 0.7499 - accuracy: 0.5181 - val_loss: 0.7333 - val_Sparse_CategoricalCrossentropy: 0.7312 - val_accuracy: 0.5862\n",
      "Epoch 3/30\n",
      "43/43 [==============================] - 2s 35ms/step - loss: 0.7633 - Sparse_CategoricalCrossentropy: 0.7604 - accuracy: 0.4518 - val_loss: 0.7671 - val_Sparse_CategoricalCrossentropy: 0.7646 - val_accuracy: 0.5862\n",
      "Epoch 4/30\n",
      "43/43 [==============================] - 1s 35ms/step - loss: 0.7665 - Sparse_CategoricalCrossentropy: 0.7632 - accuracy: 0.4416 - val_loss: 0.7737 - val_Sparse_CategoricalCrossentropy: 0.7711 - val_accuracy: 0.5862\n",
      "Epoch 5/30\n",
      "43/43 [==============================] - 1s 35ms/step - loss: 0.7573 - Sparse_CategoricalCrossentropy: 0.7535 - accuracy: 0.4736 - val_loss: 0.7740 - val_Sparse_CategoricalCrossentropy: 0.7714 - val_accuracy: 0.5862\n",
      "Epoch 6/30\n",
      "43/43 [==============================] - 2s 40ms/step - loss: 0.7577 - Sparse_CategoricalCrossentropy: 0.7529 - accuracy: 0.4578 - val_loss: 0.7719 - val_Sparse_CategoricalCrossentropy: 0.7694 - val_accuracy: 0.5862\n",
      "Epoch 7/30\n",
      "43/43 [==============================] - 2s 41ms/step - loss: 0.7567 - Sparse_CategoricalCrossentropy: 0.7551 - accuracy: 0.4536 - val_loss: 0.7701 - val_Sparse_CategoricalCrossentropy: 0.7676 - val_accuracy: 0.5862\n",
      "Epoch 8/30\n",
      "43/43 [==============================] - 2s 37ms/step - loss: 0.7499 - Sparse_CategoricalCrossentropy: 0.7451 - accuracy: 0.4805 - val_loss: 0.7698 - val_Sparse_CategoricalCrossentropy: 0.7672 - val_accuracy: 0.5862\n",
      "Epoch 9/30\n",
      "43/43 [==============================] - 2s 35ms/step - loss: 0.7567 - Sparse_CategoricalCrossentropy: 0.7545 - accuracy: 0.4615 - val_loss: 0.7690 - val_Sparse_CategoricalCrossentropy: 0.7664 - val_accuracy: 0.5862\n",
      "Epoch 10/30\n",
      "43/43 [==============================] - 2s 36ms/step - loss: 0.7372 - Sparse_CategoricalCrossentropy: 0.7349 - accuracy: 0.4940 - val_loss: 0.7689 - val_Sparse_CategoricalCrossentropy: 0.7664 - val_accuracy: 0.5862\n",
      "Epoch 11/30\n",
      "43/43 [==============================] - 2s 35ms/step - loss: 0.7497 - Sparse_CategoricalCrossentropy: 0.7477 - accuracy: 0.4796 - val_loss: 0.7679 - val_Sparse_CategoricalCrossentropy: 0.7654 - val_accuracy: 0.5862\n",
      "Epoch 12/30\n",
      "43/43 [==============================] - 2s 36ms/step - loss: 0.7508 - Sparse_CategoricalCrossentropy: 0.7492 - accuracy: 0.4750 - val_loss: 0.7674 - val_Sparse_CategoricalCrossentropy: 0.7649 - val_accuracy: 0.5862\n",
      "Epoch 13/30\n",
      "43/43 [==============================] - 2s 38ms/step - loss: 0.7471 - Sparse_CategoricalCrossentropy: 0.7450 - accuracy: 0.4573 - val_loss: 0.7678 - val_Sparse_CategoricalCrossentropy: 0.7653 - val_accuracy: 0.5862\n",
      "Epoch 14/30\n",
      "43/43 [==============================] - 2s 37ms/step - loss: 0.7405 - Sparse_CategoricalCrossentropy: 0.7382 - accuracy: 0.4903 - val_loss: 0.7677 - val_Sparse_CategoricalCrossentropy: 0.7652 - val_accuracy: 0.5862\n",
      "Epoch 15/30\n",
      "43/43 [==============================] - 2s 37ms/step - loss: 0.7426 - Sparse_CategoricalCrossentropy: 0.7413 - accuracy: 0.4852 - val_loss: 0.7674 - val_Sparse_CategoricalCrossentropy: 0.7649 - val_accuracy: 0.5862\n",
      "Epoch 16/30\n",
      "43/43 [==============================] - 2s 35ms/step - loss: 0.7443 - Sparse_CategoricalCrossentropy: 0.7429 - accuracy: 0.4865 - val_loss: 0.7672 - val_Sparse_CategoricalCrossentropy: 0.7647 - val_accuracy: 0.5862\n",
      "Epoch 17/30\n",
      "43/43 [==============================] - 2s 37ms/step - loss: 0.7384 - Sparse_CategoricalCrossentropy: 0.7356 - accuracy: 0.5111 - val_loss: 0.7668 - val_Sparse_CategoricalCrossentropy: 0.7643 - val_accuracy: 0.5862\n",
      "Epoch 18/30\n",
      "43/43 [==============================] - 1s 34ms/step - loss: 0.7340 - Sparse_CategoricalCrossentropy: 0.7319 - accuracy: 0.5014 - val_loss: 0.7662 - val_Sparse_CategoricalCrossentropy: 0.7637 - val_accuracy: 0.5862\n",
      "Epoch 19/30\n",
      "43/43 [==============================] - 2s 37ms/step - loss: 0.7349 - Sparse_CategoricalCrossentropy: 0.7330 - accuracy: 0.4898 - val_loss: 0.7655 - val_Sparse_CategoricalCrossentropy: 0.7630 - val_accuracy: 0.5862\n",
      "Epoch 20/30\n",
      "43/43 [==============================] - 2s 37ms/step - loss: 0.7323 - Sparse_CategoricalCrossentropy: 0.7297 - accuracy: 0.4921 - val_loss: 0.7651 - val_Sparse_CategoricalCrossentropy: 0.7627 - val_accuracy: 0.5862\n",
      "Epoch 21/30\n",
      "43/43 [==============================] - 2s 38ms/step - loss: 0.7218 - Sparse_CategoricalCrossentropy: 0.7211 - accuracy: 0.5320 - val_loss: 0.7649 - val_Sparse_CategoricalCrossentropy: 0.7624 - val_accuracy: 0.5862\n",
      "Epoch 22/30\n",
      "43/43 [==============================] - 1s 35ms/step - loss: 0.7348 - Sparse_CategoricalCrossentropy: 0.7328 - accuracy: 0.4954 - val_loss: 0.7649 - val_Sparse_CategoricalCrossentropy: 0.7624 - val_accuracy: 0.5862\n",
      "Epoch 23/30\n",
      "43/43 [==============================] - 2s 35ms/step - loss: 0.7350 - Sparse_CategoricalCrossentropy: 0.7325 - accuracy: 0.4875 - val_loss: 0.7646 - val_Sparse_CategoricalCrossentropy: 0.7621 - val_accuracy: 0.5862\n",
      "Epoch 24/30\n",
      "43/43 [==============================] - 2s 38ms/step - loss: 0.7382 - Sparse_CategoricalCrossentropy: 0.7351 - accuracy: 0.4958 - val_loss: 0.7641 - val_Sparse_CategoricalCrossentropy: 0.7616 - val_accuracy: 0.5862\n",
      "Epoch 25/30\n",
      "43/43 [==============================] - 2s 38ms/step - loss: 0.7193 - Sparse_CategoricalCrossentropy: 0.7181 - accuracy: 0.5121 - val_loss: 0.7641 - val_Sparse_CategoricalCrossentropy: 0.7616 - val_accuracy: 0.5862\n",
      "Epoch 26/30\n",
      "43/43 [==============================] - 2s 37ms/step - loss: 0.7293 - Sparse_CategoricalCrossentropy: 0.7250 - accuracy: 0.5065 - val_loss: 0.7638 - val_Sparse_CategoricalCrossentropy: 0.7613 - val_accuracy: 0.5862\n",
      "Epoch 27/30\n",
      "43/43 [==============================] - 2s 36ms/step - loss: 0.7198 - Sparse_CategoricalCrossentropy: 0.7173 - accuracy: 0.5074 - val_loss: 0.7641 - val_Sparse_CategoricalCrossentropy: 0.7617 - val_accuracy: 0.5862\n",
      "Epoch 28/30\n",
      "43/43 [==============================] - 2s 36ms/step - loss: 0.7298 - Sparse_CategoricalCrossentropy: 0.7291 - accuracy: 0.5158 - val_loss: 0.7642 - val_Sparse_CategoricalCrossentropy: 0.7617 - val_accuracy: 0.5862\n",
      "Epoch 29/30\n",
      "43/43 [==============================] - 2s 41ms/step - loss: 0.7274 - Sparse_CategoricalCrossentropy: 0.7261 - accuracy: 0.5223 - val_loss: 0.7639 - val_Sparse_CategoricalCrossentropy: 0.7614 - val_accuracy: 0.5862\n",
      "Epoch 30/30\n",
      "43/43 [==============================] - 2s 39ms/step - loss: 0.7291 - Sparse_CategoricalCrossentropy: 0.7256 - accuracy: 0.4991 - val_loss: 0.7638 - val_Sparse_CategoricalCrossentropy: 0.7613 - val_accuracy: 0.5862\n"
     ]
    }
   ],
   "source": [
    "lr_schedule = tf.keras.optimizers.schedules.InverseTimeDecay(val_learning_rate, decay_steps = val_steps_per_epochs, \n",
    "                                                             decay_rate=1, staircase=False)\n",
    "optimizer = optimizers.Adam(lr_schedule)\n",
    "callback = [tf.keras.callbacks.EarlyStopping(monitor='Sparse_CategoricalCrossentropy', patience=120)]\n",
    "\n",
    "model13.compile(optimizer = optimizer, loss=tf.keras.losses.SparseCategoricalCrossentropy(from_logits=False), \n",
    "              metrics=[tf.keras.losses.SparseCategoricalCrossentropy(from_logits=False, name='Sparse_CategoricalCrossentropy'),\n",
    "                       'accuracy'])\n",
    "\n",
    "history13 = model13.fit(norm_train_img_ds,  epochs = 30, validation_data=(norm_val_img_ds), \n",
    "                    batch_size = val_batch_size, callbacks = callback)"
   ]
  },
  {
   "cell_type": "code",
   "execution_count": 76,
   "id": "8e04bfe2",
   "metadata": {},
   "outputs": [
    {
     "data": {
      "text/plain": [
       "Text(0.5, 1.0, 'MLP CAE 3-Layer Learning-rate 1e-4')"
      ]
     },
     "execution_count": 76,
     "metadata": {},
     "output_type": "execute_result"
    },
    {
     "data": {
      "image/png": "[encoded data removed]",
      "text/plain": [
       "<Figure size 432x288 with 1 Axes>"
      ]
     },
     "metadata": {
      "needs_background": "light"
     },
     "output_type": "display_data"
    }
   ],
   "source": [
    "plt.plot(history13.history['accuracy'], label='Accuracy')\n",
    "plt.plot(history13.history['val_accuracy'], label = 'Val-Accuracy')\n",
    "plt.plot(history13.history['loss'], label = 'Loss')\n",
    "plt.plot(history13.history['val_loss'], label = 'Val-Loss')\n",
    "plt.xlabel('Epoch')\n",
    "plt.ylabel('Metrics')\n",
    "plt.ylim([0.2, 2.1])\n",
    "plt.legend(loc='lower right')\n",
    "plt.title('MLP CAE 3-Layer Learning-rate 1e-4')"
   ]
  },
  {
   "cell_type": "code",
   "execution_count": 77,
   "id": "a33ea938",
   "metadata": {},
   "outputs": [
    {
     "name": "stdout",
     "output_type": "stream",
     "text": [
      "1/1 - 0s - loss: 1.9210 - Sparse_CategoricalCrossentropy: 1.9210 - accuracy: 0.5556 - 61ms/epoch - 61ms/step\n",
      "Regular ::  0.5555555820465088\n",
      "1/1 - 0s - loss: 1.9287 - Sparse_CategoricalCrossentropy: 1.9287 - accuracy: 0.5556 - 61ms/epoch - 61ms/step\n",
      "Norm ::  0.5555555820465088\n"
     ]
    }
   ],
   "source": [
    "test_loss, test_sparse_entropy, test_acc = model.evaluate(test_img_ds,  verbose=2)\n",
    "print('Regular :: ', test_acc)\n",
    "\n",
    "test_loss, test_sparse_entropy, test_acc = model.evaluate(norm_test_img_ds,  verbose=2)\n",
    "print('Norm :: ', test_acc)"
   ]
  },
  {
   "cell_type": "code",
   "execution_count": 78,
   "id": "f6e05499",
   "metadata": {},
   "outputs": [],
   "source": [
    "## Model 4 layers - learning rate 1e-4"
   ]
  },
  {
   "cell_type": "code",
   "execution_count": 79,
   "id": "d17dd8ed",
   "metadata": {},
   "outputs": [],
   "source": [
    "model14 = models.Sequential()\n",
    "model14.add(layers.Flatten(input_shape = (val_img_height, val_img_width, val_channels)))\n",
    "model14.add(layers.Dense(512, activation='sigmoid'))\n",
    "model14.add(layers.Dropout(0.3))\n",
    "model14.add(layers.Dense(256, activation='sigmoid'))\n",
    "model14.add(layers.Dropout(0.3))\n",
    "model14.add(layers.Dense(128, activation='sigmoid'))\n",
    "model14.add(layers.Dropout(0.3))\n",
    "model14.add(layers.Dense(56, activation='sigmoid'))\n",
    "model14.add(layers.Dropout(0.2))\n",
    "model14.add(layers.Dense(2, activation = 'softmax'))"
   ]
  },
  {
   "cell_type": "code",
   "execution_count": 81,
   "id": "069716d1",
   "metadata": {},
   "outputs": [
    {
     "name": "stdout",
     "output_type": "stream",
     "text": [
      "Model: \"sequential_7\"\n",
      "_________________________________________________________________\n",
      " Layer (type)                Output Shape              Param #   \n",
      "=================================================================\n",
      " flatten_5 (Flatten)         (None, 9408)              0         \n",
      "                                                                 \n",
      " dense_16 (Dense)            (None, 512)               4817408   \n",
      "                                                                 \n",
      " dropout_7 (Dropout)         (None, 512)               0         \n",
      "                                                                 \n",
      " dense_17 (Dense)            (None, 256)               131328    \n",
      "                                                                 \n",
      " dropout_8 (Dropout)         (None, 256)               0         \n",
      "                                                                 \n",
      " dense_18 (Dense)            (None, 128)               32896     \n",
      "                                                                 \n",
      " dropout_9 (Dropout)         (None, 128)               0         \n",
      "                                                                 \n",
      " dense_19 (Dense)            (None, 56)                7224      \n",
      "                                                                 \n",
      " dropout_10 (Dropout)        (None, 56)                0         \n",
      "                                                                 \n",
      " dense_20 (Dense)            (None, 2)                 114       \n",
      "                                                                 \n",
      "=================================================================\n",
      "Total params: 4,988,970\n",
      "Trainable params: 4,988,970\n",
      "Non-trainable params: 0\n",
      "_________________________________________________________________\n"
     ]
    }
   ],
   "source": [
    "model14.summary()"
   ]
  },
  {
   "cell_type": "code",
   "execution_count": 87,
   "id": "8451323c",
   "metadata": {},
   "outputs": [
    {
     "name": "stdout",
     "output_type": "stream",
     "text": [
      "Epoch 1/30\n",
      "43/43 [==============================] - 2s 40ms/step - loss: 0.8265 - Sparse_CategoricalCrossentropy: 0.8249 - accuracy: 0.3669 - val_loss: 0.6912 - val_Sparse_CategoricalCrossentropy: 0.6911 - val_accuracy: 0.5862\n",
      "Epoch 2/30\n",
      "43/43 [==============================] - 2s 35ms/step - loss: 0.7501 - Sparse_CategoricalCrossentropy: 0.7489 - accuracy: 0.4564 - val_loss: 0.6822 - val_Sparse_CategoricalCrossentropy: 0.6818 - val_accuracy: 0.5862\n",
      "Epoch 3/30\n",
      "43/43 [==============================] - 1s 34ms/step - loss: 0.7476 - Sparse_CategoricalCrossentropy: 0.7464 - accuracy: 0.4643 - val_loss: 0.6784 - val_Sparse_CategoricalCrossentropy: 0.6779 - val_accuracy: 0.5862\n",
      "Epoch 4/30\n",
      "43/43 [==============================] - 2s 35ms/step - loss: 0.7245 - Sparse_CategoricalCrossentropy: 0.7233 - accuracy: 0.5083 - val_loss: 0.6768 - val_Sparse_CategoricalCrossentropy: 0.6762 - val_accuracy: 0.5862\n",
      "Epoch 5/30\n",
      "43/43 [==============================] - 1s 34ms/step - loss: 0.7219 - Sparse_CategoricalCrossentropy: 0.7197 - accuracy: 0.4986 - val_loss: 0.6761 - val_Sparse_CategoricalCrossentropy: 0.6754 - val_accuracy: 0.5862\n",
      "Epoch 6/30\n",
      "43/43 [==============================] - 2s 37ms/step - loss: 0.7244 - Sparse_CategoricalCrossentropy: 0.7206 - accuracy: 0.5005 - val_loss: 0.6758 - val_Sparse_CategoricalCrossentropy: 0.6751 - val_accuracy: 0.5862\n",
      "Epoch 7/30\n",
      "43/43 [==============================] - 2s 36ms/step - loss: 0.7329 - Sparse_CategoricalCrossentropy: 0.7327 - accuracy: 0.4861 - val_loss: 0.6757 - val_Sparse_CategoricalCrossentropy: 0.6750 - val_accuracy: 0.5862\n",
      "Epoch 8/30\n",
      "43/43 [==============================] - 2s 39ms/step - loss: 0.7359 - Sparse_CategoricalCrossentropy: 0.7343 - accuracy: 0.4777 - val_loss: 0.6757 - val_Sparse_CategoricalCrossentropy: 0.6749 - val_accuracy: 0.5862\n",
      "Epoch 9/30\n",
      "43/43 [==============================] - 2s 39ms/step - loss: 0.7304 - Sparse_CategoricalCrossentropy: 0.7293 - accuracy: 0.4926 - val_loss: 0.6757 - val_Sparse_CategoricalCrossentropy: 0.6750 - val_accuracy: 0.5862\n",
      "Epoch 10/30\n",
      "43/43 [==============================] - 2s 35ms/step - loss: 0.7252 - Sparse_CategoricalCrossentropy: 0.7237 - accuracy: 0.5032 - val_loss: 0.6758 - val_Sparse_CategoricalCrossentropy: 0.6750 - val_accuracy: 0.5862\n",
      "Epoch 11/30\n",
      "43/43 [==============================] - 2s 35ms/step - loss: 0.7263 - Sparse_CategoricalCrossentropy: 0.7260 - accuracy: 0.5093 - val_loss: 0.6759 - val_Sparse_CategoricalCrossentropy: 0.6751 - val_accuracy: 0.5862\n",
      "Epoch 12/30\n",
      "43/43 [==============================] - 2s 36ms/step - loss: 0.7279 - Sparse_CategoricalCrossentropy: 0.7262 - accuracy: 0.4930 - val_loss: 0.6759 - val_Sparse_CategoricalCrossentropy: 0.6751 - val_accuracy: 0.5862\n",
      "Epoch 13/30\n",
      "43/43 [==============================] - 2s 39ms/step - loss: 0.7209 - Sparse_CategoricalCrossentropy: 0.7181 - accuracy: 0.5162 - val_loss: 0.6760 - val_Sparse_CategoricalCrossentropy: 0.6752 - val_accuracy: 0.5862\n",
      "Epoch 14/30\n",
      "43/43 [==============================] - 2s 40ms/step - loss: 0.7254 - Sparse_CategoricalCrossentropy: 0.7225 - accuracy: 0.5019 - val_loss: 0.6761 - val_Sparse_CategoricalCrossentropy: 0.6753 - val_accuracy: 0.5862\n",
      "Epoch 15/30\n",
      "43/43 [==============================] - 2s 39ms/step - loss: 0.7198 - Sparse_CategoricalCrossentropy: 0.7168 - accuracy: 0.4977 - val_loss: 0.6761 - val_Sparse_CategoricalCrossentropy: 0.6753 - val_accuracy: 0.5862\n",
      "Epoch 16/30\n",
      "43/43 [==============================] - 2s 38ms/step - loss: 0.7206 - Sparse_CategoricalCrossentropy: 0.7185 - accuracy: 0.5135 - val_loss: 0.6761 - val_Sparse_CategoricalCrossentropy: 0.6753 - val_accuracy: 0.5862\n",
      "Epoch 17/30\n",
      "43/43 [==============================] - 2s 41ms/step - loss: 0.7187 - Sparse_CategoricalCrossentropy: 0.7165 - accuracy: 0.5172 - val_loss: 0.6762 - val_Sparse_CategoricalCrossentropy: 0.6754 - val_accuracy: 0.5862\n",
      "Epoch 18/30\n",
      "43/43 [==============================] - 2s 37ms/step - loss: 0.7170 - Sparse_CategoricalCrossentropy: 0.7154 - accuracy: 0.5190 - val_loss: 0.6763 - val_Sparse_CategoricalCrossentropy: 0.6755 - val_accuracy: 0.5862\n",
      "Epoch 19/30\n",
      "43/43 [==============================] - 2s 38ms/step - loss: 0.7157 - Sparse_CategoricalCrossentropy: 0.7157 - accuracy: 0.5046 - val_loss: 0.6764 - val_Sparse_CategoricalCrossentropy: 0.6756 - val_accuracy: 0.5862\n",
      "Epoch 20/30\n",
      "43/43 [==============================] - 2s 38ms/step - loss: 0.7199 - Sparse_CategoricalCrossentropy: 0.7173 - accuracy: 0.5051 - val_loss: 0.6765 - val_Sparse_CategoricalCrossentropy: 0.6757 - val_accuracy: 0.5862\n",
      "Epoch 21/30\n",
      "43/43 [==============================] - 1s 35ms/step - loss: 0.7204 - Sparse_CategoricalCrossentropy: 0.7172 - accuracy: 0.5032 - val_loss: 0.6766 - val_Sparse_CategoricalCrossentropy: 0.6758 - val_accuracy: 0.5862\n",
      "Epoch 22/30\n",
      "43/43 [==============================] - 2s 37ms/step - loss: 0.7156 - Sparse_CategoricalCrossentropy: 0.7130 - accuracy: 0.5213 - val_loss: 0.6767 - val_Sparse_CategoricalCrossentropy: 0.6758 - val_accuracy: 0.5862\n",
      "Epoch 23/30\n",
      "43/43 [==============================] - 2s 37ms/step - loss: 0.7229 - Sparse_CategoricalCrossentropy: 0.7210 - accuracy: 0.5005 - val_loss: 0.6767 - val_Sparse_CategoricalCrossentropy: 0.6759 - val_accuracy: 0.5862\n",
      "Epoch 24/30\n",
      "43/43 [==============================] - 2s 38ms/step - loss: 0.7184 - Sparse_CategoricalCrossentropy: 0.7160 - accuracy: 0.5083 - val_loss: 0.6768 - val_Sparse_CategoricalCrossentropy: 0.6759 - val_accuracy: 0.5862\n",
      "Epoch 25/30\n",
      "43/43 [==============================] - 2s 38ms/step - loss: 0.7143 - Sparse_CategoricalCrossentropy: 0.7123 - accuracy: 0.5269 - val_loss: 0.6768 - val_Sparse_CategoricalCrossentropy: 0.6760 - val_accuracy: 0.5862\n",
      "Epoch 26/30\n",
      "43/43 [==============================] - 2s 35ms/step - loss: 0.7136 - Sparse_CategoricalCrossentropy: 0.7123 - accuracy: 0.5209 - val_loss: 0.6769 - val_Sparse_CategoricalCrossentropy: 0.6760 - val_accuracy: 0.5862\n",
      "Epoch 27/30\n",
      "43/43 [==============================] - 2s 38ms/step - loss: 0.7218 - Sparse_CategoricalCrossentropy: 0.7217 - accuracy: 0.5028 - val_loss: 0.6769 - val_Sparse_CategoricalCrossentropy: 0.6761 - val_accuracy: 0.5862\n",
      "Epoch 28/30\n",
      "43/43 [==============================] - 2s 36ms/step - loss: 0.7126 - Sparse_CategoricalCrossentropy: 0.7118 - accuracy: 0.5195 - val_loss: 0.6769 - val_Sparse_CategoricalCrossentropy: 0.6761 - val_accuracy: 0.5862\n",
      "Epoch 29/30\n",
      "43/43 [==============================] - 2s 37ms/step - loss: 0.7099 - Sparse_CategoricalCrossentropy: 0.7089 - accuracy: 0.5218 - val_loss: 0.6770 - val_Sparse_CategoricalCrossentropy: 0.6761 - val_accuracy: 0.5862\n",
      "Epoch 30/30\n",
      "43/43 [==============================] - 2s 37ms/step - loss: 0.7217 - Sparse_CategoricalCrossentropy: 0.7188 - accuracy: 0.5051 - val_loss: 0.6770 - val_Sparse_CategoricalCrossentropy: 0.6762 - val_accuracy: 0.5862\n"
     ]
    }
   ],
   "source": [
    "val_learning_rate = 0.0001\n",
    "\n",
    "lr_schedule = tf.keras.optimizers.schedules.InverseTimeDecay(val_learning_rate, decay_steps = val_steps_per_epochs, \n",
    "                                                             decay_rate=1, staircase=False)\n",
    "optimizer = optimizers.Adam(lr_schedule)\n",
    "callback = [tf.keras.callbacks.EarlyStopping(monitor='Sparse_CategoricalCrossentropy', patience=120)]\n",
    "\n",
    "model14.compile(optimizer = optimizer, loss=tf.keras.losses.SparseCategoricalCrossentropy(from_logits=False), \n",
    "              metrics=[tf.keras.losses.SparseCategoricalCrossentropy(from_logits=False, name='Sparse_CategoricalCrossentropy'),\n",
    "                       'accuracy'])\n",
    "\n",
    "history14 = model14.fit(norm_train_img_ds,  epochs = 30, validation_data=(norm_val_img_ds), \n",
    "                    batch_size = val_batch_size, callbacks = callback)"
   ]
  },
  {
   "cell_type": "code",
   "execution_count": 88,
   "id": "8f032203",
   "metadata": {},
   "outputs": [
    {
     "data": {
      "text/plain": [
       "Text(0.5, 1.0, 'MLP CAE 4-Layer Learning-rate 1e-4')"
      ]
     },
     "execution_count": 88,
     "metadata": {},
     "output_type": "execute_result"
    },
    {
     "data": {
      "image/png": "[encoded data removed]",
      "text/plain": [
       "<Figure size 432x288 with 1 Axes>"
      ]
     },
     "metadata": {
      "needs_background": "light"
     },
     "output_type": "display_data"
    }
   ],
   "source": [
    "plt.plot(history14.history['accuracy'], label='Accuracy')\n",
    "plt.plot(history14.history['val_accuracy'], label = 'Val-Accuracy')\n",
    "plt.plot(history14.history['loss'], label = 'Loss')\n",
    "plt.plot(history14.history['val_loss'], label = 'Val-Loss')\n",
    "plt.xlabel('Epoch')\n",
    "plt.ylabel('Metrics')\n",
    "plt.ylim([0.2, 2.1])\n",
    "plt.legend(loc='lower right')\n",
    "plt.title('MLP CAE 4-Layer Learning-rate 1e-4')"
   ]
  },
  {
   "cell_type": "code",
   "execution_count": 105,
   "id": "a8f78c9e",
   "metadata": {},
   "outputs": [
    {
     "name": "stdout",
     "output_type": "stream",
     "text": [
      "1/1 - 0s - loss: 0.6920 - Sparse_CategoricalCrossentropy: 0.6920 - accuracy: 0.5556 - 66ms/epoch - 66ms/step\n",
      "0.5555555820465088\n",
      "1/1 - 0s - loss: 0.6899 - Sparse_CategoricalCrossentropy: 0.6899 - accuracy: 0.5556 - 80ms/epoch - 80ms/step\n",
      "0.5555555820465088\n"
     ]
    }
   ],
   "source": [
    "test_loss, test_sparse_entropy, test_acc = model14.evaluate(test_img_ds,  verbose=2)\n",
    "print(test_acc)\n",
    "\n",
    "test_loss, test_sparse_entropy, test_acc = model14.evaluate(norm_test_img_ds,  verbose=2)\n",
    "print(test_acc)"
   ]
  },
  {
   "cell_type": "code",
   "execution_count": 85,
   "id": "ed84e153",
   "metadata": {},
   "outputs": [],
   "source": [
    "#Model 2 layer with learning rate 3e-4\n",
    "model32 = models.Sequential()\n",
    "model32.add(layers.Flatten(input_shape = (val_img_height, val_img_width, val_channels)))\n",
    "model32.add(layers.Dense(512, activation='sigmoid'))\n",
    "model32.add(layers.Dropout(0.3))\n",
    "model32.add(layers.Dense(256, activation='sigmoid'))\n",
    "model32.add(layers.Dropout(0.2))\n",
    "model32.add(layers.Dense(2, activation = 'softmax'))"
   ]
  },
  {
   "cell_type": "code",
   "execution_count": 86,
   "id": "a3ff61f6",
   "metadata": {},
   "outputs": [
    {
     "name": "stdout",
     "output_type": "stream",
     "text": [
      "Model: \"sequential_8\"\n",
      "_________________________________________________________________\n",
      " Layer (type)                Output Shape              Param #   \n",
      "=================================================================\n",
      " flatten_6 (Flatten)         (None, 9408)              0         \n",
      "                                                                 \n",
      " dense_21 (Dense)            (None, 512)               4817408   \n",
      "                                                                 \n",
      " dropout_11 (Dropout)        (None, 512)               0         \n",
      "                                                                 \n",
      " dense_22 (Dense)            (None, 256)               131328    \n",
      "                                                                 \n",
      " dropout_12 (Dropout)        (None, 256)               0         \n",
      "                                                                 \n",
      " dense_23 (Dense)            (None, 2)                 514       \n",
      "                                                                 \n",
      "=================================================================\n",
      "Total params: 4,949,250\n",
      "Trainable params: 4,949,250\n",
      "Non-trainable params: 0\n",
      "_________________________________________________________________\n"
     ]
    }
   ],
   "source": [
    "model32.summary()"
   ]
  },
  {
   "cell_type": "code",
   "execution_count": 95,
   "id": "1fa2b467",
   "metadata": {},
   "outputs": [],
   "source": [
    "val_learning_rate = 0.0003"
   ]
  },
  {
   "cell_type": "code",
   "execution_count": 96,
   "id": "b6799665",
   "metadata": {},
   "outputs": [
    {
     "name": "stdout",
     "output_type": "stream",
     "text": [
      "Epoch 1/30\n",
      "43/43 [==============================] - 2s 41ms/step - loss: 1.3047 - Sparse_CategoricalCrossentropy: 1.2840 - accuracy: 0.5928 - val_loss: 2.3285 - val_Sparse_CategoricalCrossentropy: 2.3171 - val_accuracy: 0.5862\n",
      "Epoch 2/30\n",
      "43/43 [==============================] - 2s 35ms/step - loss: 1.5190 - Sparse_CategoricalCrossentropy: 1.4979 - accuracy: 0.2087 - val_loss: 1.7720 - val_Sparse_CategoricalCrossentropy: 1.7634 - val_accuracy: 0.5862\n",
      "Epoch 3/30\n",
      "43/43 [==============================] - 2s 38ms/step - loss: 1.0550 - Sparse_CategoricalCrossentropy: 1.0440 - accuracy: 0.2565 - val_loss: 1.7369 - val_Sparse_CategoricalCrossentropy: 1.7285 - val_accuracy: 0.5862\n",
      "Epoch 4/30\n",
      "43/43 [==============================] - 2s 37ms/step - loss: 0.9877 - Sparse_CategoricalCrossentropy: 0.9783 - accuracy: 0.2746 - val_loss: 1.7222 - val_Sparse_CategoricalCrossentropy: 1.7138 - val_accuracy: 0.5862\n",
      "Epoch 5/30\n",
      "43/43 [==============================] - 1s 35ms/step - loss: 0.9252 - Sparse_CategoricalCrossentropy: 0.9184 - accuracy: 0.3061 - val_loss: 1.7080 - val_Sparse_CategoricalCrossentropy: 1.6998 - val_accuracy: 0.5862\n",
      "Epoch 6/30\n",
      "43/43 [==============================] - 2s 36ms/step - loss: 0.8851 - Sparse_CategoricalCrossentropy: 0.8775 - accuracy: 0.3154 - val_loss: 1.7094 - val_Sparse_CategoricalCrossentropy: 1.7011 - val_accuracy: 0.5862\n",
      "Epoch 7/30\n",
      "43/43 [==============================] - 2s 37ms/step - loss: 0.8650 - Sparse_CategoricalCrossentropy: 0.8584 - accuracy: 0.3293 - val_loss: 1.7109 - val_Sparse_CategoricalCrossentropy: 1.7026 - val_accuracy: 0.5862\n",
      "Epoch 8/30\n",
      "43/43 [==============================] - 2s 35ms/step - loss: 0.8409 - Sparse_CategoricalCrossentropy: 0.8350 - accuracy: 0.3604 - val_loss: 1.7144 - val_Sparse_CategoricalCrossentropy: 1.7061 - val_accuracy: 0.5862\n",
      "Epoch 9/30\n",
      "43/43 [==============================] - 2s 35ms/step - loss: 0.8355 - Sparse_CategoricalCrossentropy: 0.8300 - accuracy: 0.3627 - val_loss: 1.7175 - val_Sparse_CategoricalCrossentropy: 1.7092 - val_accuracy: 0.5862\n",
      "Epoch 10/30\n",
      "43/43 [==============================] - 2s 36ms/step - loss: 0.8229 - Sparse_CategoricalCrossentropy: 0.8169 - accuracy: 0.3785 - val_loss: 1.7209 - val_Sparse_CategoricalCrossentropy: 1.7126 - val_accuracy: 0.5862\n",
      "Epoch 11/30\n",
      "43/43 [==============================] - 1s 35ms/step - loss: 0.7991 - Sparse_CategoricalCrossentropy: 0.7952 - accuracy: 0.4045 - val_loss: 1.7223 - val_Sparse_CategoricalCrossentropy: 1.7139 - val_accuracy: 0.5862\n",
      "Epoch 12/30\n",
      "43/43 [==============================] - 2s 37ms/step - loss: 0.7993 - Sparse_CategoricalCrossentropy: 0.7953 - accuracy: 0.3966 - val_loss: 1.7234 - val_Sparse_CategoricalCrossentropy: 1.7150 - val_accuracy: 0.5862\n",
      "Epoch 13/30\n",
      "43/43 [==============================] - 2s 35ms/step - loss: 0.7814 - Sparse_CategoricalCrossentropy: 0.7760 - accuracy: 0.4337 - val_loss: 1.7294 - val_Sparse_CategoricalCrossentropy: 1.7210 - val_accuracy: 0.5862\n",
      "Epoch 14/30\n",
      "43/43 [==============================] - 2s 37ms/step - loss: 0.7865 - Sparse_CategoricalCrossentropy: 0.7813 - accuracy: 0.4216 - val_loss: 1.7334 - val_Sparse_CategoricalCrossentropy: 1.7249 - val_accuracy: 0.5862\n",
      "Epoch 15/30\n",
      "43/43 [==============================] - 2s 38ms/step - loss: 0.7766 - Sparse_CategoricalCrossentropy: 0.7731 - accuracy: 0.4369 - val_loss: 1.7372 - val_Sparse_CategoricalCrossentropy: 1.7288 - val_accuracy: 0.5862\n",
      "Epoch 16/30\n",
      "43/43 [==============================] - 1s 34ms/step - loss: 0.7797 - Sparse_CategoricalCrossentropy: 0.7754 - accuracy: 0.4258 - val_loss: 1.7399 - val_Sparse_CategoricalCrossentropy: 1.7315 - val_accuracy: 0.5862\n",
      "Epoch 17/30\n",
      "43/43 [==============================] - 2s 35ms/step - loss: 0.7743 - Sparse_CategoricalCrossentropy: 0.7701 - accuracy: 0.4392 - val_loss: 1.7431 - val_Sparse_CategoricalCrossentropy: 1.7347 - val_accuracy: 0.5862\n",
      "Epoch 18/30\n",
      "43/43 [==============================] - 1s 34ms/step - loss: 0.7655 - Sparse_CategoricalCrossentropy: 0.7624 - accuracy: 0.4411 - val_loss: 1.7454 - val_Sparse_CategoricalCrossentropy: 1.7369 - val_accuracy: 0.5862\n",
      "Epoch 19/30\n",
      "43/43 [==============================] - 2s 37ms/step - loss: 0.7629 - Sparse_CategoricalCrossentropy: 0.7587 - accuracy: 0.4518 - val_loss: 1.7477 - val_Sparse_CategoricalCrossentropy: 1.7392 - val_accuracy: 0.5862\n",
      "Epoch 20/30\n",
      "43/43 [==============================] - 2s 37ms/step - loss: 0.7562 - Sparse_CategoricalCrossentropy: 0.7528 - accuracy: 0.4569 - val_loss: 1.7504 - val_Sparse_CategoricalCrossentropy: 1.7419 - val_accuracy: 0.5862\n",
      "Epoch 21/30\n",
      "43/43 [==============================] - 2s 37ms/step - loss: 0.7641 - Sparse_CategoricalCrossentropy: 0.7617 - accuracy: 0.4476 - val_loss: 1.7541 - val_Sparse_CategoricalCrossentropy: 1.7456 - val_accuracy: 0.5862\n",
      "Epoch 22/30\n",
      "43/43 [==============================] - 2s 40ms/step - loss: 0.7568 - Sparse_CategoricalCrossentropy: 0.7530 - accuracy: 0.4652 - val_loss: 1.7539 - val_Sparse_CategoricalCrossentropy: 1.7454 - val_accuracy: 0.5862\n",
      "Epoch 23/30\n",
      "43/43 [==============================] - 2s 35ms/step - loss: 0.7549 - Sparse_CategoricalCrossentropy: 0.7517 - accuracy: 0.4462 - val_loss: 1.7559 - val_Sparse_CategoricalCrossentropy: 1.7474 - val_accuracy: 0.5862\n",
      "Epoch 24/30\n",
      "43/43 [==============================] - 2s 38ms/step - loss: 0.7563 - Sparse_CategoricalCrossentropy: 0.7541 - accuracy: 0.4587 - val_loss: 1.7571 - val_Sparse_CategoricalCrossentropy: 1.7486 - val_accuracy: 0.5862\n",
      "Epoch 25/30\n",
      "43/43 [==============================] - 2s 36ms/step - loss: 0.7483 - Sparse_CategoricalCrossentropy: 0.7457 - accuracy: 0.4703 - val_loss: 1.7569 - val_Sparse_CategoricalCrossentropy: 1.7484 - val_accuracy: 0.5862\n",
      "Epoch 26/30\n",
      "43/43 [==============================] - 2s 37ms/step - loss: 0.7536 - Sparse_CategoricalCrossentropy: 0.7501 - accuracy: 0.4638 - val_loss: 1.7581 - val_Sparse_CategoricalCrossentropy: 1.7495 - val_accuracy: 0.5862\n",
      "Epoch 27/30\n",
      "43/43 [==============================] - 2s 36ms/step - loss: 0.7459 - Sparse_CategoricalCrossentropy: 0.7433 - accuracy: 0.4740 - val_loss: 1.7594 - val_Sparse_CategoricalCrossentropy: 1.7508 - val_accuracy: 0.5862\n",
      "Epoch 28/30\n",
      "43/43 [==============================] - 2s 35ms/step - loss: 0.7481 - Sparse_CategoricalCrossentropy: 0.7435 - accuracy: 0.4634 - val_loss: 1.7620 - val_Sparse_CategoricalCrossentropy: 1.7535 - val_accuracy: 0.5862\n",
      "Epoch 29/30\n",
      "43/43 [==============================] - 2s 38ms/step - loss: 0.7393 - Sparse_CategoricalCrossentropy: 0.7363 - accuracy: 0.4657 - val_loss: 1.7641 - val_Sparse_CategoricalCrossentropy: 1.7556 - val_accuracy: 0.5862\n",
      "Epoch 30/30\n",
      "43/43 [==============================] - 2s 38ms/step - loss: 0.7519 - Sparse_CategoricalCrossentropy: 0.7497 - accuracy: 0.4657 - val_loss: 1.7640 - val_Sparse_CategoricalCrossentropy: 1.7554 - val_accuracy: 0.5862\n"
     ]
    }
   ],
   "source": [
    "lr_schedule = tf.keras.optimizers.schedules.InverseTimeDecay(val_learning_rate, decay_steps = val_steps_per_epochs, \n",
    "                                                             decay_rate=1, staircase=False)\n",
    "optimizer = optimizers.Adam(lr_schedule)\n",
    "callback = [tf.keras.callbacks.EarlyStopping(monitor='Sparse_CategoricalCrossentropy', patience=120)]\n",
    "\n",
    "model32.compile(optimizer = optimizer, loss=tf.keras.losses.SparseCategoricalCrossentropy(from_logits=False), \n",
    "              metrics=[tf.keras.losses.SparseCategoricalCrossentropy(from_logits=False, name='Sparse_CategoricalCrossentropy'),\n",
    "                       'accuracy'])\n",
    "\n",
    "history32 = model32.fit(norm_train_img_ds,  epochs = 30, validation_data=(norm_val_img_ds), \n",
    "                    batch_size = val_batch_size, callbacks = callback)"
   ]
  },
  {
   "cell_type": "code",
   "execution_count": 97,
   "id": "826a8b95",
   "metadata": {},
   "outputs": [
    {
     "data": {
      "text/plain": [
       "Text(0.5, 1.0, 'MLP CAE 2-Layer Learning-rate 3e-4')"
      ]
     },
     "execution_count": 97,
     "metadata": {},
     "output_type": "execute_result"
    },
    {
     "data": {
      "image/png": "[encoded data removed]",
      "text/plain": [
       "<Figure size 432x288 with 1 Axes>"
      ]
     },
     "metadata": {
      "needs_background": "light"
     },
     "output_type": "display_data"
    }
   ],
   "source": [
    "plt.plot(history32.history['accuracy'], label='Accuracy')\n",
    "plt.plot(history32.history['val_accuracy'], label = 'Val-Accuracy')\n",
    "plt.plot(history32.history['loss'], label = 'Loss')\n",
    "plt.plot(history32.history['val_loss'], label = 'Val-Loss')\n",
    "plt.xlabel('Epoch')\n",
    "plt.ylabel('Metrics')\n",
    "plt.ylim([0.2, 2.1])\n",
    "plt.legend(loc='lower right')\n",
    "plt.title('MLP CAE 2-Layer Learning-rate 3e-4')"
   ]
  },
  {
   "cell_type": "code",
   "execution_count": 104,
   "id": "c1183adf",
   "metadata": {},
   "outputs": [
    {
     "name": "stdout",
     "output_type": "stream",
     "text": [
      "1/1 - 0s - loss: 1.8943 - Sparse_CategoricalCrossentropy: 1.8943 - accuracy: 0.5556 - 61ms/epoch - 61ms/step\n",
      "0.5555555820465088\n",
      "1/1 - 0s - loss: 1.8925 - Sparse_CategoricalCrossentropy: 1.8925 - accuracy: 0.5556 - 77ms/epoch - 77ms/step\n",
      "0.5555555820465088\n"
     ]
    }
   ],
   "source": [
    "test_loss, test_sparse_entropy, test_acc = model32.evaluate(test_img_ds,  verbose=2)\n",
    "print(test_acc)\n",
    "\n",
    "test_loss, test_sparse_entropy, test_acc1 = model32.evaluate(norm_test_img_ds,  verbose=2)\n",
    "print(test_acc1)"
   ]
  },
  {
   "cell_type": "code",
   "execution_count": 93,
   "id": "51d51384",
   "metadata": {},
   "outputs": [],
   "source": [
    "#Model 3 layer with learning rate 3e-4\n",
    "model33 = models.Sequential()\n",
    "model33.add(layers.Flatten(input_shape = (val_img_height, val_img_width, val_channels)))\n",
    "model33.add(layers.Dense(512, activation='sigmoid'))\n",
    "model33.add(layers.Dropout(0.3))\n",
    "model33.add(layers.Dense(256, activation='sigmoid'))\n",
    "model33.add(layers.Dropout(0.3))\n",
    "model33.add(layers.Dense(128, activation='sigmoid'))\n",
    "model33.add(layers.Dropout(0.3))\n",
    "model33.add(layers.Dense(2, activation = 'softmax'))"
   ]
  },
  {
   "cell_type": "code",
   "execution_count": 94,
   "id": "f72063ee",
   "metadata": {},
   "outputs": [
    {
     "name": "stdout",
     "output_type": "stream",
     "text": [
      "Model: \"sequential_9\"\n",
      "_________________________________________________________________\n",
      " Layer (type)                Output Shape              Param #   \n",
      "=================================================================\n",
      " flatten_7 (Flatten)         (None, 9408)              0         \n",
      "                                                                 \n",
      " dense_24 (Dense)            (None, 512)               4817408   \n",
      "                                                                 \n",
      " dropout_13 (Dropout)        (None, 512)               0         \n",
      "                                                                 \n",
      " dense_25 (Dense)            (None, 256)               131328    \n",
      "                                                                 \n",
      " dropout_14 (Dropout)        (None, 256)               0         \n",
      "                                                                 \n",
      " dense_26 (Dense)            (None, 128)               32896     \n",
      "                                                                 \n",
      " dropout_15 (Dropout)        (None, 128)               0         \n",
      "                                                                 \n",
      " dense_27 (Dense)            (None, 2)                 258       \n",
      "                                                                 \n",
      "=================================================================\n",
      "Total params: 4,981,890\n",
      "Trainable params: 4,981,890\n",
      "Non-trainable params: 0\n",
      "_________________________________________________________________\n"
     ]
    }
   ],
   "source": [
    "model33.summary()"
   ]
  },
  {
   "cell_type": "code",
   "execution_count": 99,
   "id": "7f41b4d5",
   "metadata": {},
   "outputs": [
    {
     "name": "stdout",
     "output_type": "stream",
     "text": [
      "Epoch 1/30\n",
      "43/43 [==============================] - 3s 53ms/step - loss: 1.3692 - Sparse_CategoricalCrossentropy: 1.3533 - accuracy: 0.5139 - val_loss: 0.8088 - val_Sparse_CategoricalCrossentropy: 0.8059 - val_accuracy: 0.5862\n",
      "Epoch 2/30\n",
      "43/43 [==============================] - 3s 62ms/step - loss: 0.9994 - Sparse_CategoricalCrossentropy: 0.9899 - accuracy: 0.3145 - val_loss: 0.7579 - val_Sparse_CategoricalCrossentropy: 0.7555 - val_accuracy: 0.5862\n",
      "Epoch 3/30\n",
      "43/43 [==============================] - 2s 52ms/step - loss: 0.9170 - Sparse_CategoricalCrossentropy: 0.9097 - accuracy: 0.3534 - val_loss: 0.7321 - val_Sparse_CategoricalCrossentropy: 0.7300 - val_accuracy: 0.5862\n",
      "Epoch 4/30\n",
      "43/43 [==============================] - 2s 51ms/step - loss: 0.8764 - Sparse_CategoricalCrossentropy: 0.8722 - accuracy: 0.3678 - val_loss: 0.7206 - val_Sparse_CategoricalCrossentropy: 0.7187 - val_accuracy: 0.5862\n",
      "Epoch 5/30\n",
      "43/43 [==============================] - 2s 39ms/step - loss: 0.8256 - Sparse_CategoricalCrossentropy: 0.8199 - accuracy: 0.4184 - val_loss: 0.7154 - val_Sparse_CategoricalCrossentropy: 0.7135 - val_accuracy: 0.5862\n",
      "Epoch 6/30\n",
      "43/43 [==============================] - 2s 39ms/step - loss: 0.8245 - Sparse_CategoricalCrossentropy: 0.8184 - accuracy: 0.4170 - val_loss: 0.7104 - val_Sparse_CategoricalCrossentropy: 0.7086 - val_accuracy: 0.5862\n",
      "Epoch 7/30\n",
      "43/43 [==============================] - 2s 37ms/step - loss: 0.8046 - Sparse_CategoricalCrossentropy: 0.7991 - accuracy: 0.4281 - val_loss: 0.7068 - val_Sparse_CategoricalCrossentropy: 0.7051 - val_accuracy: 0.5862\n",
      "Epoch 8/30\n",
      "43/43 [==============================] - 2s 39ms/step - loss: 0.8037 - Sparse_CategoricalCrossentropy: 0.8003 - accuracy: 0.4309 - val_loss: 0.7052 - val_Sparse_CategoricalCrossentropy: 0.7035 - val_accuracy: 0.5862\n",
      "Epoch 9/30\n",
      "43/43 [==============================] - 2s 40ms/step - loss: 0.7938 - Sparse_CategoricalCrossentropy: 0.7889 - accuracy: 0.4323 - val_loss: 0.7039 - val_Sparse_CategoricalCrossentropy: 0.7022 - val_accuracy: 0.5862\n",
      "Epoch 10/30\n",
      "43/43 [==============================] - 2s 39ms/step - loss: 0.7843 - Sparse_CategoricalCrossentropy: 0.7832 - accuracy: 0.4569 - val_loss: 0.7031 - val_Sparse_CategoricalCrossentropy: 0.7014 - val_accuracy: 0.5862\n",
      "Epoch 11/30\n",
      "43/43 [==============================] - 2s 42ms/step - loss: 0.7758 - Sparse_CategoricalCrossentropy: 0.7732 - accuracy: 0.4471 - val_loss: 0.7021 - val_Sparse_CategoricalCrossentropy: 0.7005 - val_accuracy: 0.5862\n",
      "Epoch 12/30\n",
      "43/43 [==============================] - 2s 44ms/step - loss: 0.7611 - Sparse_CategoricalCrossentropy: 0.7574 - accuracy: 0.4717 - val_loss: 0.7011 - val_Sparse_CategoricalCrossentropy: 0.6995 - val_accuracy: 0.5862\n",
      "Epoch 13/30\n",
      "43/43 [==============================] - 2s 49ms/step - loss: 0.7631 - Sparse_CategoricalCrossentropy: 0.7598 - accuracy: 0.4731 - val_loss: 0.7008 - val_Sparse_CategoricalCrossentropy: 0.6992 - val_accuracy: 0.5862\n",
      "Epoch 14/30\n",
      "43/43 [==============================] - 2s 46ms/step - loss: 0.7539 - Sparse_CategoricalCrossentropy: 0.7534 - accuracy: 0.4787 - val_loss: 0.7006 - val_Sparse_CategoricalCrossentropy: 0.6990 - val_accuracy: 0.5862\n",
      "Epoch 15/30\n",
      "43/43 [==============================] - 2s 47ms/step - loss: 0.7649 - Sparse_CategoricalCrossentropy: 0.7623 - accuracy: 0.4699 - val_loss: 0.6999 - val_Sparse_CategoricalCrossentropy: 0.6984 - val_accuracy: 0.5862\n",
      "Epoch 16/30\n",
      "43/43 [==============================] - 2s 41ms/step - loss: 0.7668 - Sparse_CategoricalCrossentropy: 0.7651 - accuracy: 0.4629 - val_loss: 0.7002 - val_Sparse_CategoricalCrossentropy: 0.6986 - val_accuracy: 0.5862\n",
      "Epoch 17/30\n",
      "43/43 [==============================] - 2s 41ms/step - loss: 0.7604 - Sparse_CategoricalCrossentropy: 0.7579 - accuracy: 0.4592 - val_loss: 0.7005 - val_Sparse_CategoricalCrossentropy: 0.6989 - val_accuracy: 0.5862\n",
      "Epoch 18/30\n",
      "43/43 [==============================] - 2s 39ms/step - loss: 0.7681 - Sparse_CategoricalCrossentropy: 0.7638 - accuracy: 0.4610 - val_loss: 0.6994 - val_Sparse_CategoricalCrossentropy: 0.6979 - val_accuracy: 0.5862\n",
      "Epoch 19/30\n",
      "43/43 [==============================] - 2s 40ms/step - loss: 0.7572 - Sparse_CategoricalCrossentropy: 0.7547 - accuracy: 0.4745 - val_loss: 0.6985 - val_Sparse_CategoricalCrossentropy: 0.6969 - val_accuracy: 0.5862\n",
      "Epoch 20/30\n",
      "43/43 [==============================] - 2s 41ms/step - loss: 0.7510 - Sparse_CategoricalCrossentropy: 0.7481 - accuracy: 0.4810 - val_loss: 0.6986 - val_Sparse_CategoricalCrossentropy: 0.6970 - val_accuracy: 0.5862\n",
      "Epoch 21/30\n",
      "43/43 [==============================] - 2s 40ms/step - loss: 0.7495 - Sparse_CategoricalCrossentropy: 0.7459 - accuracy: 0.4930 - val_loss: 0.6984 - val_Sparse_CategoricalCrossentropy: 0.6968 - val_accuracy: 0.5862\n",
      "Epoch 22/30\n",
      "43/43 [==============================] - 2s 41ms/step - loss: 0.7540 - Sparse_CategoricalCrossentropy: 0.7532 - accuracy: 0.4833 - val_loss: 0.6978 - val_Sparse_CategoricalCrossentropy: 0.6962 - val_accuracy: 0.5862\n",
      "Epoch 23/30\n",
      "43/43 [==============================] - 2s 40ms/step - loss: 0.7415 - Sparse_CategoricalCrossentropy: 0.7403 - accuracy: 0.4875 - val_loss: 0.6977 - val_Sparse_CategoricalCrossentropy: 0.6961 - val_accuracy: 0.5862\n",
      "Epoch 24/30\n",
      "43/43 [==============================] - 2s 40ms/step - loss: 0.7475 - Sparse_CategoricalCrossentropy: 0.7466 - accuracy: 0.4903 - val_loss: 0.6973 - val_Sparse_CategoricalCrossentropy: 0.6957 - val_accuracy: 0.5862\n",
      "Epoch 25/30\n",
      "43/43 [==============================] - 2s 40ms/step - loss: 0.7440 - Sparse_CategoricalCrossentropy: 0.7420 - accuracy: 0.4954 - val_loss: 0.6971 - val_Sparse_CategoricalCrossentropy: 0.6955 - val_accuracy: 0.5862\n",
      "Epoch 26/30\n",
      "43/43 [==============================] - 2s 40ms/step - loss: 0.7475 - Sparse_CategoricalCrossentropy: 0.7453 - accuracy: 0.4805 - val_loss: 0.6972 - val_Sparse_CategoricalCrossentropy: 0.6956 - val_accuracy: 0.5862\n",
      "Epoch 27/30\n",
      "43/43 [==============================] - 2s 42ms/step - loss: 0.7513 - Sparse_CategoricalCrossentropy: 0.7494 - accuracy: 0.4824 - val_loss: 0.6968 - val_Sparse_CategoricalCrossentropy: 0.6953 - val_accuracy: 0.5862\n",
      "Epoch 28/30\n",
      "43/43 [==============================] - 2s 40ms/step - loss: 0.7446 - Sparse_CategoricalCrossentropy: 0.7414 - accuracy: 0.4912 - val_loss: 0.6966 - val_Sparse_CategoricalCrossentropy: 0.6951 - val_accuracy: 0.5862\n",
      "Epoch 29/30\n",
      "43/43 [==============================] - 2s 40ms/step - loss: 0.7531 - Sparse_CategoricalCrossentropy: 0.7509 - accuracy: 0.4666 - val_loss: 0.6967 - val_Sparse_CategoricalCrossentropy: 0.6952 - val_accuracy: 0.5862\n",
      "Epoch 30/30\n",
      "43/43 [==============================] - 2s 42ms/step - loss: 0.7438 - Sparse_CategoricalCrossentropy: 0.7408 - accuracy: 0.4884 - val_loss: 0.6967 - val_Sparse_CategoricalCrossentropy: 0.6952 - val_accuracy: 0.5862\n"
     ]
    }
   ],
   "source": [
    "lr_schedule = tf.keras.optimizers.schedules.InverseTimeDecay(val_learning_rate, decay_steps = val_steps_per_epochs, \n",
    "                                                             decay_rate=1, staircase=False)\n",
    "optimizer = optimizers.Adam(lr_schedule)\n",
    "callback = [tf.keras.callbacks.EarlyStopping(monitor='Sparse_CategoricalCrossentropy', patience=120)]\n",
    "\n",
    "model33.compile(optimizer = optimizer, loss=tf.keras.losses.SparseCategoricalCrossentropy(from_logits=False), \n",
    "              metrics=[tf.keras.losses.SparseCategoricalCrossentropy(from_logits=False, name='Sparse_CategoricalCrossentropy'),\n",
    "                       'accuracy'])\n",
    "\n",
    "history33 = model33.fit(norm_train_img_ds,  epochs = 30, validation_data=(norm_val_img_ds), \n",
    "                    batch_size = val_batch_size, callbacks = callback)"
   ]
  },
  {
   "cell_type": "code",
   "execution_count": 100,
   "id": "82856625",
   "metadata": {},
   "outputs": [
    {
     "data": {
      "text/plain": [
       "Text(0.5, 1.0, 'MLP CAE 3-Layer Learning-rate 3e-4')"
      ]
     },
     "execution_count": 100,
     "metadata": {},
     "output_type": "execute_result"
    },
    {
     "data": {
      "image/png": "[encoded data removed]",
      "text/plain": [
       "<Figure size 432x288 with 1 Axes>"
      ]
     },
     "metadata": {
      "needs_background": "light"
     },
     "output_type": "display_data"
    }
   ],
   "source": [
    "plt.plot(history33.history['accuracy'], label='Accuracy')\n",
    "plt.plot(history33.history['val_accuracy'], label = 'Val-Accuracy')\n",
    "plt.plot(history33.history['loss'], label = 'Loss')\n",
    "plt.plot(history33.history['val_loss'], label = 'Val-Loss')\n",
    "plt.xlabel('Epoch')\n",
    "plt.ylabel('Metrics')\n",
    "plt.ylim([0.2, 2.1])\n",
    "plt.legend(loc='lower right')\n",
    "plt.title('MLP CAE 3-Layer Learning-rate 3e-4')"
   ]
  },
  {
   "cell_type": "code",
   "execution_count": 102,
   "id": "e5fd0fd6",
   "metadata": {},
   "outputs": [
    {
     "name": "stdout",
     "output_type": "stream",
     "text": [
      "1/1 - 0s - loss: 0.7198 - Sparse_CategoricalCrossentropy: 0.7198 - accuracy: 0.5556 - 78ms/epoch - 78ms/step\n",
      "0.5555555820465088\n",
      "1/1 - 0s - loss: 0.7198 - Sparse_CategoricalCrossentropy: 0.7198 - accuracy: 0.5556 - 76ms/epoch - 76ms/step\n",
      "0.5555555820465088\n"
     ]
    }
   ],
   "source": [
    "test_loss, test_sparse_entropy, test_acc = model33.evaluate(test_img_ds,  verbose=2)\n",
    "print(test_acc)\n",
    "\n",
    "test_loss, test_sparse_entropy, test_acc = model33.evaluate(norm_test_img_ds,  verbose=2)\n",
    "print(test_acc)"
   ]
  },
  {
   "cell_type": "code",
   "execution_count": 106,
   "id": "278baedc",
   "metadata": {},
   "outputs": [
    {
     "name": "stdout",
     "output_type": "stream",
     "text": [
      "Model: \"sequential_10\"\n",
      "_________________________________________________________________\n",
      " Layer (type)                Output Shape              Param #   \n",
      "=================================================================\n",
      " flatten_8 (Flatten)         (None, 9408)              0         \n",
      "                                                                 \n",
      " dense_28 (Dense)            (None, 512)               4817408   \n",
      "                                                                 \n",
      " dropout_16 (Dropout)        (None, 512)               0         \n",
      "                                                                 \n",
      " dense_29 (Dense)            (None, 256)               131328    \n",
      "                                                                 \n",
      " dropout_17 (Dropout)        (None, 256)               0         \n",
      "                                                                 \n",
      " dense_30 (Dense)            (None, 128)               32896     \n",
      "                                                                 \n",
      " dropout_18 (Dropout)        (None, 128)               0         \n",
      "                                                                 \n",
      " dense_31 (Dense)            (None, 56)                7224      \n",
      "                                                                 \n",
      " dropout_19 (Dropout)        (None, 56)                0         \n",
      "                                                                 \n",
      " dense_32 (Dense)            (None, 2)                 114       \n",
      "                                                                 \n",
      "=================================================================\n",
      "Total params: 4,988,970\n",
      "Trainable params: 4,988,970\n",
      "Non-trainable params: 0\n",
      "_________________________________________________________________\n"
     ]
    }
   ],
   "source": [
    "#Model 4 layer with learning rate 3e-4\n",
    "model34 = models.Sequential()\n",
    "model34.add(layers.Flatten(input_shape = (val_img_height, val_img_width, val_channels)))\n",
    "model34.add(layers.Dense(512, activation='sigmoid'))\n",
    "model34.add(layers.Dropout(0.3))\n",
    "model34.add(layers.Dense(256, activation='sigmoid'))\n",
    "model34.add(layers.Dropout(0.3))\n",
    "model34.add(layers.Dense(128, activation='sigmoid'))\n",
    "model34.add(layers.Dropout(0.3))\n",
    "model34.add(layers.Dense(56, activation='sigmoid'))\n",
    "model34.add(layers.Dropout(0.2))\n",
    "model34.add(layers.Dense(2, activation = 'softmax'))\n",
    "model34.summary()"
   ]
  },
  {
   "cell_type": "code",
   "execution_count": 107,
   "id": "d438c2dc",
   "metadata": {},
   "outputs": [
    {
     "name": "stdout",
     "output_type": "stream",
     "text": [
      "Epoch 1/30\n",
      "43/43 [==============================] - 3s 47ms/step - loss: 1.0721 - Sparse_CategoricalCrossentropy: 1.0715 - accuracy: 0.4249 - val_loss: 0.7069 - val_Sparse_CategoricalCrossentropy: 0.7072 - val_accuracy: 0.4138\n",
      "Epoch 2/30\n",
      "43/43 [==============================] - 2s 40ms/step - loss: 0.7615 - Sparse_CategoricalCrossentropy: 0.7599 - accuracy: 0.4652 - val_loss: 0.6798 - val_Sparse_CategoricalCrossentropy: 0.6788 - val_accuracy: 0.5862\n",
      "Epoch 3/30\n",
      "43/43 [==============================] - 2s 41ms/step - loss: 0.7859 - Sparse_CategoricalCrossentropy: 0.7838 - accuracy: 0.4137 - val_loss: 0.6815 - val_Sparse_CategoricalCrossentropy: 0.6805 - val_accuracy: 0.5862\n",
      "Epoch 4/30\n",
      "43/43 [==============================] - 2s 40ms/step - loss: 0.7775 - Sparse_CategoricalCrossentropy: 0.7763 - accuracy: 0.4448 - val_loss: 0.6810 - val_Sparse_CategoricalCrossentropy: 0.6800 - val_accuracy: 0.5862\n",
      "Epoch 5/30\n",
      "43/43 [==============================] - 2s 41ms/step - loss: 0.7649 - Sparse_CategoricalCrossentropy: 0.7609 - accuracy: 0.4513 - val_loss: 0.6804 - val_Sparse_CategoricalCrossentropy: 0.6794 - val_accuracy: 0.5862\n",
      "Epoch 6/30\n",
      "43/43 [==============================] - 2s 41ms/step - loss: 0.7692 - Sparse_CategoricalCrossentropy: 0.7665 - accuracy: 0.4545 - val_loss: 0.6798 - val_Sparse_CategoricalCrossentropy: 0.6789 - val_accuracy: 0.5862\n",
      "Epoch 7/30\n",
      "43/43 [==============================] - 2s 42ms/step - loss: 0.7520 - Sparse_CategoricalCrossentropy: 0.7481 - accuracy: 0.4573 - val_loss: 0.6798 - val_Sparse_CategoricalCrossentropy: 0.6788 - val_accuracy: 0.5862\n",
      "Epoch 8/30\n",
      "43/43 [==============================] - 2s 40ms/step - loss: 0.7524 - Sparse_CategoricalCrossentropy: 0.7493 - accuracy: 0.4694 - val_loss: 0.6794 - val_Sparse_CategoricalCrossentropy: 0.6785 - val_accuracy: 0.5862\n",
      "Epoch 9/30\n",
      "43/43 [==============================] - 2s 48ms/step - loss: 0.7447 - Sparse_CategoricalCrossentropy: 0.7419 - accuracy: 0.4754 - val_loss: 0.6792 - val_Sparse_CategoricalCrossentropy: 0.6783 - val_accuracy: 0.5862\n",
      "Epoch 10/30\n",
      "43/43 [==============================] - 2s 42ms/step - loss: 0.7494 - Sparse_CategoricalCrossentropy: 0.7467 - accuracy: 0.4833 - val_loss: 0.6790 - val_Sparse_CategoricalCrossentropy: 0.6781 - val_accuracy: 0.5862\n",
      "Epoch 11/30\n",
      "43/43 [==============================] - 2s 42ms/step - loss: 0.7516 - Sparse_CategoricalCrossentropy: 0.7491 - accuracy: 0.4712 - val_loss: 0.6789 - val_Sparse_CategoricalCrossentropy: 0.6781 - val_accuracy: 0.5862\n",
      "Epoch 12/30\n",
      "43/43 [==============================] - 2s 41ms/step - loss: 0.7384 - Sparse_CategoricalCrossentropy: 0.7355 - accuracy: 0.4754 - val_loss: 0.6789 - val_Sparse_CategoricalCrossentropy: 0.6780 - val_accuracy: 0.5862\n",
      "Epoch 13/30\n",
      "43/43 [==============================] - 2s 42ms/step - loss: 0.7401 - Sparse_CategoricalCrossentropy: 0.7383 - accuracy: 0.4759 - val_loss: 0.6789 - val_Sparse_CategoricalCrossentropy: 0.6780 - val_accuracy: 0.5862\n",
      "Epoch 14/30\n",
      "43/43 [==============================] - 2s 42ms/step - loss: 0.7379 - Sparse_CategoricalCrossentropy: 0.7359 - accuracy: 0.4986 - val_loss: 0.6788 - val_Sparse_CategoricalCrossentropy: 0.6780 - val_accuracy: 0.5862\n",
      "Epoch 15/30\n",
      "43/43 [==============================] - 2s 45ms/step - loss: 0.7419 - Sparse_CategoricalCrossentropy: 0.7397 - accuracy: 0.4898 - val_loss: 0.6787 - val_Sparse_CategoricalCrossentropy: 0.6779 - val_accuracy: 0.5862\n",
      "Epoch 16/30\n",
      "43/43 [==============================] - 2s 47ms/step - loss: 0.7396 - Sparse_CategoricalCrossentropy: 0.7366 - accuracy: 0.4745 - val_loss: 0.6787 - val_Sparse_CategoricalCrossentropy: 0.6778 - val_accuracy: 0.5862\n",
      "Epoch 17/30\n",
      "43/43 [==============================] - 2s 45ms/step - loss: 0.7292 - Sparse_CategoricalCrossentropy: 0.7276 - accuracy: 0.5028 - val_loss: 0.6786 - val_Sparse_CategoricalCrossentropy: 0.6778 - val_accuracy: 0.5862\n",
      "Epoch 18/30\n",
      "43/43 [==============================] - 2s 43ms/step - loss: 0.7318 - Sparse_CategoricalCrossentropy: 0.7291 - accuracy: 0.4926 - val_loss: 0.6786 - val_Sparse_CategoricalCrossentropy: 0.6777 - val_accuracy: 0.5862\n",
      "Epoch 19/30\n",
      "43/43 [==============================] - 2s 42ms/step - loss: 0.7232 - Sparse_CategoricalCrossentropy: 0.7216 - accuracy: 0.5093 - val_loss: 0.6785 - val_Sparse_CategoricalCrossentropy: 0.6777 - val_accuracy: 0.5862\n",
      "Epoch 20/30\n",
      "43/43 [==============================] - 2s 42ms/step - loss: 0.7294 - Sparse_CategoricalCrossentropy: 0.7279 - accuracy: 0.5079 - val_loss: 0.6785 - val_Sparse_CategoricalCrossentropy: 0.6777 - val_accuracy: 0.5862\n",
      "Epoch 21/30\n",
      "43/43 [==============================] - 2s 43ms/step - loss: 0.7353 - Sparse_CategoricalCrossentropy: 0.7345 - accuracy: 0.4944 - val_loss: 0.6785 - val_Sparse_CategoricalCrossentropy: 0.6777 - val_accuracy: 0.5862\n",
      "Epoch 22/30\n",
      "43/43 [==============================] - 2s 41ms/step - loss: 0.7263 - Sparse_CategoricalCrossentropy: 0.7239 - accuracy: 0.5032 - val_loss: 0.6785 - val_Sparse_CategoricalCrossentropy: 0.6777 - val_accuracy: 0.5862\n",
      "Epoch 23/30\n",
      "43/43 [==============================] - 2s 45ms/step - loss: 0.7292 - Sparse_CategoricalCrossentropy: 0.7273 - accuracy: 0.5060 - val_loss: 0.6785 - val_Sparse_CategoricalCrossentropy: 0.6777 - val_accuracy: 0.5862\n",
      "Epoch 24/30\n",
      "43/43 [==============================] - 2s 41ms/step - loss: 0.7158 - Sparse_CategoricalCrossentropy: 0.7140 - accuracy: 0.5204 - val_loss: 0.6785 - val_Sparse_CategoricalCrossentropy: 0.6777 - val_accuracy: 0.5862\n",
      "Epoch 25/30\n",
      "43/43 [==============================] - 2s 43ms/step - loss: 0.7104 - Sparse_CategoricalCrossentropy: 0.7070 - accuracy: 0.5051 - val_loss: 0.6785 - val_Sparse_CategoricalCrossentropy: 0.6777 - val_accuracy: 0.5862\n",
      "Epoch 26/30\n",
      "43/43 [==============================] - 2s 43ms/step - loss: 0.7240 - Sparse_CategoricalCrossentropy: 0.7214 - accuracy: 0.5176 - val_loss: 0.6784 - val_Sparse_CategoricalCrossentropy: 0.6776 - val_accuracy: 0.5862\n",
      "Epoch 27/30\n",
      "43/43 [==============================] - 2s 44ms/step - loss: 0.7305 - Sparse_CategoricalCrossentropy: 0.7295 - accuracy: 0.4740 - val_loss: 0.6784 - val_Sparse_CategoricalCrossentropy: 0.6776 - val_accuracy: 0.5862\n",
      "Epoch 28/30\n",
      "43/43 [==============================] - 2s 44ms/step - loss: 0.7231 - Sparse_CategoricalCrossentropy: 0.7212 - accuracy: 0.4995 - val_loss: 0.6784 - val_Sparse_CategoricalCrossentropy: 0.6776 - val_accuracy: 0.5862\n",
      "Epoch 29/30\n",
      "43/43 [==============================] - 2s 45ms/step - loss: 0.7219 - Sparse_CategoricalCrossentropy: 0.7210 - accuracy: 0.5139 - val_loss: 0.6784 - val_Sparse_CategoricalCrossentropy: 0.6776 - val_accuracy: 0.5862\n",
      "Epoch 30/30\n",
      "43/43 [==============================] - 2s 43ms/step - loss: 0.7241 - Sparse_CategoricalCrossentropy: 0.7233 - accuracy: 0.5088 - val_loss: 0.6784 - val_Sparse_CategoricalCrossentropy: 0.6776 - val_accuracy: 0.5862\n"
     ]
    }
   ],
   "source": [
    "lr_schedule = tf.keras.optimizers.schedules.InverseTimeDecay(val_learning_rate, decay_steps = val_steps_per_epochs, \n",
    "                                                             decay_rate=1, staircase=False)\n",
    "optimizer = optimizers.Adam(lr_schedule)\n",
    "callback = [tf.keras.callbacks.EarlyStopping(monitor='Sparse_CategoricalCrossentropy', patience=120)]\n",
    "\n",
    "model34.compile(optimizer = optimizer, loss=tf.keras.losses.SparseCategoricalCrossentropy(from_logits=False), \n",
    "              metrics=[tf.keras.losses.SparseCategoricalCrossentropy(from_logits=False, name='Sparse_CategoricalCrossentropy'),\n",
    "                       'accuracy'])\n",
    "\n",
    "history34 = model34.fit(norm_train_img_ds,  epochs = 30, validation_data=(norm_val_img_ds), \n",
    "                    batch_size = val_batch_size, callbacks = callback)"
   ]
  },
  {
   "cell_type": "code",
   "execution_count": 108,
   "id": "5e377559",
   "metadata": {},
   "outputs": [
    {
     "data": {
      "text/plain": [
       "Text(0.5, 1.0, 'MLP CAE 4-Layer Learning-rate 3e-4')"
      ]
     },
     "execution_count": 108,
     "metadata": {},
     "output_type": "execute_result"
    },
    {
     "data": {
      "image/png": "[encoded data removed]",
      "text/plain": [
       "<Figure size 432x288 with 1 Axes>"
      ]
     },
     "metadata": {
      "needs_background": "light"
     },
     "output_type": "display_data"
    }
   ],
   "source": [
    "plt.plot(history34.history['accuracy'], label='Accuracy')\n",
    "plt.plot(history34.history['val_accuracy'], label = 'Val-Accuracy')\n",
    "plt.plot(history34.history['loss'], label = 'Loss')\n",
    "plt.plot(history34.history['val_loss'], label = 'Val-Loss')\n",
    "plt.xlabel('Epoch')\n",
    "plt.ylabel('Metrics')\n",
    "plt.ylim([0.2, 2.1])\n",
    "plt.legend(loc='lower right')\n",
    "plt.title('MLP CAE 4-Layer Learning-rate 3e-4')"
   ]
  },
  {
   "cell_type": "code",
   "execution_count": 109,
   "id": "6925f843",
   "metadata": {},
   "outputs": [
    {
     "name": "stdout",
     "output_type": "stream",
     "text": [
      "1/1 - 0s - loss: 0.6908 - Sparse_CategoricalCrossentropy: 0.6908 - accuracy: 0.5556 - 69ms/epoch - 69ms/step\n",
      "0.5555555820465088\n",
      "1/1 - 0s - loss: 0.6907 - Sparse_CategoricalCrossentropy: 0.6907 - accuracy: 0.5556 - 73ms/epoch - 73ms/step\n",
      "0.5555555820465088\n"
     ]
    }
   ],
   "source": [
    "test_loss, test_sparse_entropy, test_acc = model34.evaluate(test_img_ds,  verbose=2)\n",
    "print(test_acc)\n",
    "\n",
    "test_loss, test_sparse_entropy, test_acc = model34.evaluate(norm_test_img_ds,  verbose=2)\n",
    "print(test_acc)"
   ]
  },
  {
   "cell_type": "code",
   "execution_count": 110,
   "id": "8af14bcf",
   "metadata": {},
   "outputs": [],
   "source": [
    "val_learning_rate = 0.0005"
   ]
  },
  {
   "cell_type": "code",
   "execution_count": 111,
   "id": "f7dfb757",
   "metadata": {},
   "outputs": [
    {
     "name": "stdout",
     "output_type": "stream",
     "text": [
      "Model: \"sequential_11\"\n",
      "_________________________________________________________________\n",
      " Layer (type)                Output Shape              Param #   \n",
      "=================================================================\n",
      " flatten_9 (Flatten)         (None, 9408)              0         \n",
      "                                                                 \n",
      " dense_33 (Dense)            (None, 512)               4817408   \n",
      "                                                                 \n",
      " dropout_20 (Dropout)        (None, 512)               0         \n",
      "                                                                 \n",
      " dense_34 (Dense)            (None, 256)               131328    \n",
      "                                                                 \n",
      " dropout_21 (Dropout)        (None, 256)               0         \n",
      "                                                                 \n",
      " dense_35 (Dense)            (None, 128)               32896     \n",
      "                                                                 \n",
      " dropout_22 (Dropout)        (None, 128)               0         \n",
      "                                                                 \n",
      " dense_36 (Dense)            (None, 56)                7224      \n",
      "                                                                 \n",
      " dropout_23 (Dropout)        (None, 56)                0         \n",
      "                                                                 \n",
      " dense_37 (Dense)            (None, 2)                 114       \n",
      "                                                                 \n",
      "=================================================================\n",
      "Total params: 4,988,970\n",
      "Trainable params: 4,988,970\n",
      "Non-trainable params: 0\n",
      "_________________________________________________________________\n"
     ]
    }
   ],
   "source": [
    "#Model 4 layer with learning rate 5e-4\n",
    "model52 = models.Sequential()\n",
    "model52.add(layers.Flatten(input_shape = (val_img_height, val_img_width, val_channels)))\n",
    "model52.add(layers.Dense(512, activation='sigmoid'))\n",
    "model52.add(layers.Dropout(0.3))\n",
    "model52.add(layers.Dense(256, activation='sigmoid'))\n",
    "model52.add(layers.Dropout(0.3))\n",
    "model52.add(layers.Dense(128, activation='sigmoid'))\n",
    "model52.add(layers.Dropout(0.3))\n",
    "model52.add(layers.Dense(56, activation='sigmoid'))\n",
    "model52.add(layers.Dropout(0.2))\n",
    "model52.add(layers.Dense(2, activation = 'softmax'))\n",
    "model52.summary()"
   ]
  },
  {
   "cell_type": "code",
   "execution_count": 112,
   "id": "97af9648",
   "metadata": {},
   "outputs": [
    {
     "name": "stdout",
     "output_type": "stream",
     "text": [
      "Epoch 1/30\n",
      "43/43 [==============================] - 3s 48ms/step - loss: 1.2038 - Sparse_CategoricalCrossentropy: 1.1985 - accuracy: 0.4327 - val_loss: 0.6860 - val_Sparse_CategoricalCrossentropy: 0.6859 - val_accuracy: 0.5862\n",
      "Epoch 2/30\n",
      "43/43 [==============================] - 2s 44ms/step - loss: 0.7812 - Sparse_CategoricalCrossentropy: 0.7771 - accuracy: 0.4091 - val_loss: 0.6854 - val_Sparse_CategoricalCrossentropy: 0.6842 - val_accuracy: 0.5862\n",
      "Epoch 3/30\n",
      "43/43 [==============================] - 2s 41ms/step - loss: 0.8212 - Sparse_CategoricalCrossentropy: 0.8174 - accuracy: 0.3701 - val_loss: 0.6821 - val_Sparse_CategoricalCrossentropy: 0.6810 - val_accuracy: 0.5862\n",
      "Epoch 4/30\n",
      "43/43 [==============================] - 2s 43ms/step - loss: 0.7795 - Sparse_CategoricalCrossentropy: 0.7762 - accuracy: 0.4119 - val_loss: 0.6807 - val_Sparse_CategoricalCrossentropy: 0.6797 - val_accuracy: 0.5862\n",
      "Epoch 5/30\n",
      "43/43 [==============================] - 2s 41ms/step - loss: 0.7666 - Sparse_CategoricalCrossentropy: 0.7623 - accuracy: 0.4383 - val_loss: 0.6793 - val_Sparse_CategoricalCrossentropy: 0.6784 - val_accuracy: 0.5862\n",
      "Epoch 6/30\n",
      "43/43 [==============================] - 2s 43ms/step - loss: 0.7458 - Sparse_CategoricalCrossentropy: 0.7433 - accuracy: 0.4578 - val_loss: 0.6788 - val_Sparse_CategoricalCrossentropy: 0.6779 - val_accuracy: 0.5862\n",
      "Epoch 7/30\n",
      "43/43 [==============================] - 2s 40ms/step - loss: 0.7554 - Sparse_CategoricalCrossentropy: 0.7520 - accuracy: 0.4360 - val_loss: 0.6785 - val_Sparse_CategoricalCrossentropy: 0.6777 - val_accuracy: 0.5862\n",
      "Epoch 8/30\n",
      "43/43 [==============================] - 2s 44ms/step - loss: 0.7444 - Sparse_CategoricalCrossentropy: 0.7409 - accuracy: 0.4522 - val_loss: 0.6784 - val_Sparse_CategoricalCrossentropy: 0.6776 - val_accuracy: 0.5862\n",
      "Epoch 9/30\n",
      "43/43 [==============================] - 2s 42ms/step - loss: 0.7417 - Sparse_CategoricalCrossentropy: 0.7390 - accuracy: 0.4731 - val_loss: 0.6783 - val_Sparse_CategoricalCrossentropy: 0.6775 - val_accuracy: 0.5862\n",
      "Epoch 10/30\n",
      "43/43 [==============================] - 2s 42ms/step - loss: 0.7478 - Sparse_CategoricalCrossentropy: 0.7449 - accuracy: 0.4550 - val_loss: 0.6782 - val_Sparse_CategoricalCrossentropy: 0.6774 - val_accuracy: 0.5862\n",
      "Epoch 11/30\n",
      "43/43 [==============================] - 2s 43ms/step - loss: 0.7351 - Sparse_CategoricalCrossentropy: 0.7304 - accuracy: 0.4754 - val_loss: 0.6782 - val_Sparse_CategoricalCrossentropy: 0.6774 - val_accuracy: 0.5862\n",
      "Epoch 12/30\n",
      "43/43 [==============================] - 2s 42ms/step - loss: 0.7377 - Sparse_CategoricalCrossentropy: 0.7368 - accuracy: 0.4712 - val_loss: 0.6781 - val_Sparse_CategoricalCrossentropy: 0.6774 - val_accuracy: 0.5862\n",
      "Epoch 13/30\n",
      "43/43 [==============================] - 2s 46ms/step - loss: 0.7351 - Sparse_CategoricalCrossentropy: 0.7314 - accuracy: 0.4675 - val_loss: 0.6781 - val_Sparse_CategoricalCrossentropy: 0.6774 - val_accuracy: 0.5862\n",
      "Epoch 14/30\n",
      "43/43 [==============================] - 2s 43ms/step - loss: 0.7237 - Sparse_CategoricalCrossentropy: 0.7212 - accuracy: 0.4917 - val_loss: 0.6782 - val_Sparse_CategoricalCrossentropy: 0.6775 - val_accuracy: 0.5862\n",
      "Epoch 15/30\n",
      "43/43 [==============================] - 2s 40ms/step - loss: 0.7271 - Sparse_CategoricalCrossentropy: 0.7254 - accuracy: 0.4879 - val_loss: 0.6782 - val_Sparse_CategoricalCrossentropy: 0.6775 - val_accuracy: 0.5862\n",
      "Epoch 16/30\n",
      "43/43 [==============================] - 2s 46ms/step - loss: 0.7192 - Sparse_CategoricalCrossentropy: 0.7172 - accuracy: 0.5046 - val_loss: 0.6782 - val_Sparse_CategoricalCrossentropy: 0.6775 - val_accuracy: 0.5862\n",
      "Epoch 17/30\n",
      "43/43 [==============================] - 2s 43ms/step - loss: 0.7280 - Sparse_CategoricalCrossentropy: 0.7247 - accuracy: 0.4926 - val_loss: 0.6782 - val_Sparse_CategoricalCrossentropy: 0.6775 - val_accuracy: 0.5862\n",
      "Epoch 18/30\n",
      "43/43 [==============================] - 2s 41ms/step - loss: 0.7247 - Sparse_CategoricalCrossentropy: 0.7225 - accuracy: 0.4949 - val_loss: 0.6782 - val_Sparse_CategoricalCrossentropy: 0.6775 - val_accuracy: 0.5862\n",
      "Epoch 19/30\n",
      "43/43 [==============================] - 2s 43ms/step - loss: 0.7219 - Sparse_CategoricalCrossentropy: 0.7191 - accuracy: 0.4856 - val_loss: 0.6782 - val_Sparse_CategoricalCrossentropy: 0.6775 - val_accuracy: 0.5862\n",
      "Epoch 20/30\n",
      "43/43 [==============================] - 2s 44ms/step - loss: 0.7275 - Sparse_CategoricalCrossentropy: 0.7256 - accuracy: 0.4940 - val_loss: 0.6782 - val_Sparse_CategoricalCrossentropy: 0.6776 - val_accuracy: 0.5862\n",
      "Epoch 21/30\n",
      "43/43 [==============================] - 2s 41ms/step - loss: 0.7205 - Sparse_CategoricalCrossentropy: 0.7195 - accuracy: 0.4935 - val_loss: 0.6782 - val_Sparse_CategoricalCrossentropy: 0.6776 - val_accuracy: 0.5862\n",
      "Epoch 22/30\n",
      "43/43 [==============================] - 2s 40ms/step - loss: 0.7194 - Sparse_CategoricalCrossentropy: 0.7168 - accuracy: 0.4879 - val_loss: 0.6782 - val_Sparse_CategoricalCrossentropy: 0.6776 - val_accuracy: 0.5862\n",
      "Epoch 23/30\n",
      "43/43 [==============================] - 2s 40ms/step - loss: 0.7216 - Sparse_CategoricalCrossentropy: 0.7195 - accuracy: 0.4981 - val_loss: 0.6783 - val_Sparse_CategoricalCrossentropy: 0.6776 - val_accuracy: 0.5862\n",
      "Epoch 24/30\n",
      "43/43 [==============================] - 2s 40ms/step - loss: 0.7122 - Sparse_CategoricalCrossentropy: 0.7099 - accuracy: 0.5051 - val_loss: 0.6783 - val_Sparse_CategoricalCrossentropy: 0.6776 - val_accuracy: 0.5862\n",
      "Epoch 25/30\n",
      "43/43 [==============================] - 2s 41ms/step - loss: 0.7222 - Sparse_CategoricalCrossentropy: 0.7217 - accuracy: 0.4870 - val_loss: 0.6783 - val_Sparse_CategoricalCrossentropy: 0.6777 - val_accuracy: 0.5862\n",
      "Epoch 26/30\n",
      "43/43 [==============================] - 2s 41ms/step - loss: 0.7198 - Sparse_CategoricalCrossentropy: 0.7165 - accuracy: 0.4824 - val_loss: 0.6783 - val_Sparse_CategoricalCrossentropy: 0.6777 - val_accuracy: 0.5862\n",
      "Epoch 27/30\n",
      "43/43 [==============================] - 2s 40ms/step - loss: 0.7141 - Sparse_CategoricalCrossentropy: 0.7114 - accuracy: 0.4972 - val_loss: 0.6783 - val_Sparse_CategoricalCrossentropy: 0.6777 - val_accuracy: 0.5862\n",
      "Epoch 28/30\n",
      "43/43 [==============================] - 2s 46ms/step - loss: 0.7132 - Sparse_CategoricalCrossentropy: 0.7102 - accuracy: 0.5051 - val_loss: 0.6784 - val_Sparse_CategoricalCrossentropy: 0.6778 - val_accuracy: 0.5862\n",
      "Epoch 29/30\n",
      "43/43 [==============================] - 2s 43ms/step - loss: 0.7161 - Sparse_CategoricalCrossentropy: 0.7149 - accuracy: 0.4995 - val_loss: 0.6784 - val_Sparse_CategoricalCrossentropy: 0.6778 - val_accuracy: 0.5862\n",
      "Epoch 30/30\n",
      "43/43 [==============================] - 2s 40ms/step - loss: 0.7163 - Sparse_CategoricalCrossentropy: 0.7132 - accuracy: 0.4977 - val_loss: 0.6784 - val_Sparse_CategoricalCrossentropy: 0.6778 - val_accuracy: 0.5862\n"
     ]
    }
   ],
   "source": [
    "lr_schedule = tf.keras.optimizers.schedules.InverseTimeDecay(val_learning_rate, decay_steps = val_steps_per_epochs, \n",
    "                                                             decay_rate=1, staircase=False)\n",
    "optimizer = optimizers.Adam(lr_schedule)\n",
    "callback = [tf.keras.callbacks.EarlyStopping(monitor='Sparse_CategoricalCrossentropy', patience=120)]\n",
    "\n",
    "model52.compile(optimizer = optimizer, loss=tf.keras.losses.SparseCategoricalCrossentropy(from_logits=False), \n",
    "              metrics=[tf.keras.losses.SparseCategoricalCrossentropy(from_logits=False, name='Sparse_CategoricalCrossentropy'),\n",
    "                       'accuracy'])\n",
    "\n",
    "history52 = model52.fit(norm_train_img_ds,  epochs = 30, validation_data=(norm_val_img_ds), \n",
    "                    batch_size = val_batch_size, callbacks = callback)"
   ]
  },
  {
   "cell_type": "code",
   "execution_count": 113,
   "id": "ff477d0f",
   "metadata": {},
   "outputs": [
    {
     "data": {
      "text/plain": [
       "Text(0.5, 1.0, 'MLP CAE 4-Layer Learning-rate 5e-4')"
      ]
     },
     "execution_count": 113,
     "metadata": {},
     "output_type": "execute_result"
    },
    {
     "data": {
      "image/png": "[encoded data removed]",
      "text/plain": [
       "<Figure size 432x288 with 1 Axes>"
      ]
     },
     "metadata": {
      "needs_background": "light"
     },
     "output_type": "display_data"
    }
   ],
   "source": [
    "plt.plot(history52.history['accuracy'], label='Accuracy')\n",
    "plt.plot(history52.history['val_accuracy'], label = 'Val-Accuracy')\n",
    "plt.plot(history52.history['loss'], label = 'Loss')\n",
    "plt.plot(history52.history['val_loss'], label = 'Val-Loss')\n",
    "plt.xlabel('Epoch')\n",
    "plt.ylabel('Metrics')\n",
    "plt.ylim([0.2, 2.1])\n",
    "plt.legend(loc='lower right')\n",
    "plt.title('MLP CAE 4-Layer Learning-rate 5e-4')"
   ]
  },
  {
   "cell_type": "code",
   "execution_count": 114,
   "id": "d5f5fcde",
   "metadata": {},
   "outputs": [
    {
     "name": "stdout",
     "output_type": "stream",
     "text": [
      "1/1 - 0s - loss: 0.6878 - Sparse_CategoricalCrossentropy: 0.6878 - accuracy: 0.5556 - 86ms/epoch - 86ms/step\n",
      "0.5555555820465088\n",
      "1/1 - 0s - loss: 0.6878 - Sparse_CategoricalCrossentropy: 0.6878 - accuracy: 0.5556 - 86ms/epoch - 86ms/step\n",
      "0.5555555820465088\n"
     ]
    }
   ],
   "source": [
    "test_loss, test_sparse_entropy, test_acc = model52.evaluate(test_img_ds,  verbose=2)\n",
    "print(test_acc)\n",
    "\n",
    "test_loss, test_sparse_entropy, test_acc = model52.evaluate(norm_test_img_ds,  verbose=2)\n",
    "print(test_acc)"
   ]
  },
  {
   "cell_type": "code",
   "execution_count": 116,
   "id": "a9c5fd06",
   "metadata": {},
   "outputs": [
    {
     "name": "stdout",
     "output_type": "stream",
     "text": [
      "Model: \"sequential_12\"\n",
      "_________________________________________________________________\n",
      " Layer (type)                Output Shape              Param #   \n",
      "=================================================================\n",
      " flatten_10 (Flatten)        (None, 9408)              0         \n",
      "                                                                 \n",
      " dense_38 (Dense)            (None, 512)               4817408   \n",
      "                                                                 \n",
      " dropout_24 (Dropout)        (None, 512)               0         \n",
      "                                                                 \n",
      " dense_39 (Dense)            (None, 256)               131328    \n",
      "                                                                 \n",
      " dropout_25 (Dropout)        (None, 256)               0         \n",
      "                                                                 \n",
      " dense_40 (Dense)            (None, 128)               32896     \n",
      "                                                                 \n",
      " dropout_26 (Dropout)        (None, 128)               0         \n",
      "                                                                 \n",
      " dense_41 (Dense)            (None, 2)                 258       \n",
      "                                                                 \n",
      "=================================================================\n",
      "Total params: 4,981,890\n",
      "Trainable params: 4,981,890\n",
      "Non-trainable params: 0\n",
      "_________________________________________________________________\n"
     ]
    }
   ],
   "source": [
    "#Model 3 layer with learning rate 5e-4\n",
    "model53 = models.Sequential()\n",
    "model53.add(layers.Flatten(input_shape = (val_img_height, val_img_width, val_channels)))\n",
    "model53.add(layers.Dense(512, activation='sigmoid'))\n",
    "model53.add(layers.Dropout(0.3))\n",
    "model53.add(layers.Dense(256, activation='sigmoid'))\n",
    "model53.add(layers.Dropout(0.3))\n",
    "model53.add(layers.Dense(128, activation='sigmoid'))\n",
    "model53.add(layers.Dropout(0.2))\n",
    "model53.add(layers.Dense(2, activation = 'softmax'))\n",
    "model53.summary()"
   ]
  },
  {
   "cell_type": "code",
   "execution_count": 117,
   "id": "4ef576c0",
   "metadata": {},
   "outputs": [
    {
     "name": "stdout",
     "output_type": "stream",
     "text": [
      "Epoch 1/30\n",
      "43/43 [==============================] - 3s 49ms/step - loss: 1.3763 - Sparse_CategoricalCrossentropy: 1.3557 - accuracy: 0.5445 - val_loss: 1.0912 - val_Sparse_CategoricalCrossentropy: 1.0862 - val_accuracy: 0.5862\n",
      "Epoch 2/30\n",
      "43/43 [==============================] - 2s 41ms/step - loss: 1.2071 - Sparse_CategoricalCrossentropy: 1.1936 - accuracy: 0.2570 - val_loss: 0.7412 - val_Sparse_CategoricalCrossentropy: 0.7390 - val_accuracy: 0.5862\n",
      "Epoch 3/30\n",
      "43/43 [==============================] - 2s 41ms/step - loss: 0.8751 - Sparse_CategoricalCrossentropy: 0.8685 - accuracy: 0.3367 - val_loss: 0.7205 - val_Sparse_CategoricalCrossentropy: 0.7186 - val_accuracy: 0.5862\n",
      "Epoch 4/30\n",
      "43/43 [==============================] - 2s 40ms/step - loss: 0.8380 - Sparse_CategoricalCrossentropy: 0.8329 - accuracy: 0.3743 - val_loss: 0.7098 - val_Sparse_CategoricalCrossentropy: 0.7080 - val_accuracy: 0.5862\n",
      "Epoch 5/30\n",
      "43/43 [==============================] - 2s 42ms/step - loss: 0.8038 - Sparse_CategoricalCrossentropy: 0.8000 - accuracy: 0.4040 - val_loss: 0.7021 - val_Sparse_CategoricalCrossentropy: 0.7004 - val_accuracy: 0.5862\n",
      "Epoch 6/30\n",
      "43/43 [==============================] - 2s 40ms/step - loss: 0.7807 - Sparse_CategoricalCrossentropy: 0.7760 - accuracy: 0.4235 - val_loss: 0.6974 - val_Sparse_CategoricalCrossentropy: 0.6958 - val_accuracy: 0.5862\n",
      "Epoch 7/30\n",
      "43/43 [==============================] - 2s 40ms/step - loss: 0.7858 - Sparse_CategoricalCrossentropy: 0.7813 - accuracy: 0.4165 - val_loss: 0.6945 - val_Sparse_CategoricalCrossentropy: 0.6930 - val_accuracy: 0.5862\n",
      "Epoch 8/30\n",
      "43/43 [==============================] - 2s 45ms/step - loss: 0.7695 - Sparse_CategoricalCrossentropy: 0.7652 - accuracy: 0.4448 - val_loss: 0.6923 - val_Sparse_CategoricalCrossentropy: 0.6909 - val_accuracy: 0.5862\n",
      "Epoch 9/30\n",
      "43/43 [==============================] - 2s 43ms/step - loss: 0.7489 - Sparse_CategoricalCrossentropy: 0.7467 - accuracy: 0.4638 - val_loss: 0.6908 - val_Sparse_CategoricalCrossentropy: 0.6895 - val_accuracy: 0.5862\n",
      "Epoch 10/30\n",
      "43/43 [==============================] - 2s 48ms/step - loss: 0.7573 - Sparse_CategoricalCrossentropy: 0.7548 - accuracy: 0.4583 - val_loss: 0.6897 - val_Sparse_CategoricalCrossentropy: 0.6883 - val_accuracy: 0.5862\n",
      "Epoch 11/30\n",
      "43/43 [==============================] - 2s 48ms/step - loss: 0.7488 - Sparse_CategoricalCrossentropy: 0.7458 - accuracy: 0.4541 - val_loss: 0.6889 - val_Sparse_CategoricalCrossentropy: 0.6876 - val_accuracy: 0.5862\n",
      "Epoch 12/30\n",
      "43/43 [==============================] - 2s 43ms/step - loss: 0.7546 - Sparse_CategoricalCrossentropy: 0.7532 - accuracy: 0.4522 - val_loss: 0.6880 - val_Sparse_CategoricalCrossentropy: 0.6867 - val_accuracy: 0.5862\n",
      "Epoch 13/30\n",
      "43/43 [==============================] - 2s 43ms/step - loss: 0.7509 - Sparse_CategoricalCrossentropy: 0.7480 - accuracy: 0.4536 - val_loss: 0.6875 - val_Sparse_CategoricalCrossentropy: 0.6862 - val_accuracy: 0.5862\n",
      "Epoch 14/30\n",
      "43/43 [==============================] - 2s 40ms/step - loss: 0.7430 - Sparse_CategoricalCrossentropy: 0.7403 - accuracy: 0.4583 - val_loss: 0.6872 - val_Sparse_CategoricalCrossentropy: 0.6859 - val_accuracy: 0.5862\n",
      "Epoch 15/30\n",
      "43/43 [==============================] - 2s 44ms/step - loss: 0.7482 - Sparse_CategoricalCrossentropy: 0.7457 - accuracy: 0.4703 - val_loss: 0.6865 - val_Sparse_CategoricalCrossentropy: 0.6853 - val_accuracy: 0.5862\n",
      "Epoch 16/30\n",
      "43/43 [==============================] - 2s 42ms/step - loss: 0.7455 - Sparse_CategoricalCrossentropy: 0.7419 - accuracy: 0.4629 - val_loss: 0.6862 - val_Sparse_CategoricalCrossentropy: 0.6850 - val_accuracy: 0.5862\n",
      "Epoch 17/30\n",
      "43/43 [==============================] - 2s 44ms/step - loss: 0.7403 - Sparse_CategoricalCrossentropy: 0.7377 - accuracy: 0.4787 - val_loss: 0.6854 - val_Sparse_CategoricalCrossentropy: 0.6841 - val_accuracy: 0.5862\n",
      "Epoch 18/30\n",
      "43/43 [==============================] - 2s 45ms/step - loss: 0.7422 - Sparse_CategoricalCrossentropy: 0.7399 - accuracy: 0.4750 - val_loss: 0.6849 - val_Sparse_CategoricalCrossentropy: 0.6837 - val_accuracy: 0.5862\n",
      "Epoch 19/30\n",
      "43/43 [==============================] - 2s 50ms/step - loss: 0.7392 - Sparse_CategoricalCrossentropy: 0.7369 - accuracy: 0.4726 - val_loss: 0.6849 - val_Sparse_CategoricalCrossentropy: 0.6837 - val_accuracy: 0.5862\n",
      "Epoch 20/30\n",
      "43/43 [==============================] - 2s 45ms/step - loss: 0.7294 - Sparse_CategoricalCrossentropy: 0.7277 - accuracy: 0.4791 - val_loss: 0.6848 - val_Sparse_CategoricalCrossentropy: 0.6836 - val_accuracy: 0.5862\n",
      "Epoch 21/30\n",
      "43/43 [==============================] - 2s 40ms/step - loss: 0.7336 - Sparse_CategoricalCrossentropy: 0.7316 - accuracy: 0.4912 - val_loss: 0.6848 - val_Sparse_CategoricalCrossentropy: 0.6836 - val_accuracy: 0.5862\n",
      "Epoch 22/30\n",
      "43/43 [==============================] - 2s 40ms/step - loss: 0.7351 - Sparse_CategoricalCrossentropy: 0.7339 - accuracy: 0.4847 - val_loss: 0.6844 - val_Sparse_CategoricalCrossentropy: 0.6833 - val_accuracy: 0.5862\n",
      "Epoch 23/30\n",
      "43/43 [==============================] - 2s 41ms/step - loss: 0.7251 - Sparse_CategoricalCrossentropy: 0.7221 - accuracy: 0.4856 - val_loss: 0.6843 - val_Sparse_CategoricalCrossentropy: 0.6832 - val_accuracy: 0.5862\n",
      "Epoch 24/30\n",
      "43/43 [==============================] - 2s 42ms/step - loss: 0.7294 - Sparse_CategoricalCrossentropy: 0.7268 - accuracy: 0.4926 - val_loss: 0.6842 - val_Sparse_CategoricalCrossentropy: 0.6830 - val_accuracy: 0.5862\n",
      "Epoch 25/30\n",
      "43/43 [==============================] - 2s 40ms/step - loss: 0.7280 - Sparse_CategoricalCrossentropy: 0.7248 - accuracy: 0.4940 - val_loss: 0.6839 - val_Sparse_CategoricalCrossentropy: 0.6827 - val_accuracy: 0.5862\n",
      "Epoch 26/30\n",
      "43/43 [==============================] - 2s 42ms/step - loss: 0.7377 - Sparse_CategoricalCrossentropy: 0.7371 - accuracy: 0.4912 - val_loss: 0.6836 - val_Sparse_CategoricalCrossentropy: 0.6825 - val_accuracy: 0.5862\n",
      "Epoch 27/30\n",
      "43/43 [==============================] - 2s 43ms/step - loss: 0.7245 - Sparse_CategoricalCrossentropy: 0.7209 - accuracy: 0.4921 - val_loss: 0.6838 - val_Sparse_CategoricalCrossentropy: 0.6826 - val_accuracy: 0.5862\n",
      "Epoch 28/30\n",
      "43/43 [==============================] - 2s 43ms/step - loss: 0.7267 - Sparse_CategoricalCrossentropy: 0.7252 - accuracy: 0.5005 - val_loss: 0.6837 - val_Sparse_CategoricalCrossentropy: 0.6826 - val_accuracy: 0.5862\n",
      "Epoch 29/30\n",
      "43/43 [==============================] - 2s 40ms/step - loss: 0.7285 - Sparse_CategoricalCrossentropy: 0.7272 - accuracy: 0.5023 - val_loss: 0.6836 - val_Sparse_CategoricalCrossentropy: 0.6824 - val_accuracy: 0.5862\n",
      "Epoch 30/30\n",
      "43/43 [==============================] - 2s 43ms/step - loss: 0.7330 - Sparse_CategoricalCrossentropy: 0.7309 - accuracy: 0.5042 - val_loss: 0.6835 - val_Sparse_CategoricalCrossentropy: 0.6824 - val_accuracy: 0.5862\n"
     ]
    }
   ],
   "source": [
    "lr_schedule = tf.keras.optimizers.schedules.InverseTimeDecay(val_learning_rate, decay_steps = val_steps_per_epochs, \n",
    "                                                             decay_rate=1, staircase=False)\n",
    "optimizer = optimizers.Adam(lr_schedule)\n",
    "callback = [tf.keras.callbacks.EarlyStopping(monitor='Sparse_CategoricalCrossentropy', patience=120)]\n",
    "\n",
    "model53.compile(optimizer = optimizer, loss=tf.keras.losses.SparseCategoricalCrossentropy(from_logits=False), \n",
    "              metrics=[tf.keras.losses.SparseCategoricalCrossentropy(from_logits=False, name='Sparse_CategoricalCrossentropy'),\n",
    "                       'accuracy'])\n",
    "\n",
    "history53 = model53.fit(norm_train_img_ds,  epochs = 30, validation_data=(norm_val_img_ds), \n",
    "                    batch_size = val_batch_size, callbacks = callback)"
   ]
  },
  {
   "cell_type": "code",
   "execution_count": 118,
   "id": "1bf33e3d",
   "metadata": {},
   "outputs": [
    {
     "data": {
      "text/plain": [
       "Text(0.5, 1.0, 'MLP CAE 3-Layer Learning-rate 5e-4')"
      ]
     },
     "execution_count": 118,
     "metadata": {},
     "output_type": "execute_result"
    },
    {
     "data": {
      "image/png": "[encoded data removed]",
      "text/plain": [
       "<Figure size 432x288 with 1 Axes>"
      ]
     },
     "metadata": {
      "needs_background": "light"
     },
     "output_type": "display_data"
    }
   ],
   "source": [
    "plt.plot(history53.history['accuracy'], label='Accuracy')\n",
    "plt.plot(history53.history['val_accuracy'], label = 'Val-Accuracy')\n",
    "plt.plot(history53.history['loss'], label = 'Loss')\n",
    "plt.plot(history53.history['val_loss'], label = 'Val-Loss')\n",
    "plt.xlabel('Epoch')\n",
    "plt.ylabel('Metrics')\n",
    "plt.ylim([0.2, 2.1])\n",
    "plt.legend(loc='lower right')\n",
    "plt.title('MLP CAE 3-Layer Learning-rate 5e-4')"
   ]
  },
  {
   "cell_type": "code",
   "execution_count": 119,
   "id": "c7b56030",
   "metadata": {},
   "outputs": [
    {
     "name": "stdout",
     "output_type": "stream",
     "text": [
      "1/1 - 0s - loss: 0.7013 - Sparse_CategoricalCrossentropy: 0.7013 - accuracy: 0.5556 - 73ms/epoch - 73ms/step\n",
      "0.5555555820465088\n",
      "1/1 - 0s - loss: 0.7010 - Sparse_CategoricalCrossentropy: 0.7010 - accuracy: 0.5556 - 75ms/epoch - 75ms/step\n",
      "0.5555555820465088\n"
     ]
    }
   ],
   "source": [
    "test_loss, test_sparse_entropy, test_acc = model53.evaluate(test_img_ds,  verbose=2)\n",
    "print(test_acc)\n",
    "\n",
    "test_loss, test_sparse_entropy, test_acc = model53.evaluate(norm_test_img_ds,  verbose=2)\n",
    "print(test_acc)"
   ]
  },
  {
   "cell_type": "code",
   "execution_count": 120,
   "id": "cb8beff3",
   "metadata": {},
   "outputs": [
    {
     "name": "stdout",
     "output_type": "stream",
     "text": [
      "Model: \"sequential_13\"\n",
      "_________________________________________________________________\n",
      " Layer (type)                Output Shape              Param #   \n",
      "=================================================================\n",
      " flatten_11 (Flatten)        (None, 9408)              0         \n",
      "                                                                 \n",
      " dense_42 (Dense)            (None, 512)               4817408   \n",
      "                                                                 \n",
      " dropout_27 (Dropout)        (None, 512)               0         \n",
      "                                                                 \n",
      " dense_43 (Dense)            (None, 256)               131328    \n",
      "                                                                 \n",
      " dropout_28 (Dropout)        (None, 256)               0         \n",
      "                                                                 \n",
      " dense_44 (Dense)            (None, 2)                 514       \n",
      "                                                                 \n",
      "=================================================================\n",
      "Total params: 4,949,250\n",
      "Trainable params: 4,949,250\n",
      "Non-trainable params: 0\n",
      "_________________________________________________________________\n"
     ]
    }
   ],
   "source": [
    "#Model 2 layer with learning rate 5e-4\n",
    "model54 = models.Sequential()\n",
    "model54.add(layers.Flatten(input_shape = (val_img_height, val_img_width, val_channels)))\n",
    "model54.add(layers.Dense(512, activation='sigmoid'))\n",
    "model54.add(layers.Dropout(0.3))\n",
    "model54.add(layers.Dense(256, activation='sigmoid'))\n",
    "model54.add(layers.Dropout(0.2))\n",
    "model54.add(layers.Dense(2, activation = 'softmax'))\n",
    "model54.summary()"
   ]
  },
  {
   "cell_type": "code",
   "execution_count": 121,
   "id": "bcd7c644",
   "metadata": {},
   "outputs": [
    {
     "name": "stdout",
     "output_type": "stream",
     "text": [
      "Epoch 1/30\n",
      "43/43 [==============================] - 3s 46ms/step - loss: 1.4112 - Sparse_CategoricalCrossentropy: 1.3874 - accuracy: 0.6823 - val_loss: 2.7683 - val_Sparse_CategoricalCrossentropy: 2.7547 - val_accuracy: 0.5862\n",
      "Epoch 2/30\n",
      "43/43 [==============================] - 2s 40ms/step - loss: 2.3064 - Sparse_CategoricalCrossentropy: 2.2703 - accuracy: 0.2254 - val_loss: 1.0373 - val_Sparse_CategoricalCrossentropy: 1.0327 - val_accuracy: 0.5862\n",
      "Epoch 3/30\n",
      "43/43 [==============================] - 2s 42ms/step - loss: 1.2949 - Sparse_CategoricalCrossentropy: 1.2764 - accuracy: 0.2718 - val_loss: 0.9134 - val_Sparse_CategoricalCrossentropy: 0.9096 - val_accuracy: 0.5862\n",
      "Epoch 4/30\n",
      "43/43 [==============================] - 2s 40ms/step - loss: 1.1423 - Sparse_CategoricalCrossentropy: 1.1284 - accuracy: 0.2676 - val_loss: 0.8681 - val_Sparse_CategoricalCrossentropy: 0.8646 - val_accuracy: 0.5862\n",
      "Epoch 5/30\n",
      "43/43 [==============================] - 2s 39ms/step - loss: 1.0155 - Sparse_CategoricalCrossentropy: 1.0046 - accuracy: 0.2973 - val_loss: 0.8593 - val_Sparse_CategoricalCrossentropy: 0.8559 - val_accuracy: 0.5862\n",
      "Epoch 6/30\n",
      "43/43 [==============================] - 2s 39ms/step - loss: 0.9593 - Sparse_CategoricalCrossentropy: 0.9492 - accuracy: 0.3131 - val_loss: 0.8693 - val_Sparse_CategoricalCrossentropy: 0.8659 - val_accuracy: 0.5862\n",
      "Epoch 7/30\n",
      "43/43 [==============================] - 2s 42ms/step - loss: 0.9378 - Sparse_CategoricalCrossentropy: 0.9289 - accuracy: 0.3103 - val_loss: 0.8747 - val_Sparse_CategoricalCrossentropy: 0.8712 - val_accuracy: 0.5862\n",
      "Epoch 8/30\n",
      "43/43 [==============================] - 2s 41ms/step - loss: 0.9012 - Sparse_CategoricalCrossentropy: 0.8934 - accuracy: 0.3386 - val_loss: 0.8921 - val_Sparse_CategoricalCrossentropy: 0.8885 - val_accuracy: 0.5862\n",
      "Epoch 9/30\n",
      "43/43 [==============================] - 2s 41ms/step - loss: 0.8918 - Sparse_CategoricalCrossentropy: 0.8858 - accuracy: 0.3479 - val_loss: 0.9071 - val_Sparse_CategoricalCrossentropy: 0.9034 - val_accuracy: 0.5862\n",
      "Epoch 10/30\n",
      "43/43 [==============================] - 2s 39ms/step - loss: 0.8743 - Sparse_CategoricalCrossentropy: 0.8675 - accuracy: 0.3576 - val_loss: 0.9155 - val_Sparse_CategoricalCrossentropy: 0.9117 - val_accuracy: 0.5862\n",
      "Epoch 11/30\n",
      "43/43 [==============================] - 2s 40ms/step - loss: 0.8506 - Sparse_CategoricalCrossentropy: 0.8437 - accuracy: 0.3729 - val_loss: 0.9244 - val_Sparse_CategoricalCrossentropy: 0.9205 - val_accuracy: 0.5862\n",
      "Epoch 12/30\n",
      "43/43 [==============================] - 2s 40ms/step - loss: 0.8358 - Sparse_CategoricalCrossentropy: 0.8314 - accuracy: 0.3776 - val_loss: 0.9357 - val_Sparse_CategoricalCrossentropy: 0.9317 - val_accuracy: 0.5862\n",
      "Epoch 13/30\n",
      "43/43 [==============================] - 2s 41ms/step - loss: 0.8178 - Sparse_CategoricalCrossentropy: 0.8107 - accuracy: 0.4049 - val_loss: 0.9520 - val_Sparse_CategoricalCrossentropy: 0.9480 - val_accuracy: 0.5862\n",
      "Epoch 14/30\n",
      "43/43 [==============================] - 2s 40ms/step - loss: 0.8213 - Sparse_CategoricalCrossentropy: 0.8148 - accuracy: 0.3905 - val_loss: 0.9627 - val_Sparse_CategoricalCrossentropy: 0.9585 - val_accuracy: 0.5862\n",
      "Epoch 15/30\n",
      "43/43 [==============================] - 2s 40ms/step - loss: 0.8172 - Sparse_CategoricalCrossentropy: 0.8122 - accuracy: 0.4007 - val_loss: 0.9778 - val_Sparse_CategoricalCrossentropy: 0.9736 - val_accuracy: 0.5862\n",
      "Epoch 16/30\n",
      "43/43 [==============================] - 2s 40ms/step - loss: 0.8096 - Sparse_CategoricalCrossentropy: 0.8052 - accuracy: 0.4072 - val_loss: 0.9864 - val_Sparse_CategoricalCrossentropy: 0.9822 - val_accuracy: 0.5862\n",
      "Epoch 17/30\n",
      "43/43 [==============================] - 2s 43ms/step - loss: 0.8015 - Sparse_CategoricalCrossentropy: 0.7965 - accuracy: 0.4082 - val_loss: 1.0049 - val_Sparse_CategoricalCrossentropy: 1.0005 - val_accuracy: 0.5862\n",
      "Epoch 18/30\n",
      "43/43 [==============================] - 2s 49ms/step - loss: 0.8123 - Sparse_CategoricalCrossentropy: 0.8056 - accuracy: 0.3956 - val_loss: 1.0137 - val_Sparse_CategoricalCrossentropy: 1.0092 - val_accuracy: 0.5862\n",
      "Epoch 19/30\n",
      "43/43 [==============================] - 2s 46ms/step - loss: 0.7945 - Sparse_CategoricalCrossentropy: 0.7901 - accuracy: 0.4216 - val_loss: 1.0252 - val_Sparse_CategoricalCrossentropy: 1.0207 - val_accuracy: 0.5862\n",
      "Epoch 20/30\n",
      "43/43 [==============================] - 2s 45ms/step - loss: 0.7939 - Sparse_CategoricalCrossentropy: 0.7900 - accuracy: 0.4323 - val_loss: 1.0364 - val_Sparse_CategoricalCrossentropy: 1.0318 - val_accuracy: 0.5862\n",
      "Epoch 21/30\n",
      "43/43 [==============================] - 2s 41ms/step - loss: 0.7789 - Sparse_CategoricalCrossentropy: 0.7750 - accuracy: 0.4485 - val_loss: 1.0492 - val_Sparse_CategoricalCrossentropy: 1.0445 - val_accuracy: 0.5862\n",
      "Epoch 22/30\n",
      "43/43 [==============================] - 2s 42ms/step - loss: 0.7811 - Sparse_CategoricalCrossentropy: 0.7767 - accuracy: 0.4392 - val_loss: 1.0612 - val_Sparse_CategoricalCrossentropy: 1.0564 - val_accuracy: 0.5862\n",
      "Epoch 23/30\n",
      "43/43 [==============================] - 2s 42ms/step - loss: 0.7793 - Sparse_CategoricalCrossentropy: 0.7764 - accuracy: 0.4378 - val_loss: 1.0744 - val_Sparse_CategoricalCrossentropy: 1.0696 - val_accuracy: 0.5862\n",
      "Epoch 24/30\n",
      "43/43 [==============================] - 2s 47ms/step - loss: 0.7652 - Sparse_CategoricalCrossentropy: 0.7619 - accuracy: 0.4569 - val_loss: 1.0879 - val_Sparse_CategoricalCrossentropy: 1.0829 - val_accuracy: 0.5862\n",
      "Epoch 25/30\n",
      "43/43 [==============================] - 2s 41ms/step - loss: 0.7692 - Sparse_CategoricalCrossentropy: 0.7660 - accuracy: 0.4499 - val_loss: 1.0940 - val_Sparse_CategoricalCrossentropy: 1.0890 - val_accuracy: 0.5862\n",
      "Epoch 26/30\n",
      "43/43 [==============================] - 2s 47ms/step - loss: 0.7709 - Sparse_CategoricalCrossentropy: 0.7676 - accuracy: 0.4467 - val_loss: 1.0996 - val_Sparse_CategoricalCrossentropy: 1.0947 - val_accuracy: 0.5862\n",
      "Epoch 27/30\n",
      "43/43 [==============================] - 2s 45ms/step - loss: 0.7633 - Sparse_CategoricalCrossentropy: 0.7596 - accuracy: 0.4680 - val_loss: 1.1063 - val_Sparse_CategoricalCrossentropy: 1.1013 - val_accuracy: 0.5862\n",
      "Epoch 28/30\n",
      "43/43 [==============================] - 2s 45ms/step - loss: 0.7651 - Sparse_CategoricalCrossentropy: 0.7623 - accuracy: 0.4661 - val_loss: 1.1150 - val_Sparse_CategoricalCrossentropy: 1.1099 - val_accuracy: 0.5862\n",
      "Epoch 29/30\n",
      "43/43 [==============================] - 2s 41ms/step - loss: 0.7652 - Sparse_CategoricalCrossentropy: 0.7623 - accuracy: 0.4592 - val_loss: 1.1194 - val_Sparse_CategoricalCrossentropy: 1.1143 - val_accuracy: 0.5862\n",
      "Epoch 30/30\n",
      "43/43 [==============================] - 2s 40ms/step - loss: 0.7580 - Sparse_CategoricalCrossentropy: 0.7548 - accuracy: 0.4624 - val_loss: 1.1259 - val_Sparse_CategoricalCrossentropy: 1.1208 - val_accuracy: 0.5862\n"
     ]
    }
   ],
   "source": [
    "lr_schedule = tf.keras.optimizers.schedules.InverseTimeDecay(val_learning_rate, decay_steps = val_steps_per_epochs, \n",
    "                                                             decay_rate=1, staircase=False)\n",
    "optimizer = optimizers.Adam(lr_schedule)\n",
    "callback = [tf.keras.callbacks.EarlyStopping(monitor='Sparse_CategoricalCrossentropy', patience=120)]\n",
    "\n",
    "model54.compile(optimizer = optimizer, loss=tf.keras.losses.SparseCategoricalCrossentropy(from_logits=False), \n",
    "              metrics=[tf.keras.losses.SparseCategoricalCrossentropy(from_logits=False, name='Sparse_CategoricalCrossentropy'),\n",
    "                       'accuracy'])\n",
    "\n",
    "history54 = model54.fit(norm_train_img_ds,  epochs = 30, validation_data=(norm_val_img_ds), \n",
    "                    batch_size = val_batch_size, callbacks = callback)"
   ]
  },
  {
   "cell_type": "code",
   "execution_count": 122,
   "id": "f6215118",
   "metadata": {},
   "outputs": [
    {
     "data": {
      "text/plain": [
       "Text(0.5, 1.0, 'MLP CAE 2-Layer Learning-rate 5e-4')"
      ]
     },
     "execution_count": 122,
     "metadata": {},
     "output_type": "execute_result"
    },
    {
     "data": {
      "image/png": "[encoded data removed]",
      "text/plain": [
       "<Figure size 432x288 with 1 Axes>"
      ]
     },
     "metadata": {
      "needs_background": "light"
     },
     "output_type": "display_data"
    }
   ],
   "source": [
    "plt.plot(history54.history['accuracy'], label='Accuracy')\n",
    "plt.plot(history54.history['val_accuracy'], label = 'Val-Accuracy')\n",
    "plt.plot(history54.history['loss'], label = 'Loss')\n",
    "plt.plot(history54.history['val_loss'], label = 'Val-Loss')\n",
    "plt.xlabel('Epoch')\n",
    "plt.ylabel('Metrics')\n",
    "plt.ylim([0.2, 2.1])\n",
    "plt.legend(loc='lower right')\n",
    "plt.title('MLP CAE 2-Layer Learning-rate 5e-4')"
   ]
  },
  {
   "cell_type": "code",
   "execution_count": 123,
   "id": "a0225613",
   "metadata": {},
   "outputs": [
    {
     "name": "stdout",
     "output_type": "stream",
     "text": [
      "1/1 - 0s - loss: 1.1964 - Sparse_CategoricalCrossentropy: 1.1964 - accuracy: 0.5556 - 71ms/epoch - 71ms/step\n",
      "0.5555555820465088\n",
      "1/1 - 0s - loss: 1.2001 - Sparse_CategoricalCrossentropy: 1.2001 - accuracy: 0.5556 - 71ms/epoch - 71ms/step\n",
      "0.5555555820465088\n"
     ]
    }
   ],
   "source": [
    "test_loss, test_sparse_entropy, test_acc = model54.evaluate(test_img_ds,  verbose=2)\n",
    "print(test_acc)\n",
    "\n",
    "test_loss, test_sparse_entropy, test_acc = model54.evaluate(norm_test_img_ds,  verbose=2)\n",
    "print(test_acc)"
   ]
  },
  {
   "cell_type": "code",
   "execution_count": null,
   "id": "43641120",
   "metadata": {},
   "outputs": [],
   "source": []
  },
  {
   "cell_type": "code",
   "execution_count": null,
   "id": "636fea9a",
   "metadata": {},
   "outputs": [],
   "source": []
  },
  {
   "cell_type": "code",
   "execution_count": null,
   "id": "c8e51ea1",
   "metadata": {},
   "outputs": [],
   "source": []
  },
  {
   "cell_type": "code",
   "execution_count": null,
   "id": "0fb0395a",
   "metadata": {},
   "outputs": [],
   "source": []
  },
  {
   "cell_type": "code",
   "execution_count": null,
   "id": "a9699e8f",
   "metadata": {},
   "outputs": [],
   "source": []
  },
  {
   "cell_type": "code",
   "execution_count": null,
   "id": "5433c594",
   "metadata": {},
   "outputs": [],
   "source": []
  },
  {
   "cell_type": "code",
   "execution_count": null,
   "id": "846e1c85",
   "metadata": {},
   "outputs": [],
   "source": []
  },
  {
   "cell_type": "code",
   "execution_count": null,
   "id": "49170edb",
   "metadata": {},
   "outputs": [],
   "source": []
  },
  {
   "cell_type": "code",
   "execution_count": null,
   "id": "e255b5bb",
   "metadata": {},
   "outputs": [],
   "source": []
  },
  {
   "cell_type": "code",
   "execution_count": null,
   "id": "705341a1",
   "metadata": {},
   "outputs": [],
   "source": []
  },
  {
   "cell_type": "code",
   "execution_count": null,
   "id": "e88130e4",
   "metadata": {},
   "outputs": [],
   "source": []
  },
  {
   "cell_type": "code",
   "execution_count": null,
   "id": "a8c1db6c",
   "metadata": {},
   "outputs": [],
   "source": []
  },
  {
   "cell_type": "code",
   "execution_count": null,
   "id": "cf256ace",
   "metadata": {},
   "outputs": [],
   "source": []
  },
  {
   "cell_type": "code",
   "execution_count": null,
   "id": "d0b3fcb7",
   "metadata": {},
   "outputs": [],
   "source": []
  },
  {
   "cell_type": "code",
   "execution_count": null,
   "id": "82aff52f",
   "metadata": {},
   "outputs": [],
   "source": []
  },
  {
   "cell_type": "code",
   "execution_count": null,
   "id": "765be39e",
   "metadata": {},
   "outputs": [],
   "source": []
  }
 ],
 "metadata": {
  "kernelspec": {
   "display_name": "Python 3 (ipykernel)",
   "language": "python",
   "name": "python3"
  },
  "language_info": {
   "codemirror_mode": {
    "name": "ipython",
    "version": 3
   },
   "file_extension": ".py",
   "mimetype": "text/x-python",
   "name": "python",
   "nbconvert_exporter": "python",
   "pygments_lexer": "ipython3",
   "version": "3.9.12"
  }
 },
 "nbformat": 4,
 "nbformat_minor": 5
}
